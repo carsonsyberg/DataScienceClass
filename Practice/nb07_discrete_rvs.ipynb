{
 "cells": [
  {
   "cell_type": "markdown",
   "metadata": {},
   "source": [
    "# Notebook 7: Discrete Random Variables and Distributions \n",
    "***\n",
    "\n",
    "In this notebook we'll get some more practice with discrete random variables and see how we can play with binomial distributions using Python.   \n",
    "\n",
    "We'll need Numpy and Matplotlib for this notebook, so let's load them.  We'll also need SciPy's binom function for computing binomial coefficients.  "
   ]
  },
  {
   "cell_type": "code",
   "execution_count": 2,
   "metadata": {},
   "outputs": [],
   "source": [
    "import numpy as np\n",
    "from math import factorial\n",
    "import matplotlib.pylab as plt \n",
    "from scipy.special import binom\n",
    "import itertools\n",
    "%matplotlib inline"
   ]
  },
  {
   "cell_type": "markdown",
   "metadata": {},
   "source": [
    "### Exercise 1 - Loaded Dice \n",
    "*** \n",
    "\n",
    "Consider a loaded six-sided die.  \n",
    "\n",
    "**Part A**: Suppose that the die is loaded such that you are twice as likely to roll either a $1$, $2$, or $3$, than you are to roll either a $4$, $5$, or $6$. Let $X$ be a random variable describing the die.  What is the probability mass function for $X$? "
   ]
  },
  {
   "cell_type": "code",
   "execution_count": 3,
   "metadata": {},
   "outputs": [
    {
     "data": {
      "text/plain": [
       "45.0"
      ]
     },
     "execution_count": 3,
     "metadata": {},
     "output_type": "execute_result"
    }
   ],
   "source": [
    "binom(10,2)"
   ]
  },
  {
   "cell_type": "markdown",
   "metadata": {},
   "source": [
    "**Part B**: Find the cumulative distribution function for $X$.  What is the probability that you roll a $4$ or lower with the loaded die? "
   ]
  },
  {
   "cell_type": "code",
   "execution_count": 7,
   "metadata": {},
   "outputs": [
    {
     "data": {
      "text/plain": [
       "array([1.00000000e-300, 9.99000000e-296, 4.94010495e-291, 1.61215385e-286,\n",
       "       3.90556361e-282, 7.49118345e-278, 1.18491794e-273, 1.58958435e-269,\n",
       "       1.84604391e-265, 1.88518004e-261, 1.71379833e-257, 1.40079643e-253,\n",
       "       1.03788510e-249, 7.01865804e-246, 4.35723305e-242, 2.49564880e-238,\n",
       "       1.32448761e-234, 6.53798249e-231, 3.01172164e-227, 1.29849586e-223,\n",
       "       5.25364931e-220, 1.99938882e-216, 7.17244388e-213, 2.42996162e-209,\n",
       "       7.78833073e-206, 2.36528489e-202, 6.81611425e-199, 1.86625208e-195,\n",
       "       4.86072020e-192, 1.20559270e-188, 2.85038281e-185, 6.42991194e-182,\n",
       "       1.38506331e-178, 2.85121579e-175, 5.61295371e-172, 1.05738426e-168,\n",
       "       1.90725685e-165, 3.29573984e-162, 5.45852575e-159, 8.66897867e-156,\n",
       "       1.32069723e-152, 1.93079492e-149, 2.70959485e-146, 3.65114755e-143,\n",
       "       4.72516579e-140, 5.87432611e-137, 7.01662714e-134, 8.05359505e-131,\n",
       "       8.88361869e-128, 9.41808620e-125, 9.59684148e-122, 9.39925945e-119,\n",
       "       8.84813748e-116, 8.00539413e-113, 6.96069019e-110, 5.81584649e-107,\n",
       "       4.66877463e-104, 3.60036241e-101, 2.66656497e-098, 1.89633446e-095,\n",
       "       1.29453272e-092, 8.48025038e-090, 5.32901670e-087, 3.21111320e-084,\n",
       "       1.85456840e-081, 1.02611843e-078, 5.43609558e-076, 2.75585705e-073,\n",
       "       1.33606382e-070, 6.19004175e-068, 2.73856290e-065, 1.15598211e-062,\n",
       "       4.65138303e-060, 1.78230803e-057, 6.49651276e-055, 2.24987230e-052,\n",
       "       7.39349483e-050, 2.30216145e-047, 6.78163638e-045, 1.88666841e-042,\n",
       "       4.94755207e-040, 1.22039618e-037, 2.82491949e-035, 6.12020510e-033,\n",
       "       1.23737432e-030, 2.32684602e-028, 4.05439391e-026, 6.51778773e-024,\n",
       "       9.61892150e-022, 1.29563630e-019, 1.58197193e-017, 1.73669226e-015,\n",
       "       1.69723914e-013, 1.45853067e-011, 1.08505372e-009, 6.84611788e-008,\n",
       "       3.56212071e-006, 1.46744684e-004, 4.48769202e-003, 9.05697845e-002,\n",
       "       9.04792147e-001])"
      ]
     },
     "execution_count": 7,
     "metadata": {},
     "output_type": "execute_result"
    }
   ],
   "source": [
    "def binomial_pmf(n, p):\n",
    "    # n is a positive integer, p is in interval [0, 1]\n",
    "    #for a single x...\n",
    "    # pmf = binom(n,x)* (p**x)*((1-p)**(n-x))\n",
    "    pmf = np.array([binom(n,x)* (p**x)*((1-p)**(n-x)) for x in range(n+1)])\n",
    "    return pmf\n",
    "\n",
    "# 1st index is prob of 0 successes, last is prob of all success (in 100 tries w/ success prob 0.999)\n",
    "binomial_pmf(100,0.999)"
   ]
  },
  {
   "cell_type": "markdown",
   "metadata": {},
   "source": [
    "### Exercise 2 - Implementing and Sampling the Binomial Distribution \n",
    "***\n",
    "\n",
    "**Part A**: Write a function that takes in the parameters of the binomial distribution, $n$ and $p$, and returns the probability mass function as a Numpy array. In order to get the coefficient in the binomial distribution, you'll need a way to compute ${n \\choose k}$.  You can do this from scratch using Python's factorial function, or you can get the value directly using Scipy's canned function [binom](https://docs.scipy.org/doc/scipy-0.14.0/reference/generated/scipy.special.binom.html).  "
   ]
  },
  {
   "cell_type": "code",
   "execution_count": null,
   "metadata": {},
   "outputs": [],
   "source": [
    "def binomial_pmf(n, p):\n",
    "    \n",
    "    pmf = # your code goes here!\n",
    "    \n",
    "    return pmf"
   ]
  },
  {
   "cell_type": "markdown",
   "metadata": {},
   "source": [
    "**Part B**: So now you know the exact distribution of a binomial random variable, but very frequently we'll want to generate samples from that distribution.  You can do that with Numpy's [binomial](https://docs.scipy.org/doc/numpy-1.13.0/reference/generated/numpy.random.binomial.html) function. Read the documentation, and then try drawing 20 samples from _Bin(n,p)_ for $n=10$ and $p=0.25$.  "
   ]
  },
  {
   "cell_type": "code",
   "execution_count": 8,
   "metadata": {},
   "outputs": [
    {
     "data": {
      "text/plain": [
       "array([0, 0, 0, 2, 1, 0, 0, 0, 1, 1])"
      ]
     },
     "execution_count": 8,
     "metadata": {},
     "output_type": "execute_result"
    }
   ],
   "source": [
    "np.random.binomial(n=10, p=0.06, size = 10)"
   ]
  },
  {
   "cell_type": "markdown",
   "metadata": {},
   "source": [
    "**Part C**: We can approximate the pmf of _Bin(n,p)_ by drawing many many samples from the distribution and plotting a **density** histogram.  Do this now.  Additionally, use the function you wrote in **Part A** to get the exact density, and plot the distribution directly below the histogram of your sampled distribution.  How do they compare?  What happens if you use more or fewer samples in the histogram? "
   ]
  },
  {
   "cell_type": "code",
   "execution_count": null,
   "metadata": {},
   "outputs": [],
   "source": []
  },
  {
   "cell_type": "markdown",
   "metadata": {},
   "source": [
    "### Exercise 3 - Predicting Play-off Winners \n",
    "***\n",
    "\n",
    "In this exercise we'll look at the probability of your favorite sports team winning a best-of-7 play-off series. Suppose your team is the slight favorite in the series and in each individual game has a probability of winning of $p = 0.55$. \n",
    "\n",
    "**Part A**: What is the probability that your team wins the series? "
   ]
  },
  {
   "cell_type": "code",
   "execution_count": null,
   "metadata": {
    "collapsed": true
   },
   "outputs": [],
   "source": [
    "# counting the probability that we see 4 wins before we see 4 losses\n",
    "# just a negative binomial"
   ]
  },
  {
   "cell_type": "markdown",
   "metadata": {},
   "source": [
    "**Part B**: How often will an underdog with a winning probability of 45% win a best-of-7 series?  Is this underdog more likely to win a series if it's shorter, say best-of-5 or best-of-3? "
   ]
  },
  {
   "cell_type": "code",
   "execution_count": null,
   "metadata": {
    "collapsed": true
   },
   "outputs": [],
   "source": []
  },
  {
   "cell_type": "markdown",
   "metadata": {},
   "source": [
    "This example is not particularly realistic because it does not consider home-field advantage.  Typically teams will play better (and thus have a higher probability of winning) when they play at their home field.  Suppose that your team hosts Games 1, 2, 6, and 7 at home, and plays away in Games 3, 4, and 5.  Suppose that when your team plays at home, they win with probability $p = 0.6$ and when they're on the road they win with only probability $q=0.5$.  \n",
    "\n",
    "**Part C**: Is the probability that your team wins $k$ of the $n$ games still well-described by a binomial distribution?  Why or why not?  You might consider reading [this article](https://fivethirtyeight.com/features/why-cant-the-rockies-hit-outside-the-rockies/) for some inspiration, especially if you are a Rockies fan!"
   ]
  },
  {
   "cell_type": "code",
   "execution_count": null,
   "metadata": {
    "collapsed": true
   },
   "outputs": [],
   "source": []
  },
  {
   "cell_type": "markdown",
   "metadata": {},
   "source": [
    "**Part D**: What is the probability that your team wins the 7-game series under the above conditions?\n",
    "\n",
    "The best way to tackle this problem is probably to work out a few smaller probabilities by hand, and then write some code to calculate the probabilities in general.  Also, you may find the `itertools` package useful, specifically the [`itertools.combinations` method](https://docs.python.org/3/library/itertools.html#itertools.combinations).\n",
    "\n",
    "Some starter code for you to play around with and potentially incorporate into a function is given below.  The call to `itertools.combinations` below iterates the tuple `combo` over all possible combinations of 3 elements out of the list (or array-like object) in the first argument. In this case, that is the first 5 non-negative integers (`range(5)`)."
   ]
  },
  {
   "cell_type": "code",
   "execution_count": null,
   "metadata": {
    "collapsed": true
   },
   "outputs": [],
   "source": [
    "# starter code you can play with to see how it works, then hopefully integrate into a function\n",
    "for combo in itertools.combinations(range(5), 3):\n",
    "    print(combo)"
   ]
  },
  {
   "cell_type": "markdown",
   "metadata": {},
   "source": [
    "**Part E**: Now suppose that the teams are evenly matched in the sense that your team wins with probability $p=0.55$ when playing at home and wins with only probability $q = (1-p) = 0.45$ when playing away.  How much of a difference does home-field advantage make? "
   ]
  },
  {
   "cell_type": "code",
   "execution_count": null,
   "metadata": {
    "collapsed": true
   },
   "outputs": [],
   "source": []
  }
 ],
 "metadata": {
  "kernelspec": {
   "display_name": "Python 3",
   "language": "python",
   "name": "python3"
  },
  "language_info": {
   "codemirror_mode": {
    "name": "ipython",
    "version": 3
   },
   "file_extension": ".py",
   "mimetype": "text/x-python",
   "name": "python",
   "nbconvert_exporter": "python",
   "pygments_lexer": "ipython3",
   "version": "3.8.3"
  }
 },
 "nbformat": 4,
 "nbformat_minor": 2
}
