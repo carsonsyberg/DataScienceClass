{
 "cells": [
  {
   "cell_type": "markdown",
   "metadata": {},
   "source": [
    "# Pandas Tutorial #"
   ]
  },
  {
   "cell_type": "code",
   "execution_count": 14,
   "metadata": {},
   "outputs": [],
   "source": [
    "import pandas as pd\n",
    "import numpy as np"
   ]
  },
  {
   "cell_type": "code",
   "execution_count": 17,
   "metadata": {},
   "outputs": [
    {
     "data": {
      "text/plain": [
       "a    0.578465\n",
       "b   -0.909595\n",
       "c    0.136186\n",
       "d   -1.025360\n",
       "e   -0.079324\n",
       "dtype: float64"
      ]
     },
     "execution_count": 17,
     "metadata": {},
     "output_type": "execute_result"
    }
   ],
   "source": [
    "n = np.random.randn(5)\n",
    "index = ['a', 'b', 'c', 'd', 'e']\n",
    "s2 = pd.Series(n, index=index)\n",
    "s2\n",
    "\n"
   ]
  },
  {
   "cell_type": "code",
   "execution_count": 23,
   "metadata": {},
   "outputs": [
    {
     "data": {
      "text/plain": [
       "0     6.0\n",
       "1     8.0\n",
       "2    10.0\n",
       "3    12.0\n",
       "4     9.0\n",
       "5     NaN\n",
       "6     NaN\n",
       "dtype: float64"
      ]
     },
     "execution_count": 23,
     "metadata": {},
     "output_type": "execute_result"
    }
   ],
   "source": [
    "# slicing\n",
    "s2 = s2[:3]\n",
    "s2\n",
    "\n",
    "# Series Operations\n",
    "arr1 = [0, 1, 2,3, 4, 5,7]\n",
    "arr2 = [6, 7, 8, 9, 5]\n",
    "\n",
    "s5 = pd.Series(arr2)\n",
    "s6 = pd.Series(arr1)\n",
    "\n",
    "s5.add(s6)"
   ]
  },
  {
   "cell_type": "code",
   "execution_count": 51,
   "metadata": {},
   "outputs": [
    {
     "data": {
      "text/html": [
       "<div>\n",
       "<style scoped>\n",
       "    .dataframe tbody tr th:only-of-type {\n",
       "        vertical-align: middle;\n",
       "    }\n",
       "\n",
       "    .dataframe tbody tr th {\n",
       "        vertical-align: top;\n",
       "    }\n",
       "\n",
       "    .dataframe thead th {\n",
       "        text-align: right;\n",
       "    }\n",
       "</style>\n",
       "<table border=\"1\" class=\"dataframe\">\n",
       "  <thead>\n",
       "    <tr style=\"text-align: right;\">\n",
       "      <th></th>\n",
       "      <th>A</th>\n",
       "      <th>B</th>\n",
       "      <th>C</th>\n",
       "      <th>D</th>\n",
       "    </tr>\n",
       "  </thead>\n",
       "  <tbody>\n",
       "    <tr>\n",
       "      <th>2021-02-06 13:48:05.917232</th>\n",
       "      <td>-0.115591</td>\n",
       "      <td>0.337109</td>\n",
       "      <td>1.398111</td>\n",
       "      <td>-0.746825</td>\n",
       "    </tr>\n",
       "    <tr>\n",
       "      <th>2021-02-07 13:48:05.917232</th>\n",
       "      <td>-1.642177</td>\n",
       "      <td>-0.572493</td>\n",
       "      <td>-0.884783</td>\n",
       "      <td>-0.584389</td>\n",
       "    </tr>\n",
       "    <tr>\n",
       "      <th>2021-02-08 13:48:05.917232</th>\n",
       "      <td>0.806030</td>\n",
       "      <td>0.259128</td>\n",
       "      <td>0.061607</td>\n",
       "      <td>0.099424</td>\n",
       "    </tr>\n",
       "    <tr>\n",
       "      <th>2021-02-09 13:48:05.917232</th>\n",
       "      <td>-1.480163</td>\n",
       "      <td>-0.498795</td>\n",
       "      <td>0.280281</td>\n",
       "      <td>-0.841164</td>\n",
       "    </tr>\n",
       "    <tr>\n",
       "      <th>2021-02-10 13:48:05.917232</th>\n",
       "      <td>-0.090154</td>\n",
       "      <td>-0.321470</td>\n",
       "      <td>0.038677</td>\n",
       "      <td>0.063516</td>\n",
       "    </tr>\n",
       "    <tr>\n",
       "      <th>2021-02-11 13:48:05.917232</th>\n",
       "      <td>-0.635440</td>\n",
       "      <td>0.760021</td>\n",
       "      <td>0.673840</td>\n",
       "      <td>1.208604</td>\n",
       "    </tr>\n",
       "  </tbody>\n",
       "</table>\n",
       "</div>"
      ],
      "text/plain": [
       "                                   A         B         C         D\n",
       "2021-02-06 13:48:05.917232 -0.115591  0.337109  1.398111 -0.746825\n",
       "2021-02-07 13:48:05.917232 -1.642177 -0.572493 -0.884783 -0.584389\n",
       "2021-02-08 13:48:05.917232  0.806030  0.259128  0.061607  0.099424\n",
       "2021-02-09 13:48:05.917232 -1.480163 -0.498795  0.280281 -0.841164\n",
       "2021-02-10 13:48:05.917232 -0.090154 -0.321470  0.038677  0.063516\n",
       "2021-02-11 13:48:05.917232 -0.635440  0.760021  0.673840  1.208604"
      ]
     },
     "execution_count": 51,
     "metadata": {},
     "output_type": "execute_result"
    }
   ],
   "source": [
    "# Dataframe\n",
    "dates = pd.date_range('today', periods = 6) # define time sequence as index\n",
    "numm_arr = np.random.randn(6, 4) # import numpy random array 6 rows 4 columns\n",
    "columns = ['A', 'B', 'C', 'D'] # use the table as the column name\n",
    "\n",
    "df1 = pd.DataFrame(numm_arr, index=dates, columns=columns)\n",
    "df1.head()\n",
    "\n",
    "df1.index\n",
    "# gets list of the indexes\n",
    "\n",
    "df1.columns\n",
    "# gets list of the column names\n",
    "\n",
    "df1.values \n",
    "# converts back to array pretty much\n",
    "\n",
    "\n",
    "df1.describe()\n",
    "\n",
    "# transposing flips the columns and indices\n",
    "df1.T\n",
    "\n",
    "# sorting also workks\n",
    "df1.sort_values(by='A')\n",
    "\n",
    "#slicing the dataframe or use df1.iloc[1:3]\n",
    "df1[1:3]\n",
    "\n",
    "# query by column name\n",
    "df1[['A', 'C']]\n",
    "\n",
    "# copying\n",
    "df3 = df1.copy()\n",
    "df3\n",
    "\n",
    "# returns boolean dataframe with true in any spot with null inside, false in any spot without null values\n",
    "df3.isnull()\n",
    "\n",
    "# uses the variables on the left\n",
    "df3.loc['2021-02-11 13:40:15.090654', 'A'] = 1.5\n",
    "df3 \n",
    "# this is changing the actual dataframe value at that index of the 2d array frame\n",
    "\n",
    "# for missing values in dataframes\n",
    "df4 = df3.copy()\n",
    "df4.fillna(4)\n",
    "df4['D'].fillna(5)\n",
    "df4\n",
    "# fills in any NaN's with the value inside the function call\n",
    "\n",
    "# to drop any row that has missing data in it\n",
    "df5 = df4.copy()\n",
    "df5 = df5.dropna(how='any')\n",
    "df5"
   ]
  }
 ],
 "metadata": {
  "kernelspec": {
   "display_name": "Python 3",
   "language": "python",
   "name": "python3"
  },
  "language_info": {
   "codemirror_mode": {
    "name": "ipython",
    "version": 3
   },
   "file_extension": ".py",
   "mimetype": "text/x-python",
   "name": "python",
   "nbconvert_exporter": "python",
   "pygments_lexer": "ipython3",
   "version": "3.8.3"
  }
 },
 "nbformat": 4,
 "nbformat_minor": 4
}
