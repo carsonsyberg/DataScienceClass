{
 "cells": [
  {
   "cell_type": "markdown",
   "metadata": {},
   "source": [
    "# Pandas Tutorial #"
   ]
  },
  {
   "cell_type": "code",
   "execution_count": 14,
   "metadata": {},
   "outputs": [],
   "source": [
    "import pandas as pd\n",
    "import numpy as np"
   ]
  },
  {
   "cell_type": "code",
   "execution_count": 17,
   "metadata": {},
   "outputs": [
    {
     "data": {
      "text/plain": [
       "a    0.578465\n",
       "b   -0.909595\n",
       "c    0.136186\n",
       "d   -1.025360\n",
       "e   -0.079324\n",
       "dtype: float64"
      ]
     },
     "execution_count": 17,
     "metadata": {},
     "output_type": "execute_result"
    }
   ],
   "source": [
    "n = np.random.randn(5)\n",
    "index = ['a', 'b', 'c', 'd', 'e']\n",
    "s2 = pd.Series(n, index=index)\n",
    "s2\n",
    "\n"
   ]
  },
  {
   "cell_type": "code",
   "execution_count": 23,
   "metadata": {},
   "outputs": [
    {
     "data": {
      "text/plain": [
       "0     6.0\n",
       "1     8.0\n",
       "2    10.0\n",
       "3    12.0\n",
       "4     9.0\n",
       "5     NaN\n",
       "6     NaN\n",
       "dtype: float64"
      ]
     },
     "execution_count": 23,
     "metadata": {},
     "output_type": "execute_result"
    }
   ],
   "source": [
    "# slicing\n",
    "s2 = s2[:3]\n",
    "s2\n",
    "\n",
    "# Series Operations\n",
    "arr1 = [0, 1, 2,3, 4, 5,7]\n",
    "arr2 = [6, 7, 8, 9, 5]\n",
    "\n",
    "s5 = pd.Series(arr2)\n",
    "s6 = pd.Series(arr1)\n",
    "\n",
    "s5.add(s6)"
   ]
  },
  {
   "cell_type": "code",
   "execution_count": 33,
   "metadata": {},
   "outputs": [
    {
     "data": {
      "text/plain": [
       "array([[ 0.61546274, -0.68562737, -1.04463769,  0.72943353],\n",
       "       [ 0.00555599,  0.63752537,  0.04720222,  0.02723001],\n",
       "       [ 0.78574335, -0.27134925, -1.50450519, -0.57218956],\n",
       "       [ 0.3680049 , -0.35741581,  0.5199519 , -1.11520627],\n",
       "       [-0.26124238, -0.21293604, -1.10309576,  0.60843651],\n",
       "       [ 0.23203795,  0.27125819,  0.43746779,  0.79033785]])"
      ]
     },
     "execution_count": 33,
     "metadata": {},
     "output_type": "execute_result"
    }
   ],
   "source": [
    "# Dataframe\n",
    "dates = pd.date_range('today', periods = 6) # define time sequence as index\n",
    "numm_arr = np.random.randn(6, 4) # import numpy random array\n",
    "columns = ['A', 'B', 'C', 'D'] # use the table as the column name\n",
    "\n",
    "df1 = pd.DataFrame(numm_arr, index=dates, columns=columns)\n",
    "df1.head()\n",
    "\n",
    "df1.index\n",
    "# gets list of the indexes\n",
    "\n",
    "df1.columns\n",
    "# gets list of the column names\n",
    "\n",
    "df1.values \n",
    "# converts back to array pretty much\n"
   ]
  }
 ],
 "metadata": {
  "kernelspec": {
   "display_name": "Python 3",
   "language": "python",
   "name": "python3"
  },
  "language_info": {
   "codemirror_mode": {
    "name": "ipython",
    "version": 3
   },
   "file_extension": ".py",
   "mimetype": "text/x-python",
   "name": "python",
   "nbconvert_exporter": "python",
   "pygments_lexer": "ipython3",
   "version": "3.8.3"
  }
 },
 "nbformat": 4,
 "nbformat_minor": 4
}
