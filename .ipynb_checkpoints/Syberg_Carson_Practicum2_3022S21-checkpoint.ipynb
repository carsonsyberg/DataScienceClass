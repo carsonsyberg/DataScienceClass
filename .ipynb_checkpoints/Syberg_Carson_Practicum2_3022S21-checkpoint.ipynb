{
 "cells": [
  {
   "cell_type": "markdown",
   "metadata": {},
   "source": [
    "<a id='top'></a>\n",
    "\n",
    "# CSCI 3022: Intro to Data Science - Spring 2021 Practicum 2\n",
    "***\n",
    "\n",
    "\n",
    "**Here are the rules:** \n",
    "\n",
    "1. All work, code and analysis, must be your own. \n",
    "2. You may use your course notes, posted lecture slides, textbooks, in-class notebooks, and homework solutions as resources.  You may also search online for answers to general knowledge questions like the form of a probability distribution function or how to perform a particular operation in Python/Pandas. \n",
    "3. This is meant to be like a coding portion of your midterm exam. So, the instructional team will be a bit less helpful than we typically are with homework. For example, we will not check answers, significantly debug your code, and so on.  But please don't feel like you're totally alone on this: **feel free to ask questions or ask for help**, and we will decide how best to provide that assistance.\n",
    "4. If something is left open-ended, it is because we want to see how you approach the kinds of problems you will encounter in the wild, where it will not always be clear what sort of tests/methods should be applied. Feel free to ask clarifying questions though.\n",
    "5. You may **NOT** post to message boards or other online resources asking for help, except Piazza.\n",
    "6. You may **NOT** copy-paste solutions *from anywhere*.\n",
    "7. You may **NOT** collaborate with classmates or anyone else.\n",
    "8. In short, **your work must be your own**. It really is that simple.\n",
    "\n",
    "Violation of the above rules will result in an immediate academic sanction (*at the very least*, you will receive a 0 on this practicum or an F in the course, depending on severity), and a trip to the Honor Code Council.\n",
    "\n",
    "**By submitting this assignment, you agree to abide by the rules given above.**\n",
    "\n",
    "***\n",
    "\n",
    "**NOTES**: \n",
    "\n",
    "- You may not use late days on the practicums nor can you drop your practicum grades. \n",
    "- If you have a question for us, post it as a **PRIVATE** message on Piazza.  If we decide that the question is appropriate for the entire class, then we will add it to a Practicum clarifications thread.\n",
    "- Do **NOT** load or use any Python packages that are not available in Anaconda 3.6. The practicum is designed to be completed using only the packages in the first given code cell.\n",
    "- Some problems with code may be autograded.  If we provide a function API **do not** change it.  If we do not provide a function API then you're free to structure your code however you like. \n",
    "- Submit only this Jupyter notebook to Canvas.  Do not compress it using tar, rar, zip, etc. \n",
    "- This should go without saying, but... For any question that asks you to calculate something, you **must show all work to receive credit**. Sparse or nonexistent work will receive sparse or nonexistent credit.\n",
    "\n",
    "---\n",
    "**Shortcuts:**  [Problem 1](#p1) | [Problem 2](#p2) | [Bottom](#bot)\n",
    "\n",
    "---"
   ]
  },
  {
   "cell_type": "code",
   "execution_count": 1,
   "metadata": {},
   "outputs": [],
   "source": [
    "##Get them stats in here\n",
    "import numpy as np \n",
    "import pandas as pd \n",
    "from scipy import stats\n",
    "import statsmodels.api as sm\n",
    "import matplotlib.pylab as plt \n",
    "from patsy import dmatrices\n",
    "import seaborn as sns\n",
    "import itertools\n",
    "%matplotlib inline"
   ]
  },
  {
   "cell_type": "markdown",
   "metadata": {},
   "source": [
    "<br>\n",
    "\n",
    "---\n",
    "[Back to top](#top)\n",
    "<a id='p1'></a>\n",
    "\n",
    "## [50 points] Problem 1: What makes a good shuffle?\n",
    "\n",
    "Our goal in this problem is understand something about the statistics of shuffling: what makes a good shuffle?  Can we compare the order of cards in the deck to an original (sorted) order to determine whether or not the deck appears randomized?\n",
    "\n",
    "In all cases in this problem, we can view a deck as having all unique cards: the standard 52-card playing deck could be represented by integer card identifiers $[0, 1, 2, 3, \\dots, 51]$, and a *shuffle* of the deck is a random *permutation* of those 52 indentifiers.\n",
    "\n",
    "In part 1 of this problem, we explore a sample statistic that reduces the order of the cards into a single measurement."
   ]
  },
  {
   "cell_type": "markdown",
   "metadata": {},
   "source": [
    "### Problem 1 Part 1: The Statistic\n",
    "** Part 1 A: Implementing the statistic.**\n",
    "\n",
    "The most common *single* statistic used for tracking the randomness of a shuffle is the count of *rising sequences* in that list's indices.  A rising sequence is a sequence of cards that appear in the same order that they did in the original deck, even if some other cards are in between.  For example, if the deck is represented by integers 0-10, card '1' will be part of the same rising sequence as card '0' as long as '1' occurs after '0' in the shuffled deck.  '2' would be part of the same sequence as long as it is after '1'.\n",
    "\n",
    "A visualization of counting these can be found on page 2 [of this paper](https://statweb.stanford.edu/~cgates/PERSI/papers/bayer92.pdf).  **Look over the images in the paper before proceeding.**\n",
    "\n",
    "\n",
    "\n",
    "Implement the `rising_seqs` function that takes in a list of integers and returns the number of rising sequences of that list.\n",
    "\n",
    "Overview of the function:\n",
    "- Find the indices for the permutation of deck that *would* represent a perfect sort of the deck.   Check `np.argsort` for a quick way to do this.  For example, the deck [3,0,2,1] has sorted permutation of [1,3,2,0], since we find the value 0 in index 1, then the value 1 in index 3, and so forth.\n",
    "- Count the number of times that the indices in this permutation decrease; e.g. the number of times that index $i$ has a value *more* than index $i+1$.  This represents a location where in the **shuffled** deck, a rising sequence would have been broken or ended, requiring us to start a new sequence.  The total count of rising sequences is 1 plus this value.\n",
    "- Return the number of rising sequences.\n",
    "- You may assume the deck's values are all integers and begin at 0, although neither assumption should be necessary.\n",
    "\n"
   ]
  },
  {
   "cell_type": "code",
   "execution_count": 2,
   "metadata": {},
   "outputs": [],
   "source": [
    "def rising_seqs(deck):\n",
    "    cardList = deck.copy()\n",
    "#     print(cardList)\n",
    "    \n",
    "    currMaxIndex = len(deck)\n",
    "    numRiseSeq = 0\n",
    "    \n",
    "    # while the list of cards is non-empty\n",
    "    while(len(cardList) > 0):\n",
    "        index = 0\n",
    "        check_index = 1\n",
    "        found_seq = 0\n",
    "        \n",
    "#         print(\"Before deck: \", cardList)\n",
    "        # stop when check is out of bounds\n",
    "        while(index+check_index < currMaxIndex):\n",
    "            # check for value of cardList[index] + 1 ahead in the list\n",
    "#             print(cardList[index], \" <- cardList[\", index, \"] =?= cardList[\", index+check_index, \"] -> \", cardList[index+check_index])\n",
    "            if(cardList[index]+1 == cardList[index+check_index]):\n",
    "                # if so, need to do a bunch of things\n",
    "                # first, mark that we have indeed found a sequence\n",
    "                found_seq = 1\n",
    "                # next, delete cardList[index] from the list, as it won't be in any other sequences\n",
    "                cardList = np.delete(cardList, [index])\n",
    "#                 print(\"removed above\")\n",
    "                # then, update index to index+check_index-1 (the -1 included as we just shrunk the list size)\n",
    "                currMaxIndex -= 1\n",
    "                index = index + check_index - 1\n",
    "                # lastly, update check_index to 1\n",
    "                check_index = 1\n",
    "            else:\n",
    "                # did not find value of cardList[index] + 1 ahead in the list, look further\n",
    "                check_index += 1\n",
    "        \n",
    "        # looped through from a starting index and found no + 1 \n",
    "        # means that index is a sequence on its own\n",
    "        if(not(found_seq)):\n",
    "#             print(\"Removed last of seq: \", cardList[index])\n",
    "            cardList = np.delete(cardList, [index])\n",
    "#             print(\"removed below\")\n",
    "            found_seq = 1\n",
    "            currMaxIndex -= 1\n",
    "            index = 0\n",
    "            check_index = 1\n",
    "            numRiseSeq += 1\n",
    "        \n",
    "# #         print(\"After deck: \", cardList)\n",
    "#         if(found_seq):\n",
    "#             numRiseSeq += 1\n",
    "            \n",
    "    return numRiseSeq"
   ]
  },
  {
   "cell_type": "markdown",
   "metadata": {},
   "source": [
    "** Part 1 B: Trying out the statistic.**\n",
    "\n",
    "Try out your statistic on a few quick test cases to make sure it's working.\n",
    "\n",
    "Some examples to sanity check your function.\n",
    "- [0,1,2,3,4,5,6,7] has only one rising sequence.\n",
    "- [7,6,5,4,3,2,1,0] has 8 rising sequences: each term is its own.\n",
    "- [3,1,2,0] has 3 rising sequence: [0], [1,2], [3].\n",
    "- [0,2,3,5,1,4,7,6] has the 4 rising sequences of [0,1], [2,3,4], [5,6], and [7].\n",
    "\n"
   ]
  },
  {
   "cell_type": "code",
   "execution_count": 3,
   "metadata": {},
   "outputs": [],
   "source": [
    "test1=rising_seqs(np.array([0, 1, 2, 3, 4, 5, 6, 7]))\n",
    "assert test1 == 1, 'Failed check 1'\n",
    "\n",
    "test2=rising_seqs(np.array([7,6,5,4,3,2,1,0]))\n",
    "assert test2 == 8, 'Failed check 2'\n",
    "\n",
    "test3=rising_seqs(np.array([3,1,2,0]))\n",
    "assert test3 == 3, 'Failed check 3'\n",
    "\n",
    "test4=rising_seqs(np.array([0,2,3,5,1,4,7,6]))\n",
    "assert test4 == 4, 'Failed check 4'"
   ]
  },
  {
   "cell_type": "markdown",
   "metadata": {},
   "source": [
    "** Part 1 C: Bootstrapping.**\n",
    "\n",
    "What represents a well shuffled deck?  Take a 52-card deck (or the integer list $[0,1,2,\\dots ,51]$) and use np.random.shuffle or np.random.permutation to generate 10000 random permutations.  For each, compute and save their counts of rising sequences.\n",
    "\n",
    "Make a histogram of those rising sequences and print out the mean, 2.5\\% percentile and 97.5\\% percentile.\n",
    "\n"
   ]
  },
  {
   "cell_type": "code",
   "execution_count": 7,
   "metadata": {},
   "outputs": [
    {
     "name": "stdout",
     "output_type": "stream",
     "text": [
      "Mean number of rising sequences:  26.504549545045496\n",
      "2.5% percentile:  22.0\n",
      "97.5% percentile:  31.0\n"
     ]
    },
    {
     "data": {
      "image/png": "[encoded data removed]",
      "text/plain": [
       "<Figure size 432x288 with 1 Axes>"
      ]
     },
     "metadata": {
      "needs_background": "light"
     },
     "output_type": "display_data"
    }
   ],
   "source": [
    "# take 52 card deck -> int list [0, ... ,51] and use np.random.shuffle to generate 10000 permutations\n",
    "# for each, compute and save count of rise_seq\n",
    "cards = np.array([i for i in range(0, 52)])\n",
    "numRisingList = np.array([])\n",
    "for i in range(10001):\n",
    "    deck = np.copy(cards)\n",
    "    np.random.shuffle(deck)\n",
    "    rise_seq = rising_seqs(deck)\n",
    "    numRisingList = np.append(numRisingList, rise_seq)\n",
    "\n",
    "fig, ax = plt.subplots();\n",
    "ax.hist(numRisingList, bins=16);\n",
    "ax.set(title=\"Number of Rising Sequences in 10000 Different Decks\", ylabel='number of decks', xlabel='number of sequences');\n",
    "\n",
    "mean = np.mean(numRisingList)\n",
    "std = np.std(numRisingList)\n",
    "print(\"Mean number of rising sequences: \", mean)\n",
    "print(\"2.5% percentile: \", np.percentile(numRisingList, 2.5))\n",
    "print(\"97.5% percentile: \", np.percentile(numRisingList, 97.5))"
   ]
  },
  {
   "cell_type": "markdown",
   "metadata": {},
   "source": [
    "** Part 1 D: The Bootstrapped test.**\n",
    "    \n",
    "We wish to test the null hypothesis \"the deck is well-shuffled\" against the alternative \"the deck is not well-shuffled,\" using the *test statistic* of rising sequences.  In plain English, what is the *rejection rejection* of such a test?  When would we decide that a given ordering is not a good shuffle?  Use a 95% significance, as suggested by the interval in part 1C."
   ]
  },
  {
   "cell_type": "code",
   "execution_count": 10,
   "metadata": {},
   "outputs": [
    {
     "name": "stdout",
     "output_type": "stream",
     "text": [
      "1.654446902994952\n",
      "-1.6587536330187678\n",
      "30.0\n",
      "23.0\n"
     ]
    }
   ],
   "source": [
    "Z = (numRisingList - mean)/std\n",
    "z_alpha = np.percentile(Z, 95)\n",
    "z_alpha_low = np.percentile(Z, 5)\n",
    "print(z_alpha)\n",
    "print(z_alpha_low)\n",
    "x_alpha = z_alpha*std + mean\n",
    "x_alpha_low = z_alpha_low*std + mean\n",
    "print(x_alpha)\n",
    "print(x_alpha_low)"
   ]
  },
  {
   "cell_type": "markdown",
   "metadata": {},
   "source": [
    "The rejection region would be numbers of rising sequences greater than 30 or less than 23. We would decide that a given ordering is not a good shuffle if it had more than 30 rising sequences or had less than 23 rising sequences, everything inbetween would lead to accepting the null hypothesis, that the deck is well-shuffled. "
   ]
  },
  {
   "cell_type": "markdown",
   "metadata": {},
   "source": [
    "### Problem 1 Part 2: How to Shuffle\n",
    "\n",
    "A \"perfect riffle\" shuffle is a shuffle in which a deck is divided exactly in half, and then a new deck order is formed by alternating one-card-at-a-time from each half.  Depending on whether or not the top or first card of the interleaving came from the top half of the deck or the bottom half of the deck this is called an *out-shuffle* or *in-shuffle*, respectively.\n",
    "\n",
    "** Part 2 A: The out-shuffle.**\n",
    "\n",
    "Write a function that performs a perfect out-shuffle of a deck.  This function should take an ordered list of length $n$ and:\n",
    "\n",
    "- breaks the deck in half, with the \"top\" of the deck being the first $n/2$ elements and the \"bottom\" of the deck being the last $n/2$ elements.\n",
    "- creates a new ordered list generated by interweaving one card from the top pile, *then* one card from the \"bottom\" pile, etc.  The top/first card comes from the \"top\" elements and the bottom/last card comes from the \"bottom\" pile.\n",
    "\n",
    "You may for convenience assume that there are an even number of cards in the deck.\n",
    "\n",
    "(Note and sanity check: a perfect out-shuffle on a deck with an even number of cards will always have the first card of the input ordering remain the first card of the output ordering, and the input last card remain the last card)\n",
    ".\n",
    "In the suggested API:\n",
    " - deck is a numpy array of integers (or floats) from 0 to (n-1) for a deck of length n.  Consider using np.array(range(n)) if you want to initialize a sorted deck.\n",
    " - Return statement is a numpy array of the same form"
   ]
  },
  {
   "cell_type": "code",
   "execution_count": 12,
   "metadata": {},
   "outputs": [
    {
     "data": {
      "text/plain": [
       "array([0., 5., 1., 6., 2., 7., 3., 8., 4., 9.])"
      ]
     },
     "execution_count": 12,
     "metadata": {},
     "output_type": "execute_result"
    }
   ],
   "source": [
    "#recommended API for checks:\n",
    "def out_shuffle(deck):\n",
    "    \n",
    "#     print(\"Deck: \", deck)\n",
    "    numCards = len(deck)\n",
    "    new_deck = np.array([])\n",
    "    top_index = 0\n",
    "    bot_index = len(deck)//2\n",
    "    count = 0\n",
    "    while(len(new_deck) < numCards):\n",
    "        if(count % 2 == 0):\n",
    "#             print(\"adding... \", deck[top_index], 'from top')\n",
    "            new_deck = np.append(new_deck, deck[top_index])\n",
    "            top_index += 1\n",
    "        else:\n",
    "#             print(\"adding... \", deck[bot_index], 'from bot')\n",
    "            new_deck = np.append(new_deck, deck[bot_index])\n",
    "            bot_index += 1\n",
    "        count += 1\n",
    "        \n",
    "    return new_deck\n",
    "\n",
    "out_shuffle(np.array(range(10))) #sanity check: should be 0-5-1-6..."
   ]
  },
  {
   "cell_type": "markdown",
   "metadata": {},
   "source": [
    "** Part 2 B: Counting out-shuffles.**\n",
    "\n",
    "How much are we supposed to shuffle?  Beginning with a sorted deck $[0,1,2,\\dots ,51]$, perform out-shuffles 52 times *in a row*, where the result of one shuffle is used as the input/start for another.  For each resulting state of the deck, do the following:\n",
    "\n",
    "- save the number of rising sequences in the deck\n",
    "- Perform a formal hypothesis test using the bootstrapped rejection region in part a): at 95\\% confidence would we reject the null hypothesis that \"the deck is well-shuffled?.\"\n",
    "- Compute a two-tailed p-value for the number of rising sequences in the deck.  In other words, what proportion of the time in the simulated `np.random.shuffle` shuffles did we observe a more extreme number of rising sequences?\n",
    "\n",
    "Make a plot with \"number of perfect out shuffles\" on the $x$-axis and \"rising sequences\" for the shuffle on the $y$-axis.  Include a visual indicator for when the number of rising sequences was *inside* or *outside* of the rejection region in part 1.\n",
    "\n",
    "Using this plot make a plain English statment answering the following: \"What is the best number of shuffles to approximately randomize a sorted deck using out-shuffles?  Does it end up well randomized?\"  Explain your answer.\n"
   ]
  },
  {
   "cell_type": "code",
   "execution_count": 50,
   "metadata": {},
   "outputs": [
    {
     "name": "stderr",
     "output_type": "stream",
     "text": [
      "<ipython-input-50-825eaf7fad78>:35: UserWarning: Legend does not support 'd' instances.\n",
      "A proxy artist may be used instead.\n",
      "See: http://matplotlib.org/users/legend_guide.html#creating-artists-specifically-for-adding-to-the-legend-aka-proxy-artists\n",
      "  ax1.legend('data', 'val')\n",
      "<ipython-input-50-825eaf7fad78>:35: UserWarning: Legend does not support 'a' instances.\n",
      "A proxy artist may be used instead.\n",
      "See: http://matplotlib.org/users/legend_guide.html#creating-artists-specifically-for-adding-to-the-legend-aka-proxy-artists\n",
      "  ax1.legend('data', 'val')\n",
      "<ipython-input-50-825eaf7fad78>:35: UserWarning: Legend does not support 't' instances.\n",
      "A proxy artist may be used instead.\n",
      "See: http://matplotlib.org/users/legend_guide.html#creating-artists-specifically-for-adding-to-the-legend-aka-proxy-artists\n",
      "  ax1.legend('data', 'val')\n"
     ]
    },
    {
     "data": {
      "text/plain": [
       "<matplotlib.legend.Legend at 0x1990fa774f0>"
      ]
     },
     "execution_count": 50,
     "metadata": {},
     "output_type": "execute_result"
    },
    {
     "data": {
      "image/png": "[encoded data removed]",
      "text/plain": [
       "<Figure size 432x288 with 1 Axes>"
      ]
     },
     "metadata": {
      "needs_background": "light"
     },
     "output_type": "display_data"
    }
   ],
   "source": [
    "cards = np.array([i for i in range(0, 52)])\n",
    "\n",
    "numRiseSeqList = np.array([])\n",
    "rejectList = np.array([])\n",
    "for s in range(0, 52):\n",
    "        # result of one shuffle is used as input/start for another\n",
    "        cards = out_shuffle(cards)\n",
    "#         print(\"Iteration[\", len(numRiseSeqList), \"]\")\n",
    "        # save number of rising sequences in the deck\n",
    "        numRiseSeq = rising_seqs(cards)\n",
    "        numRiseSeqList = np.append(numRiseSeqList, numRiseSeq)\n",
    "#         print(\"      numRiseSeq: \", numRiseSeq)\n",
    "        # perform formal hypothesis test using the bootstrapped reject region in part (a)\n",
    "        # at 95% confidence would we reject the null hypothesis that \"the deck is well shufffled?\"\n",
    "        hyp_0 = 0\n",
    "        hyp_a = 1\n",
    "        # checking if test statistic (numRiseSeq) is in the rejection region\n",
    "        if(numRiseSeq < 23 or numRiseSeq > 30):\n",
    "            # if so -> reject null hypothesis\n",
    "#             print(\"      REJECT\")\n",
    "            hyp_0 = 1\n",
    "            hyp_a = 0\n",
    "        \n",
    "        rejectList = np.append(rejectList, hyp_0)\n",
    "        \n",
    "        # compute a two-tailed p-value for # of rising sequences in the deck (what proportion of the time in simulated\n",
    "        # np.random.shuffle shuffles did we observe a more extreme number of rising sequences?)\n",
    "        p = rejectList.sum() / len(rejectList)\n",
    "        \n",
    "fig1, ax1 = plt.subplots();\n",
    "ax1.plot(range(52), numRiseSeqList);\n",
    "ax1.set(title='# Out Shuffles v. # Rising Seqences', xlabel='# Out Shuffles', ylabel='# Rising Sequences');\n",
    "ax1.fill_between(range(-1, 55), 23, alpha=0.3, color='red')\n",
    "ax1.fill_between(range(-1, 55), 30, 33, alpha=0.3, color='red')"
   ]
  },
  {
   "cell_type": "markdown",
   "metadata": {},
   "source": [
    "** Part 2 C: In-shuffles.**\n",
    "\n",
    "Repeat parts 2A and 2B for in shuffles.  This means do the following:\n",
    "\n",
    "Write a function that performs a perfect in-shuffle of a deck.  This function should take an ordered list of length $n$ and:\n",
    "\n",
    "- breaks the deck in half, with the \"top\" of the deck being the first $n/2$ elements and the \"bottom\" of the deck being the last $n/2$ elements.\n",
    "- creates a new ordered list generated by interweaving one card from the bottom pile, *then* one card from the \"top\" pile, etc.  The top/first card comes from the \"bottom\" elements and the bottom/last card comes from the \"top\" pile.\n",
    "\n",
    "After this, repeat the plot and hypothesis tests made in part 2B for the in-shuffle.  Again, answer the prompt:  \"What is the best number of shuffles to approximately randomize a sorted deck using in-shuffles?  Does it end up well randomized?\"  Explain your answer.\n",
    "\n",
    "\n"
   ]
  },
  {
   "cell_type": "code",
   "execution_count": null,
   "metadata": {},
   "outputs": [],
   "source": [
    "#recommended API for checks:\n",
    "def in_shuffle(deck):\n",
    "    #your code here!\n",
    "    return new_deck\n",
    "# in_shuffle(np.array(range(10))) sanity check: should be 5-0-6-1..."
   ]
  },
  {
   "cell_type": "code",
   "execution_count": null,
   "metadata": {},
   "outputs": [],
   "source": [
    "\n",
    "fig, ax = plt.subplots(figsize=(10,4))\n",
    "#make plot"
   ]
  },
  {
   "cell_type": "markdown",
   "metadata": {},
   "source": [
    "<br>\n",
    "\n",
    "---\n",
    "[Back to top](#top)\n",
    "<a id='p2'></a>\n",
    "\n",
    "## [50 points] Problem 2: Multiple Linear Regression\n",
    "\n",
    "Load the data set in `houses`, with an opening snipper below.  The data includes sale prices of 24 houses from a midwetern town in the 1970's.   You are told that you need to quantify how price can be explained and predicted by the feature of the house.\n",
    "\n",
    "The variables available in the data set are labeled as follows:\n",
    "\n",
    "* sales:    the sales price of the house (in 1000s of dollars)\n",
    "* tax: \t    the local taxes\n",
    "* bath: \tthe number of bathrooms\n",
    "* lot: \t    the lot size (1000s of ft)\n",
    "* size: \tthe living space (1000s of ft)\n",
    "* garage: \tnumber of parking spots in the garage\n",
    "* rooms: \tnumber of rooms\n",
    "* bedrooms: number of bedrooms\n",
    "* age: \t    age in years\n",
    "* fire: \tnumber of fireplaces\n"
   ]
  },
  {
   "cell_type": "code",
   "execution_count": 4,
   "metadata": {},
   "outputs": [
    {
     "data": {
      "text/html": [
       "<div>\n",
       "<style scoped>\n",
       "    .dataframe tbody tr th:only-of-type {\n",
       "        vertical-align: middle;\n",
       "    }\n",
       "\n",
       "    .dataframe tbody tr th {\n",
       "        vertical-align: top;\n",
       "    }\n",
       "\n",
       "    .dataframe thead th {\n",
       "        text-align: right;\n",
       "    }\n",
       "</style>\n",
       "<table border=\"1\" class=\"dataframe\">\n",
       "  <thead>\n",
       "    <tr style=\"text-align: right;\">\n",
       "      <th></th>\n",
       "      <th>tax</th>\n",
       "      <th>bath</th>\n",
       "      <th>lot</th>\n",
       "      <th>size</th>\n",
       "      <th>garage</th>\n",
       "      <th>rooms</th>\n",
       "      <th>bedrooms</th>\n",
       "      <th>age</th>\n",
       "      <th>fire</th>\n",
       "      <th>sales</th>\n",
       "    </tr>\n",
       "  </thead>\n",
       "  <tbody>\n",
       "    <tr>\n",
       "      <th>0</th>\n",
       "      <td>4.918</td>\n",
       "      <td>1.0</td>\n",
       "      <td>3.472</td>\n",
       "      <td>0.998</td>\n",
       "      <td>1.0</td>\n",
       "      <td>7</td>\n",
       "      <td>4</td>\n",
       "      <td>42</td>\n",
       "      <td>0</td>\n",
       "      <td>25.9</td>\n",
       "    </tr>\n",
       "    <tr>\n",
       "      <th>1</th>\n",
       "      <td>5.021</td>\n",
       "      <td>1.0</td>\n",
       "      <td>3.531</td>\n",
       "      <td>1.500</td>\n",
       "      <td>2.0</td>\n",
       "      <td>7</td>\n",
       "      <td>4</td>\n",
       "      <td>62</td>\n",
       "      <td>0</td>\n",
       "      <td>29.5</td>\n",
       "    </tr>\n",
       "    <tr>\n",
       "      <th>2</th>\n",
       "      <td>4.543</td>\n",
       "      <td>1.0</td>\n",
       "      <td>2.275</td>\n",
       "      <td>1.175</td>\n",
       "      <td>1.0</td>\n",
       "      <td>6</td>\n",
       "      <td>3</td>\n",
       "      <td>40</td>\n",
       "      <td>0</td>\n",
       "      <td>27.9</td>\n",
       "    </tr>\n",
       "    <tr>\n",
       "      <th>3</th>\n",
       "      <td>4.557</td>\n",
       "      <td>1.0</td>\n",
       "      <td>4.050</td>\n",
       "      <td>1.232</td>\n",
       "      <td>1.0</td>\n",
       "      <td>6</td>\n",
       "      <td>3</td>\n",
       "      <td>54</td>\n",
       "      <td>0</td>\n",
       "      <td>25.9</td>\n",
       "    </tr>\n",
       "    <tr>\n",
       "      <th>4</th>\n",
       "      <td>5.060</td>\n",
       "      <td>1.0</td>\n",
       "      <td>4.455</td>\n",
       "      <td>1.121</td>\n",
       "      <td>1.0</td>\n",
       "      <td>6</td>\n",
       "      <td>3</td>\n",
       "      <td>42</td>\n",
       "      <td>0</td>\n",
       "      <td>29.9</td>\n",
       "    </tr>\n",
       "  </tbody>\n",
       "</table>\n",
       "</div>"
      ],
      "text/plain": [
       "     tax  bath    lot   size  garage  rooms  bedrooms  age  fire  sales\n",
       "0  4.918   1.0  3.472  0.998     1.0      7         4   42     0   25.9\n",
       "1  5.021   1.0  3.531  1.500     2.0      7         4   62     0   29.5\n",
       "2  4.543   1.0  2.275  1.175     1.0      6         3   40     0   27.9\n",
       "3  4.557   1.0  4.050  1.232     1.0      6         3   54     0   25.9\n",
       "4  5.060   1.0  4.455  1.121     1.0      6         3   42     0   29.9"
      ]
     },
     "execution_count": 4,
     "metadata": {},
     "output_type": "execute_result"
    }
   ],
   "source": [
    "df=pd.read_csv('../data/houses.txt', delimiter = \"\\t\")\n",
    "df.columns=['tax','bath','lot','size','garage','rooms','bedrooms','age','fire','sales']\n",
    "df.head()\n"
   ]
  },
  {
   "cell_type": "markdown",
   "metadata": {},
   "source": [
    "### Problem 2 Part 1: Fit your own model\n",
    "** Part 1 A: Explore**\n",
    "\n",
    "Make pairwise scatter plots of the continuous predictors/covariates, both against each other and against the outcome (expenditures).   Does the relationship between the independent variables and the dependent variables appear to be linear?  Do there appear to be independent variables that are collinear?"
   ]
  },
  {
   "cell_type": "code",
   "execution_count": null,
   "metadata": {},
   "outputs": [],
   "source": []
  },
  {
   "cell_type": "markdown",
   "metadata": {},
   "source": [
    "** Part 1 B: Make a Model**\n",
    "\n",
    "After removing any reasonably choices for columns from your work in part 1A, fit a model with the remaining columns.  Print its summary table."
   ]
  },
  {
   "cell_type": "code",
   "execution_count": null,
   "metadata": {},
   "outputs": [],
   "source": []
  },
  {
   "cell_type": "markdown",
   "metadata": {},
   "source": [
    "** Part 1 C: Validate your Model**\n",
    "\n",
    "\n",
    "Perform a thorough discussion of the underlying regression assumptions of your model in part 1B.  You should plot a predictor vs. residuals plot for each column and histogram OR qqplot of the overall residuals.  Make sure to also check for non-linearity."
   ]
  },
  {
   "cell_type": "code",
   "execution_count": null,
   "metadata": {},
   "outputs": [],
   "source": []
  },
  {
   "cell_type": "markdown",
   "metadata": {},
   "source": [
    "** Part 1 C: Tune your Model**\n",
    "\n",
    "\n",
    "Based on your work in parts 1B and 1C, **iterate** on your model.  Remove terms or add higher-order polynomials one at a time unless you are satisfied that your model captures the data as well as possible.  Each time you add or subtract a term from your model, you should repeat the steps in parts B and C: a summary table an exploration of assumptions."
   ]
  },
  {
   "cell_type": "code",
   "execution_count": null,
   "metadata": {},
   "outputs": [],
   "source": []
  },
  {
   "cell_type": "markdown",
   "metadata": {},
   "source": [
    "** Part 1 E: Explain your Model**\n",
    "\n",
    "**Justify** your choices: there are a lot of ways to choose a \"best\" model: we've mentioned e.g. only including significant predictors versus F-tests versus optimizing R-squared.  Explain what terms you chose and why they were appropriate! "
   ]
  },
  {
   "cell_type": "code",
   "execution_count": null,
   "metadata": {},
   "outputs": [],
   "source": []
  },
  {
   "cell_type": "markdown",
   "metadata": {},
   "source": [
    "### Problem 2 Part 2: Let your Computer do it\n",
    "\n",
    "There are many methods to automate the analysis we did in part 1 of this problem.  These methods are never going to be as good as using your own eyes, but your computer is pretty powerful! \n",
    "\n",
    "Use `itertools.combinations` to perform a linear model (with no higher-order terms) on **every possible subset** of the 9 predictor variables to explain `sales`.  Report the one with the highest adjusted R-squared."
   ]
  },
  {
   "cell_type": "code",
   "execution_count": 8,
   "metadata": {},
   "outputs": [
    {
     "data": {
      "text/plain": [
       "[('A', 'B'), ('A', 'C'), ('B', 'C')]"
      ]
     },
     "execution_count": 8,
     "metadata": {},
     "output_type": "execute_result"
    }
   ],
   "source": [
    "#usage: all the combinations of size 2 of the given list.\n",
    "#your task: modify it to include the columns of the data frame, and ALL possible sizes\n",
    "# then fit a model for each and save/find the best adjusted R-squared\n",
    "\n",
    "list(itertools.combinations(['A','B','C'],2))"
   ]
  },
  {
   "cell_type": "markdown",
   "metadata": {},
   "source": [
    "Did the resulting model differ from the one you arrived at in part 1?  Why or why not?  Do you prefer yours to the automated process?  (Ideally you do!)"
   ]
  },
  {
   "cell_type": "code",
   "execution_count": null,
   "metadata": {},
   "outputs": [],
   "source": []
  },
  {
   "cell_type": "markdown",
   "metadata": {},
   "source": [
    "---\n",
    "[Back to top](#top)\n",
    "<a id='bot'></a>"
   ]
  }
 ],
 "metadata": {
  "kernelspec": {
   "display_name": "Python 3",
   "language": "python",
   "name": "python3"
  },
  "language_info": {
   "codemirror_mode": {
    "name": "ipython",
    "version": 3
   },
   "file_extension": ".py",
   "mimetype": "text/x-python",
   "name": "python",
   "nbconvert_exporter": "python",
   "pygments_lexer": "ipython3",
   "version": "3.8.3"
  }
 },
 "nbformat": 4,
 "nbformat_minor": 2
}
