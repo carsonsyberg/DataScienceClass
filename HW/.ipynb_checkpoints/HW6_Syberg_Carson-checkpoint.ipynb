{
 "cells": [
  {
   "cell_type": "markdown",
   "metadata": {},
   "source": [
    "<a id='top'></a>\n",
    "\n",
    "# CSCI3022 S21\n",
    "# Homework 6: Testing\n",
    "***\n",
    "\n",
    "**Name**: Carson Syberg\n",
    "\n",
    "***\n",
    "\n",
    "This assignment is due on Canvas by **MIDNIGHT on Friday, April 15**. Your solutions to theoretical questions should be done in Markdown directly below the associated question.  Your solutions to computational questions should include any specified Python code and results as well as written commentary on your conclusions.  Remember that you are encouraged to discuss the problems with your classmates, but **you must write all code and solutions on your own**.\n",
    "\n",
    "**NOTES**: \n",
    "\n",
    "- Any relevant data sets should be available on Canvas. To make life easier on the graders if they need to run your code, do not change the relative path names here. Instead, move the files around on your computer.\n",
    "- If you're not familiar with typesetting math directly into Markdown then by all means, do your work on paper first and then typeset it later.  Here is a [reference guide](https://math.meta.stackexchange.com/questions/5020/mathjax-basic-tutorial-and-quick-reference) linked on Canvas on writing math in Markdown. **All** of your written commentary, justifications and mathematical work should be in Markdown.  I also recommend the [wikibook](https://en.wikibooks.org/wiki/LaTeX) for LaTex.\n",
    "- Because you can technically evaluate notebook cells is a non-linear order, it's a good idea to do **Kernel $\\rightarrow$ Restart & Run All** as a check before submitting your solutions.  That way if we need to run your code you will know that it will work as expected. \n",
    "- It is **bad form** to make your reader interpret numerical output from your code.  If a question asks you to compute some value from the data you should show your code output **AND** write a summary of the results in Markdown directly below your code. \n",
    "- 45 points of this assignment are in problems.  The remaining 5 are for neatness, style, and overall exposition of both code and text.\n",
    "- This probably goes without saying, but... For any question that asks you to calculate something, you **must show all work and justify your answers to receive credit**. Sparse or nonexistent work will receive sparse or nonexistent credit. \n",
    "\n",
    "---\n",
    "**Shortcuts:**  [Problem 1](#p1) | [Problem 2](#p2) | [Problem 3](#p3) |\n",
    "---"
   ]
  },
  {
   "cell_type": "code",
   "execution_count": 45,
   "metadata": {},
   "outputs": [],
   "source": [
    "import pandas as pd\n",
    "import numpy as np\n",
    "import math\n",
    "import matplotlib.pylab as plt\n",
    "import scipy.stats as stats\n",
    "%matplotlib inline"
   ]
  },
  {
   "cell_type": "markdown",
   "metadata": {},
   "source": [
    "<br>\n",
    "\n",
    "---\n",
    "<a/ id='p1'></a>\n",
    "[Back to top](#top)\n",
    "## [25 points] Problem 1 - Mins or Maxs?\n",
    "\n",
    "It's a common data science and numeric problem to need to find **best** estimators, which often represent maximums of \"value\" functions or minimums of \"loss\" functions.  In this problem we explore the way that minimums and maximums interact with one another.\n",
    "\n",
    "Consider rolling some fair, independent, 10-sided dice, with faces [1,2,3,...,10].\n",
    "\n",
    "#### Part a) Maximums\n",
    "\n",
    "Suppose we roll 2 such 10-sided die.  Denote $M:=$ the maximum of the two rolls (we will refer to this as the roller having \"advantage\" when trying to achieve a high roll in a die-rolling game).\n",
    "\n",
    "i) Use markdown to express the exact pdf of $M$.\n",
    "\n",
    "$P(M=1) = $ rolled 2 one's $= \\frac{1}{10}\\frac{1}{10} = \\frac{1}{100}$\n",
    "\n",
    "$P(M=2) = $ rolled 2 two's or a two and a one or a one and a two $= \\frac{1}{10}\\frac{1}{10} + \\frac{1}{10}\\frac{1}{10} + \\frac{1}{10}\\frac{1}{10} = \\frac{3}{100}$\n",
    "\n",
    "$P(M=3) = $ (rolled 2 three's) or (a three and a two) or (a two and a three) or (a three and a one) or (a one and a three) $= 5*\\frac{1}{10}\\frac{1}{10} = \\frac{5}{100}$ \n",
    "\n",
    "$P(M=4) = (4,4) or (4,3) or (3,4) or (4,2) or (2,4) or (4,1) or (1,4) = 7*\\frac{1}{10}\\frac{1}{10} = \\frac{7}{100}$\n",
    "\n",
    "$P(M=5) = \\frac{9}{100}$\n",
    "\n",
    "$P(M=6) = \\frac{11}{100}$\n",
    "\n",
    "$P(M=7) = \\frac{13}{100}$\n",
    "\n",
    "$P(M=8) = \\frac{15}{100}$\n",
    "\n",
    "$P(M=9) = \\frac{17}{100}$\n",
    "\n",
    "$P(M=10) = \\frac{19}{100}$\n",
    "\n",
    "$P(M=other) = 0$\n",
    "\n",
    "ii) Print the expected value of $M$.\n",
    "\n",
    "iii) Print the variance of $M$.\n"
   ]
  },
  {
   "cell_type": "code",
   "execution_count": 2,
   "metadata": {},
   "outputs": [
    {
     "name": "stdout",
     "output_type": "stream",
     "text": [
      "Expected value of M:  7.15\n",
      "Variance of M:  5.527500000000003\n"
     ]
    }
   ],
   "source": [
    "def pmf_M(m):\n",
    "    if (m > 0) and (m < 11):\n",
    "        return (2*m - 1)/100\n",
    "    else:\n",
    "        return 0\n",
    "\n",
    "Em = 0\n",
    "for val in range(1, 11):\n",
    "    Em += val*pmf_M(val)\n",
    "\n",
    "# Var[M] = E[(M-u_m)^2]\n",
    "print(\"Expected value of M: \", Em)\n",
    "\n",
    "Em2 = 0\n",
    "for val in range(1, 11):\n",
    "    Em2 += (val**2)*pmf_M(val)\n",
    "    \n",
    "var = Em2 - Em**2\n",
    "print(\"Variance of M: \", var)"
   ]
  },
  {
   "cell_type": "markdown",
   "metadata": {},
   "source": [
    "\n",
    "#### Part b) Min-Max\n",
    "\n",
    "In the rest of this problem, we'll explore tacking **both** a minimum and a maximum.  In particular, we define the experiment of *min-max*, in which we compute the minimum of two maximum rolls.  Formally: we roll 2 dice and record their maximum $M_1$, then roll 2 more dice and record their maximum $M_2$.  Finally, we denote $mM:=$ the mimimun of the two $M_1$ and $M_2$ rolls.  We may refer to this as \"disadvantage-of-advantage.\"\n",
    "\n",
    "Set up a function to simulate $n=10^4$ draws from the $mM$ random variable.  Then, *simulate* and/or *bootstrap* with your function to answer the following:\n",
    "\n",
    "i) What is the pdf of $mM$?  Plot it as a histogram.\n",
    "\n",
    "ii) What is the expected value of $mM$?\n",
    "\n",
    "iii) What is the probability that an $mM$ random variable returns a value greater then 5? Construct both a point estimate and a 90\\% confidence interval for this value.\n",
    "\n",
    "For the bootstrapped CI in iii, it is recommended you group your $10^4$ trials into 100 groups of 100 trials in order to construct a distribution of sample probabilities."
   ]
  },
  {
   "cell_type": "code",
   "execution_count": 3,
   "metadata": {},
   "outputs": [
    {
     "name": "stdout",
     "output_type": "stream",
     "text": [
      "Expected Value of mM:  5.831000000000037\n",
      "Probability mM > 5 point estimate:  0.5676999999999945\n",
      "90% CI:  [0.5585355417293574, 0.5732644582706428]\n"
     ]
    },
    {
     "data": {
      "image/png": "[encoded data removed]",
      "text/plain": [
       "<Figure size 432x288 with 1 Axes>"
      ]
     },
     "metadata": {
      "needs_background": "light"
     },
     "output_type": "display_data"
    }
   ],
   "source": [
    "def simulate_minmax(numDraws=10**4):\n",
    "    mM_list = []\n",
    "    for i in range(numDraws):\n",
    "        roll1 = np.random.randint(1, 11, 2)\n",
    "        max1 = max(roll1)\n",
    "        roll2 = np.random.randint(1, 11, 2)\n",
    "        max2 = max(roll2)\n",
    "        mM = min(max1, max2)\n",
    "        mM_list.append(mM)\n",
    "    return mM_list\n",
    "\n",
    "minmaxData = simulate_minmax();\n",
    "fix, ax = plt.subplots();\n",
    "plt.xticks([1,2,3,4,5,6,7,8,9,10,11])\n",
    "plt.grid(axis='y', linestyle='-', linewidth=0.5)\n",
    "ax.hist(minmaxData, bins=[1,2,3,4,5,6,7,8,9,10,11], density=1);\n",
    "ax.set(title='PDF of mM', xlabel='mM', ylabel='P(minMax = mM)');\n",
    "\n",
    "# calculating pdf of mM\n",
    "pdf_mM = [0, 0, 0, 0, 0, 0, 0, 0, 0, 0]\n",
    "for roll in minmaxData:\n",
    "    pdf_mM[roll-1] += 10**-4\n",
    "\n",
    "# finding expected value of mM\n",
    "EmM = 0\n",
    "for mM_val in range(1, 11):\n",
    "    EmM += mM_val*pdf_mM[mM_val-1]\n",
    "print(\"Expected Value of mM: \", EmM)\n",
    "\n",
    "# finding expected value of mM**2\n",
    "EmM2 = 0\n",
    "for mM_val in range(1, 11):\n",
    "    EmM2 += mM_val**2*pdf_mM[mM_val-1]\n",
    "    \n",
    "# finding variance of mM\n",
    "var_mM = EmM2 - EmM\n",
    "\n",
    "# probability that mM returns a value greater then 5 -> 1 - F(5), F(X) = sum over vals less than eq 5 of Pdf(X)\n",
    "sumG5 = 0\n",
    "for mM_val in range(1, 6):\n",
    "    sumG5 += pdf_mM[mM_val-1]\n",
    "probG5 = 1 - sumG5\n",
    "print(\"Probability mM > 5 point estimate: \", probG5)\n",
    "\n",
    "# probability that mM returns a value greater than 5 (for 100 different groups)\n",
    "lowIndex = 0\n",
    "highIndex = 99\n",
    "count = 0\n",
    "probG5_list = []\n",
    "while highIndex < 9999:\n",
    "#     print(\"\\nSample\", count, \":\\n\")\n",
    "    group = minmaxData[lowIndex:highIndex]\n",
    "#     print(\"Rolls: \", group)\n",
    "    sumG5S = 0\n",
    "    pdf_mM = [0, 0, 0, 0, 0, 0, 0, 0, 0, 0]\n",
    "    for roll in group:\n",
    "        pdf_mM[roll-1] += 10**-2\n",
    "    for mM_val in range(1, 6):\n",
    "        sumG5S += pdf_mM[mM_val-1]\n",
    "    probG5S = 1 - sumG5S\n",
    "    probG5_list.append(probG5S)\n",
    "    lowIndex += 100\n",
    "    highIndex += 100\n",
    "    count += 1\n",
    "#     print(\"\\n\")\n",
    "\n",
    "# construct 90% confidence interval for prob mM > 5 (large sample underlying normal?)\n",
    "alpha = 1 - 0.90\n",
    "n = 100\n",
    "z_alpha = stats.norm.ppf(1-alpha/2)\n",
    "svar = np.sum(np.fromiter(((xi-probG5)**2/n for xi in probG5_list), float));\n",
    "sd = np.sqrt(svar)\n",
    "x_bar = np.sum(probG5_list)/n\n",
    "\n",
    "CI_90 = [x_bar - z_alpha*sd/np.sqrt(n), x_bar + z_alpha*sd/np.sqrt(n)]\n",
    "print(\"90% CI: \", CI_90)"
   ]
  },
  {
   "cell_type": "markdown",
   "metadata": {},
   "source": [
    "\n",
    "#### Part c) Max-min\n",
    "\n",
    "Now, define the experiment of *max-min*, in which we compute the maximum of two minumum rolls.  Formally: we roll 2 dice and record their minimum $m_1$, then roll 2 more dice and record their minimum $m_2$.  Finally, we denote $Mm:=$ the maximum of the two $m_1$ and $m_2$ rolls.  We may refer to this as \"advantage-of-disadvantage.\"\n",
    "\n",
    "Set up a function to simulate $n$ draws from the $Mm$ random variable.  Then, *simulate* and/or *bootstrap* with your function to answer the following:\n",
    "\n",
    "i) What is the pdf of $Mm$?  Plot it as a histogram.\n",
    "\n",
    "ii) What is the expected value of $Mm$?\n",
    "\n",
    "iii) What is the probability that an $Mm$ random variable returns a value greater then 5?   Construct both a point estimate and a 90\\% confidence interval for this value.\n",
    "\n",
    "\n"
   ]
  },
  {
   "cell_type": "code",
   "execution_count": 4,
   "metadata": {},
   "outputs": [
    {
     "name": "stdout",
     "output_type": "stream",
     "text": [
      "Expected Value of mM:  5.1939000000000455\n",
      "Probability Mm > 5 point estimate:  0.44329999999999736\n",
      "90% CI:  [0.4354281001656345, 0.4529718998343657]\n"
     ]
    },
    {
     "data": {
      "image/png": "[encoded data removed]",
      "text/plain": [
       "<Figure size 432x288 with 1 Axes>"
      ]
     },
     "metadata": {
      "needs_background": "light"
     },
     "output_type": "display_data"
    }
   ],
   "source": [
    "def simulate_maxmin(numDraws=10**4):\n",
    "    mM_list = []\n",
    "    for i in range(numDraws):\n",
    "        roll1 = np.random.randint(1, 11, 2)\n",
    "        min1 = min(roll1)\n",
    "        roll2 = np.random.randint(1, 11, 2)\n",
    "        min2 = min(roll2)\n",
    "        mM = max(min1, min2)\n",
    "        mM_list.append(mM)\n",
    "    return mM_list\n",
    "\n",
    "maxminData = simulate_maxmin();\n",
    "fix, ax = plt.subplots();\n",
    "plt.xticks([1,2,3,4,5,6,7,8,9,10,11])\n",
    "plt.grid(axis='y', linestyle='-', linewidth=0.5)\n",
    "ax.hist(maxminData, bins=[1,2,3,4,5,6,7,8,9,10,11], density=1);\n",
    "ax.set(title='PDF of Mm', xlabel='Mm', ylabel='P(maxMin = Mm)');\n",
    "\n",
    "# calculating pdf of mM\n",
    "pdf_mM = [0, 0, 0, 0, 0, 0, 0, 0, 0, 0]\n",
    "for roll in maxminData:\n",
    "    pdf_mM[roll-1] += 10**-4\n",
    "\n",
    "# finding expected value of mM\n",
    "EmM = 0\n",
    "for mM_val in range(1, 11):\n",
    "    EmM += mM_val*pdf_mM[mM_val-1]\n",
    "print(\"Expected Value of mM: \", EmM)\n",
    "\n",
    "# finding expected value of mM**2\n",
    "EmM2 = 0\n",
    "for mM_val in range(1, 11):\n",
    "    EmM2 += mM_val**2*pdf_mM[mM_val-1]\n",
    "    \n",
    "# finding variance of mM\n",
    "var_mM = EmM2 - EmM\n",
    "\n",
    "# probability that mM returns a value greater then 5 -> 1 - F(5), F(X) = sum over vals less than eq 5 of Pdf(X)\n",
    "sumG5 = 0\n",
    "for mM_val in range(1, 6):\n",
    "    sumG5 += pdf_mM[mM_val-1]\n",
    "probG5 = 1 - sumG5\n",
    "print(\"Probability Mm > 5 point estimate: \", probG5)\n",
    "\n",
    "# probability that mM returns a value greater than 5 (for 100 different groups)\n",
    "lowIndex = 0\n",
    "highIndex = 99\n",
    "count = 0\n",
    "probG5_list = []\n",
    "while highIndex < 9999:\n",
    "#     print(\"\\nSample\", count, \":\\n\")\n",
    "    group = maxminData[lowIndex:highIndex]\n",
    "#     print(\"Rolls: \", group)\n",
    "    sumG5S = 0\n",
    "    pdf_mM = [0, 0, 0, 0, 0, 0, 0, 0, 0, 0]\n",
    "    for roll in group:\n",
    "        pdf_mM[roll-1] += 10**-2\n",
    "    for mM_val in range(1, 6):\n",
    "        sumG5S += pdf_mM[mM_val-1]\n",
    "    probG5S = 1 - sumG5S\n",
    "    probG5_list.append(probG5S)\n",
    "    lowIndex += 100\n",
    "    highIndex += 100\n",
    "    count += 1\n",
    "#     print(\"\\n\")\n",
    "\n",
    "# construct 90% confidence interval for prob mM > 5 (large sample underlying normal?)\n",
    "alpha = 1 - 0.90\n",
    "n = 100\n",
    "z_alpha = stats.norm.ppf(1-alpha/2)\n",
    "svar = np.sum(np.fromiter(((xi-probG5)**2/n for xi in probG5_list), float));\n",
    "sd = np.sqrt(svar)\n",
    "x_bar = np.sum(probG5_list)/n\n",
    "\n",
    "CI_90 = [x_bar - z_alpha*sd/np.sqrt(n), x_bar + z_alpha*sd/np.sqrt(n)]\n",
    "print(\"90% CI: \", CI_90)"
   ]
  },
  {
   "cell_type": "markdown",
   "metadata": {},
   "source": [
    "\n",
    "#### Part d) Discussion\n",
    "\n",
    "Taking a look at your work in parts c or d, use full English sentences to answer the following:\n",
    "\n",
    "i) In general, which returns a higher value: the maximum of minimums or the minimum of maximums?\n",
    "\n",
    "ii) Is there ever a case to prefer a min-of-max rather than a max-of-mins?  Suppose the goal is to return \"a 2 or higher\", which do we prefer?  Is this a different best choice from the goal of \"need to return exactly a 20?\"\n",
    "\n",
    "iii) What happens if the number of rolls in the selection increases?  For example, if I roll 100 dice in total, and take as my random variable the minimum of 10 sets of 10 maximums, how should this differ from the distribution in part b)?  You may simulate to verify your result, but should try to explain in plain English either way?"
   ]
  },
  {
   "cell_type": "markdown",
   "metadata": {},
   "source": [
    "i) In general, the minimum of maximums returns a higher value.\n",
    "\n",
    "ii) If the goal were to return \"a 2 or higher\" we would prefer the minimum of maximums because the 90% confidence interval range was higher, and therefore even for outliers outside of the 90% confidence interval it has a better chance to not be a two than the lower confidence interval for maximum of minimums. This is not really a different best choice from the goal of needing to return exactly a 10, because the higher confidence interval gives the minimum of maximums a better chance for an outlier to reach the value 10 than the lower confidence interval of maximum of minimums.\n",
    "\n",
    "iii) If the number of rolls in the selection increases, then the minimum of maximums return value would not change much because the distribution of rolls would increase a bit, as the expected value of minimum of maximums for 2 10 die rolls is 7.5, I would expect there to be more values of 7.5 in the larger sample, which would bring the average minimum of maximums value up."
   ]
  },
  {
   "cell_type": "markdown",
   "metadata": {},
   "source": [
    "<br>\n",
    "\n",
    "---\n",
    "<a/ id='p2'></a>\n",
    "[Back to top](#top)\n",
    "## [10 points] Problem 2 - A (very) small sample hypothesis test\n",
    "\n",
    "We're counting birds outside our work-from-home offices, and recording $X$, the number that pass between 2p-3p.  Let $X \\sim \\mathcal{P}(\\lambda)$. Suppose that we want to test the null hypothesis that $\\lambda = 15$, and the alternative hypothesis is that $\\lambda > 15$. Since we're just starting today, our sample size for this test is equal to 1.\n",
    "\t\n",
    "#### Part a)\n",
    " \n",
    "Naturally for a hypothesis test we might come up with a rejection region. Here, we will reject the null hypothesis if $X$ is greater than some number $c$ that represents \"too many birds\" for a process of $\\lambda = 15$. What value should we choose for $c$ such that the probability of a type I error is equal to $0.05$?\n",
    "\n",
    "(NB: for a discrete R.V., we more precisely ensure that P(Type I error) *is not more than* $0.05$)\n"
   ]
  },
  {
   "cell_type": "markdown",
   "metadata": {},
   "source": [
    "$P_X(X) = \\frac{\\lambda^xe^{-\\lambda}}{X!}$, $\\alpha = 0.05$, reject $H_0$ if $X > c$, $\\alpha = P(X > c~with~\\lambda = 15) = 1 - P(X \\leq c~with~\\lambda=15) = 1 - F(c; \\lambda=15) = 1 - \\sum_{i=0}^c \\frac{15^ie^{-15}}{i!}$\n",
    "\n",
    "$0.05 = 1 - \\sum_{i=0}^c \\frac{15^ie^{-15}}{i!} \\rightarrow 0.95 = \\sum_{i=0}^c \\frac{15^ie^{-15}}{i!}$, if c = 21, $\\sum_{i=0}^{21} \\frac{15^ie^{-15}}{i!} = 0.9469 \\approx 0.95$ so choose $\\boxed{c=21}$"
   ]
  },
  {
   "cell_type": "markdown",
   "metadata": {},
   "source": [
    "\n",
    "#### Part b)\n",
    "\n",
    "If in reality, $\\lambda$ is *actually* equal to 20, what is the probability of making a type 2 error using the cut-off point from (a)?\n",
    "    \n",
    "    "
   ]
  },
  {
   "cell_type": "markdown",
   "metadata": {},
   "source": [
    "$\\beta = P(X \\leq 21~with~\\lambda=20) = F(21; \\lambda =20) = \\sum_{i=0}^{21} \\frac{20^ie^{-20}}{i!} = 0.6436$\n",
    "\n",
    "So the probability of making a type 2 error is $\\boxed{\\beta \\approx 0.64}$"
   ]
  },
  {
   "cell_type": "markdown",
   "metadata": {},
   "source": [
    "<br>\n",
    "\n",
    "---\n",
    "<a/ id='p3'></a>\n",
    "[Back to top](#top)\n",
    "## [10 points] Problem 3 - The power!\n",
    "\n",
    "\n",
    "Let $Y$ be the number of heads in 100 tosses of a possibly biased coin, with probability of heads on any toss $p$. Similar to the Belgian Euro example, we hope to *test* whether the coin is biased **toward heads**.\n",
    "\n",
    "#### Part a)\n",
    "\n",
    "State the null and alternative hypotheses.\n"
   ]
  },
  {
   "cell_type": "markdown",
   "metadata": {},
   "source": [
    "$\\hat{p} = \\frac{Y}{100}$\n",
    "\n",
    "$H_0: \\hat{p} = 0.5$\\\n",
    "$H_a: \\hat{p} > 0.5$"
   ]
  },
  {
   "cell_type": "markdown",
   "metadata": {},
   "source": [
    "\n",
    "#### Part b)\n",
    "Suppose we define the rejection region to be $Y > 58$. \n",
    "\n",
    "Calculate the rate of type I error of this test. (For this, and all remaining parts, calculate probabilities **exactly**, i.e., without using a normal approximation)\n"
   ]
  },
  {
   "cell_type": "markdown",
   "metadata": {},
   "source": [
    "$\\alpha = P(Y > 58~with~\\hat{p}=0.5) = 1 - P(Y \\leq 58~with~\\hat{p}=0.5) = 1 - F(58; \\hat{p}=0.5) = 1 - \\sum_{i=0}^{58} {100 \\choose i}(0.5)^i(1-0.5)^{100-i} = 0.0443 \\rightarrow \\boxed{\\alpha = 0.044}$"
   ]
  },
  {
   "cell_type": "markdown",
   "metadata": {},
   "source": [
    "\n",
    "#### Part c)\n",
    "\n",
    "Simulate a single dataset (or appropriate summary of a dataset) under the null hypothesis, and apply your test from part (a). State your conclusion. Is your conclusion in error? If so, which type?\n",
    "\n",
    "Repeat this process 1000 times in total and verify that the error rate appears consistent with your calculations in part b).\n"
   ]
  },
  {
   "cell_type": "code",
   "execution_count": 39,
   "metadata": {},
   "outputs": [
    {
     "name": "stdout",
     "output_type": "stream",
     "text": [
      "Type I Error Rate:  0.047\n"
     ]
    }
   ],
   "source": [
    "def test_process(p=0.5, n=100):\n",
    "    coin = np.array([\"H\", \"T\"])\n",
    "    # doing the 100 flips\n",
    "    numHeads = 0\n",
    "    for flip in range(0, n+1):\n",
    "        if(np.random.choice(coin) == \"H\"):\n",
    "            numHeads += 1\n",
    "    if(numHeads > 58):\n",
    "        return 1\n",
    "    else:\n",
    "        return 0\n",
    "    \n",
    "# 1 means Null Hypothesis rejected -> type I error\n",
    "# 0 means Null Hypothesis not rejected\n",
    "# type I error rate will be # of times Null Hypothesis rejected / 1000\n",
    "reject_null = [test_process() for i in range(0, 1001)]\n",
    "typeI_error_rate = sum(reject_null) / 1000\n",
    "print(\"Type I Error Rate: \", typeI_error_rate)"
   ]
  },
  {
   "cell_type": "markdown",
   "metadata": {},
   "source": [
    "\n",
    "#### Part d)\n",
    "Consider that the *reality* of a biased coin could take on any number of possible different values of actual bias $p$.  Construct a grid/list of possible values $p$ for the alternative hypothesis $p_{alt}=[0.51,0.52,0.53, \\dots .99, 1.00]$.\n",
    "\n",
    "For each value of $p$ in this list, calculate the power of the test from part $a$.  Return exact values rather than simulated/estimated probabilities.\n",
    "\n",
    "(Recall: statistical **power** is the probability of rejecting the null hypothesis while the alternative hypothesis is true). \n",
    "\n",
    "Plot the power ($y$-axis) against $p$ ($x$-axis) over each of these scenarios. \n",
    "\n",
    "Interpret/comment on this plot. Specifically, as $p$ gets *further* from the specified $p=p_0$ under the null hypothesis, what happens to the power?\n",
    "\n",
    "**Comment on Plot**\\\n",
    "As $p$ gets *further* from the specified $p=p_0$ under the null hypothesis, the power increases until it \n",
    "plateaus at 1, meaning that the likelihood of rejecting the null hypothesis increases as the alternative hypothesis grows larger because the likelihood of getting more than 58 heads increases if the larger alternative hypothesis probability values are true."
   ]
  },
  {
   "cell_type": "code",
   "execution_count": 53,
   "metadata": {},
   "outputs": [
    {
     "data": {
      "image/png": "[encoded data removed]",
      "text/plain": [
       "<Figure size 432x288 with 1 Axes>"
      ]
     },
     "metadata": {
      "needs_background": "light"
     },
     "output_type": "display_data"
    }
   ],
   "source": [
    "def choose(n, r):\n",
    "    return math.factorial(n)/(math.factorial(r)*math.factorial(n-r))\n",
    "\n",
    "p_alt = np.arange(0.51, 1.01, 0.01).tolist()\n",
    "\n",
    "# calculate probability of Y > 58 wtih p = p_alt[i] -> prob = 1 - sum_{k=0}^{58} (100 choose k)(p_alt)^k(1-p_alt)^{100-k}\n",
    "power_list = []\n",
    "for p in p_alt:\n",
    "    sum = 0\n",
    "    for k in range(0, 59):\n",
    "        sum += choose(100, k)*((p)**k)*(1-p)**(100-k)\n",
    "    power = 1 - sum\n",
    "    power_list.append(power)\n",
    "\n",
    "fig1, ax1 = plt.subplots();\n",
    "ax1.plot(p_alt, power_list);\n",
    "ax1.set(title='Power vs. p_alt', ylabel='power', xlabel='p_alt');"
   ]
  },
  {
   "cell_type": "markdown",
   "metadata": {},
   "source": [
    "#### Part e)\n",
    "\n",
    "(e) Suppose we allowed other rejection regions than $Y>58$.  Use the ideas in part (d) to answer the following: how many flips $m$ of a coin are necessary to achieve both $\\alpha=0.05$ **and** $\\beta=0.05$ for the hypothesis in part (a)?\n",
    "\n",
    "$\\hat{p} = \\frac{Y}{100}$\n",
    "\n",
    "$H_0: \\hat{p} = 0.5$\\\n",
    "$H_a: \\hat{p} > 0.5$"
   ]
  },
  {
   "cell_type": "markdown",
   "metadata": {},
   "source": [
    "If we allowed other rejection regions than Y > 58 and wanted to achieve $\\alpha = 0.05$ and $\\beta = 0.05$ for the above hypothesis, then \n",
    "\n",
    "0.05 = P(reject $H_0$ but $\\hat{p} = 0.5$) and 0.05 = P(don't reject $H_0$ but $\\hat{p} > 0.5$) then the number of flips of a coin to achieve this would be greater than 100 but I am not sure how to determine what actual value it would be."
   ]
  }
 ],
 "metadata": {
  "kernelspec": {
   "display_name": "Python 3",
   "language": "python",
   "name": "python3"
  },
  "language_info": {
   "codemirror_mode": {
    "name": "ipython",
    "version": 3
   },
   "file_extension": ".py",
   "mimetype": "text/x-python",
   "name": "python",
   "nbconvert_exporter": "python",
   "pygments_lexer": "ipython3",
   "version": "3.8.3"
  }
 },
 "nbformat": 4,
 "nbformat_minor": 2
}
