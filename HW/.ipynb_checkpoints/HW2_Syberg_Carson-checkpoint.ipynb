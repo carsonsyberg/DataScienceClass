{
 "cells": [
  {
   "cell_type": "markdown",
   "metadata": {},
   "source": [
    "<a id='top'></a>\n",
    "\n",
    "# CSCI3022 S21\n",
    "# Homework 2: Data Wrangling and Visualizations\n",
    "***\n",
    "\n",
    "**Name**: Carson Syberg\n",
    "\n",
    "***\n",
    "\n",
    "This assignment is due on Canvas by **MIDNIGHT on Monday, February 8**. Your solutions to theoretical questions should be done in Markdown directly below the associated question.  Your solutions to computational questions should include any specified Python code and results as well as written commentary on your conclusions.  Remember that you are encouraged to discuss the problems with your classmates, but **you must write all code and solutions on your own**.\n",
    "\n",
    "**NOTES**: \n",
    "\n",
    "- Any relevant data sets should be available on Canvas. To make life easier on the graders if they need to run your code, do not change the relative path names here. Instead, move the files around on your computer.\n",
    "- If you're not familiar with typesetting math directly into Markdown then by all means, do your work on paper first and then typeset it later.  Here is a [reference guide](https://math.meta.stackexchange.com/questions/5020/mathjax-basic-tutorial-and-quick-reference) linked on Canvas on writing math in Markdown. **All** of your written commentary, justifications and mathematical work should be in Markdown.  I also recommend the [wikibook](https://en.wikibooks.org/wiki/LaTeX) for LaTex.\n",
    "- Because you can technically evaluate notebook cells is a non-linear order, it's a good idea to do **Kernel $\\rightarrow$ Restart & Run All** as a check before submitting your solutions.  That way if we need to run your code you will know that it will work as expected. \n",
    "- It is **bad form** to make your reader interpret numerical output from your code.  If a question asks you to compute some value from the data you should show your code output **AND** write a summary of the results in Markdown directly below your code. \n",
    "- 95 points of this assignment are in problems.  The remaining 5 are for neatness, style, and overall exposition of both code and text.\n",
    "- This probably goes without saying, but... For any question that asks you to calculate something, you **must show all work and justify your answers to receive credit**. Sparse or nonexistent work will receive sparse or nonexistent credit. \n",
    "\n",
    "---\n",
    "**Shortcuts:**  [Problem 1](#p1) | [Problem 2](#p2) |\n",
    "---"
   ]
  },
  {
   "cell_type": "code",
   "execution_count": 3,
   "metadata": {},
   "outputs": [],
   "source": [
    "import pandas as pd\n",
    "import numpy as np\n",
    "import matplotlib.pylab as plt\n",
    "%matplotlib inline"
   ]
  },
  {
   "cell_type": "markdown",
   "metadata": {},
   "source": [
    "[Back to top](#top)\n",
    "\n",
    "<a id='p1'></a>\n",
    "\n",
    "## (25 pts) Problem 1: Data (Probability and Histograms)\n",
    "*** \n",
    "The sinking of the RMS Titanic was a terrible tragedy that saw the loss of many lives. Even within this tragedy, thanks to the combinations of the records of the White Star Line and the thorough nature of follow-up research after the accident we have some records that can help us try to piece together the course of events on board the ship. Many of the historians and other researchers who have investigated this event have speculated as to what exactly happened.\n",
    "\n",
    "We have the data on survival rates by class, gender, and age, so let's figure out whether there is evidence for some of these scenarios. Access the Titanic data in `titanic_data.csv` and store it in a Pandas DataFrame. The data contains information pertaining to class status (**Pclass**), survival (**Survived**), and gender (**Sex**) of passengers, among other things. Be sure to use the `titanic_data.csv` data set, *not* the `clean_titanic_data` file or `dirty_titanic_data` file from the in-class notebook exercises."
   ]
  },
  {
   "cell_type": "code",
   "execution_count": 4,
   "metadata": {},
   "outputs": [
    {
     "data": {
      "text/html": [
       "<div>\n",
       "<style scoped>\n",
       "    .dataframe tbody tr th:only-of-type {\n",
       "        vertical-align: middle;\n",
       "    }\n",
       "\n",
       "    .dataframe tbody tr th {\n",
       "        vertical-align: top;\n",
       "    }\n",
       "\n",
       "    .dataframe thead th {\n",
       "        text-align: right;\n",
       "    }\n",
       "</style>\n",
       "<table border=\"1\" class=\"dataframe\">\n",
       "  <thead>\n",
       "    <tr style=\"text-align: right;\">\n",
       "      <th></th>\n",
       "      <th>PassengerId</th>\n",
       "      <th>Survived</th>\n",
       "      <th>Pclass</th>\n",
       "      <th>Name</th>\n",
       "      <th>Sex</th>\n",
       "      <th>Age</th>\n",
       "      <th>SibSp</th>\n",
       "      <th>Parch</th>\n",
       "      <th>Ticket</th>\n",
       "      <th>Fare</th>\n",
       "      <th>Cabin</th>\n",
       "      <th>Embarked</th>\n",
       "    </tr>\n",
       "  </thead>\n",
       "  <tbody>\n",
       "    <tr>\n",
       "      <th>0</th>\n",
       "      <td>1</td>\n",
       "      <td>0</td>\n",
       "      <td>3</td>\n",
       "      <td>Braund, Mr. Owen Harris</td>\n",
       "      <td>male</td>\n",
       "      <td>36.0</td>\n",
       "      <td>1</td>\n",
       "      <td>0</td>\n",
       "      <td>A/5 21171</td>\n",
       "      <td>7.2500</td>\n",
       "      <td>NaN</td>\n",
       "      <td>S</td>\n",
       "    </tr>\n",
       "    <tr>\n",
       "      <th>1</th>\n",
       "      <td>2</td>\n",
       "      <td>1</td>\n",
       "      <td>1</td>\n",
       "      <td>Cumings, Mrs. John Bradley (Florence Briggs Th...</td>\n",
       "      <td>female</td>\n",
       "      <td>18.0</td>\n",
       "      <td>1</td>\n",
       "      <td>0</td>\n",
       "      <td>PC 17599</td>\n",
       "      <td>71.2833</td>\n",
       "      <td>C85</td>\n",
       "      <td>C</td>\n",
       "    </tr>\n",
       "    <tr>\n",
       "      <th>2</th>\n",
       "      <td>3</td>\n",
       "      <td>1</td>\n",
       "      <td>3</td>\n",
       "      <td>Heikkinen, Miss. Laina</td>\n",
       "      <td>female</td>\n",
       "      <td>14.0</td>\n",
       "      <td>0</td>\n",
       "      <td>0</td>\n",
       "      <td>STON/O2. 3101282</td>\n",
       "      <td>7.9250</td>\n",
       "      <td>NaN</td>\n",
       "      <td>S</td>\n",
       "    </tr>\n",
       "    <tr>\n",
       "      <th>3</th>\n",
       "      <td>4</td>\n",
       "      <td>1</td>\n",
       "      <td>1</td>\n",
       "      <td>Futrelle, Mrs. Jacques Heath (Lily May Peel)</td>\n",
       "      <td>female</td>\n",
       "      <td>27.0</td>\n",
       "      <td>1</td>\n",
       "      <td>0</td>\n",
       "      <td>113803</td>\n",
       "      <td>53.1000</td>\n",
       "      <td>C123</td>\n",
       "      <td>S</td>\n",
       "    </tr>\n",
       "    <tr>\n",
       "      <th>4</th>\n",
       "      <td>5</td>\n",
       "      <td>0</td>\n",
       "      <td>3</td>\n",
       "      <td>Allen, Mr. William Henry</td>\n",
       "      <td>male</td>\n",
       "      <td>63.0</td>\n",
       "      <td>0</td>\n",
       "      <td>0</td>\n",
       "      <td>373450</td>\n",
       "      <td>8.0500</td>\n",
       "      <td>NaN</td>\n",
       "      <td>S</td>\n",
       "    </tr>\n",
       "  </tbody>\n",
       "</table>\n",
       "</div>"
      ],
      "text/plain": [
       "   PassengerId  Survived  Pclass  \\\n",
       "0            1         0       3   \n",
       "1            2         1       1   \n",
       "2            3         1       3   \n",
       "3            4         1       1   \n",
       "4            5         0       3   \n",
       "\n",
       "                                                Name     Sex   Age  SibSp  \\\n",
       "0                            Braund, Mr. Owen Harris    male  36.0      1   \n",
       "1  Cumings, Mrs. John Bradley (Florence Briggs Th...  female  18.0      1   \n",
       "2                             Heikkinen, Miss. Laina  female  14.0      0   \n",
       "3       Futrelle, Mrs. Jacques Heath (Lily May Peel)  female  27.0      1   \n",
       "4                           Allen, Mr. William Henry    male  63.0      0   \n",
       "\n",
       "   Parch            Ticket     Fare Cabin Embarked  \n",
       "0      0         A/5 21171   7.2500   NaN        S  \n",
       "1      0          PC 17599  71.2833   C85        C  \n",
       "2      0  STON/O2. 3101282   7.9250   NaN        S  \n",
       "3      0            113803  53.1000  C123        S  \n",
       "4      0            373450   8.0500   NaN        S  "
      ]
     },
     "execution_count": 4,
     "metadata": {},
     "output_type": "execute_result"
    }
   ],
   "source": [
    "filepath = '../Data/titanic_data.csv'\n",
    "df = pd.read_csv(filepath)\n",
    "df.head()"
   ]
  },
  {
   "cell_type": "markdown",
   "metadata": {},
   "source": [
    "**Part A**:\n",
    "Based on the overall population of passengers, report the probability of survival.\n",
    "\n",
    "$$P(Survived=1)$$"
   ]
  },
  {
   "cell_type": "code",
   "execution_count": 5,
   "metadata": {},
   "outputs": [
    {
     "name": "stdout",
     "output_type": "stream",
     "text": [
      "Probability of Survival:  0.39281705948372614\n"
     ]
    }
   ],
   "source": [
    "# Based on overall population of passengers, report probability of survival\n",
    "\n",
    "# prob of survival = number of survivors / number of total passengers\n",
    "survivors = df['Survived'].sum() # number of survivors\n",
    "total = len(df) # total num of passengers is length of the data frame\n",
    "pSurvived = survivors / total\n",
    "print(\"Probability of Survival: \", pSurvived)"
   ]
  },
  {
   "cell_type": "markdown",
   "metadata": {},
   "source": [
    "**Part B**: \n",
    "Some claim that the final hours aboard the RMS Titanic were marked by \"class warfare\" in which the people with first-class tickets took all the good spots on the lifeboats; others claim that the final hours were characterized by male chivalry, in which the men valiantly gave up their positions in the boats and succumbed bravely to the depths of the Atlantic. \n",
    "\n",
    "Consider the two claims: class warfare, and male chivalry. Suppose that class warfare occurred in the final hours aboard the Titanic.  What patterns might you expect to see in the data?  Suppose that male chivalry was widespread during the final hours instead. What patterns might you then expect to see in the data?  Explain both of these hypothesized patterns in words. Are these two hypotheses mutually exclusive or not?"
   ]
  },
  {
   "cell_type": "markdown",
   "metadata": {},
   "source": [
    "**Response to Part B:**\n",
    "\n",
    "If class warfare had occurred in the final hours aboard the Titanic, it would mean that more first-class passengers made it to life boats than passengers with cheaper tickets, and would lead to a higher number of first-class survivors. If instead it was male chivalry at the end, I would expect to see a lower survival probability among men and higher among women and children. These two hypotheses are not mutually exclusive because the two events could have both happened at the same time. The combination of these two events would lead to first-class men having a higher survival probability than lower-class men and first-class women and children having a higher survival probability than lower-class women and children, but all men would have a lower survival probability than all women and children. "
   ]
  },
  {
   "cell_type": "markdown",
   "metadata": {},
   "source": [
    "**Part C**: Use Pandas methods to create a clean data set by removing any rows from the DataFrame that are missing values corresponding to **Survived**, **Pclass**, **Age**, or **Sex**. Store the clean data in a DataFrame called dfTitanic. Be sure to show any exploratory work determining if/where there are rows with missing values. _HINT: There should be 714 rows in your cleaned data set._"
   ]
  },
  {
   "cell_type": "code",
   "execution_count": 6,
   "metadata": {},
   "outputs": [
    {
     "name": "stdout",
     "output_type": "stream",
     "text": [
      "New length of df:  714\n"
     ]
    }
   ],
   "source": [
    "# remove any rows from the df that are missing values in \"Survived\" \"Pclass\" \"Age\" or \"Sex\"\n",
    "\n",
    "# creates new column in the df to track if the row has a bad value in it\n",
    "df['is_bad_data'] = df['Survived'].apply(lambda s: 1 if pd.isnull(s) else 0)\n",
    "df['is_bad_data'] = df.loc[:, 'is_bad_data'] + df['Pclass'].apply(lambda s: 1 if pd.isnull(s) else 0)\n",
    "df['is_bad_data'] = df.loc[:, 'is_bad_data'] + df['Age'].apply(lambda s: 1 if pd.isnull(s) else 0)\n",
    "df['is_bad_data'] = df.loc[:, 'is_bad_data'] + df['Sex'].apply(lambda s: 1 if pd.isnull(s) else 0)\n",
    "\n",
    "# used this website for help on getting indices of the df\n",
    "# https://www.kite.com/python/answers/how-to-get-the-indices-of-rows-in-a-pandas-dataframe-which-satisfy-a-given-condition-in-python\n",
    "index = df.index\n",
    "condition = df['is_bad_data'] == 1\n",
    "bad_data_indices = index[condition]\n",
    "\n",
    "bad_data_indices = bad_data_indices.tolist()\n",
    "\n",
    "for i in bad_data_indices:\n",
    "    df = df.drop(i)\n",
    "    \n",
    "print(\"New length of df: \", len(df))"
   ]
  },
  {
   "cell_type": "markdown",
   "metadata": {},
   "source": [
    "**Part D**: Compute the probability of survival according to class, gender, and all combinations of the two variables.  Then, answer the following questions:\n",
    "* **(i)** When reviewing class survival probability, how do the results compare to the base survival probability results from **Part A**?\n",
    "* **(ii)** When reviewing gender survival probability, how do the results compare to the base survival probability results from **Part A**?\n",
    "* **(iii)** Within each passenger class, were men or women more/less/equally likely to survive?\n",
    "* **(iv)**  Did men in first class or women in third class have a higher survival probability?\n"
   ]
  },
  {
   "cell_type": "code",
   "execution_count": 7,
   "metadata": {},
   "outputs": [
    {
     "name": "stdout",
     "output_type": "stream",
     "text": [
      "First Class Survival Probability:  0.6428571428571429\n",
      "Second Class Survival Probability:  0.4827586206896552\n",
      "Third Class Survival Probability:  0.2518703241895262\n",
      "Male Survival Probability:  0.19654427645788336\n",
      "Female Survival Probability:  0.749003984063745\n",
      "First Class Male Survival Probability:  0.3870967741935484\n",
      "Second Class Male Survival Probability:  0.1839080459770115\n",
      "Third Class Male Survival Probability:  0.13780918727915195\n",
      "First Class Female Survival Probability:  0.96\n",
      "Second Class Female Survival Probability:  0.9310344827586207\n",
      "Third Class Female Survival Probability:  0.5254237288135594\n"
     ]
    }
   ],
   "source": [
    "total = len(df) # total num of passengers is length of the data frame\n",
    "# Compute prob of survival according to class\n",
    "# first class has x% rate\n",
    "# prob of survival = number of survivors / number of total passengers\n",
    "first_survivors = df.loc[df['Pclass'] == 1, 'Survived'].sum() # number of survivors\n",
    "total1 = len(df.loc[df['Pclass'] == 1])\n",
    "pFirstSurvived = first_survivors / total1\n",
    "\n",
    "# second class has x% rate\n",
    "second_survivors = df.loc[df['Pclass'] == 2, 'Survived'].sum() # number of survivors\n",
    "total2 = len(df.loc[df['Pclass'] == 2])\n",
    "pSecondSurvived = second_survivors / total2\n",
    "\n",
    "# third class has x% rate etc...\n",
    "third_survivors = df.loc[df['Pclass'] == 3, 'Survived'].sum() # number of survivors\n",
    "total3 = len(df.loc[df['Pclass'] == 3])\n",
    "pThirdSurvived = third_survivors / total3\n",
    "\n",
    "\n",
    "# Compute prob of survival according to gender\n",
    "# men have x% rate\n",
    "men_survivors = df.loc[df['Sex'] == 'male', 'Survived'].sum() # number of survivors\n",
    "totalM = len(df.loc[df['Sex'] == 'male'])\n",
    "pMenSurvived = men_survivors / totalM\n",
    "\n",
    "# women have x% rate\n",
    "women_survivors = df.loc[df['Sex'] == 'female', 'Survived'].sum() # number of survivors\n",
    "totalF = len(df.loc[df['Sex'] == 'female'])\n",
    "pWomenSurvived = women_survivors / totalF\n",
    "\n",
    "# Compute prob of survival for combinations of the two variables\n",
    "# first class men\n",
    "_firstMen = df.loc[df['Pclass'] == 1, 'Survived'] # number of survivors\n",
    "firstMen = _firstMen.loc[df['Sex'] == 'male'].sum()\n",
    "_total1M = df.loc[df['Pclass'] == 1]\n",
    "total1M = len(_total1M.loc[df['Sex'] == 'male'])\n",
    "pFirstMen = firstMen / total1M\n",
    "\n",
    "# # first class women\n",
    "_firstWomen = df.loc[df['Pclass'] == 1, 'Survived'] # number of survivors\n",
    "firstWomen = _firstWomen.loc[df['Sex'] == 'female'].sum()\n",
    "_total1W = df.loc[df['Pclass'] == 1]\n",
    "total1W = len(_total1W.loc[df['Sex'] == 'female'])\n",
    "pFirstWomen = firstWomen / total1W\n",
    "\n",
    "# # 2nd class men\n",
    "_secondMen = df.loc[df['Pclass'] == 2, 'Survived'] # number of survivors\n",
    "secondMen = _secondMen.loc[df['Sex'] == 'male'].sum()\n",
    "_total2M = df.loc[df['Pclass'] == 2]\n",
    "total2M = len(_total2M.loc[df['Sex'] == 'male'])\n",
    "pSecondMen = secondMen / total2M\n",
    "\n",
    "# # 2nd class women\n",
    "_secondWomen = df.loc[df['Pclass'] == 2, 'Survived'] # number of survivors\n",
    "secondWomen = _secondWomen.loc[df['Sex'] == 'female'].sum()\n",
    "_total2W = df.loc[df['Pclass'] == 2]\n",
    "total2W = len(_total2W.loc[df['Sex'] == 'female'])\n",
    "pSecondWomen = secondWomen / total2W\n",
    "\n",
    "# # 3rd class men\n",
    "_thirdMen = df.loc[df['Pclass'] == 3, 'Survived'] # number of survivors\n",
    "thirdMen = _thirdMen.loc[df['Sex'] == 'male'].sum()\n",
    "_total3M = df.loc[df['Pclass'] == 3]\n",
    "total3M = len(_total3M.loc[df['Sex'] == 'male'])\n",
    "pThirdMen = thirdMen / total3M\n",
    "\n",
    "# # 3rd class women\n",
    "_thirdWomen = df.loc[df['Pclass'] == 3, 'Survived'] # number of survivors\n",
    "thirdWomen = _thirdWomen.loc[df['Sex'] == 'female'].sum()\n",
    "_total3W = df.loc[df['Pclass'] == 3]\n",
    "total3W = len(_total3W.loc[df['Sex'] == 'female'])\n",
    "pThirdWomen = thirdWomen / total3W\n",
    "    \n",
    "print(\"First Class Survival Probability: \", pFirstSurvived)\n",
    "print(\"Second Class Survival Probability: \", pSecondSurvived)\n",
    "print(\"Third Class Survival Probability: \", pThirdSurvived)\n",
    "print(\"Male Survival Probability: \", pMenSurvived)\n",
    "print(\"Female Survival Probability: \", pWomenSurvived)\n",
    "print(\"First Class Male Survival Probability: \", pFirstMen)\n",
    "print(\"Second Class Male Survival Probability: \", pSecondMen)\n",
    "print(\"Third Class Male Survival Probability: \", pThirdMen)\n",
    "print(\"First Class Female Survival Probability: \", pFirstWomen)\n",
    "print(\"Second Class Female Survival Probability: \", pSecondWomen)\n",
    "print(\"Third Class Female Survival Probability: \", pThirdWomen)"
   ]
  },
  {
   "cell_type": "markdown",
   "metadata": {},
   "source": [
    "**Response to Part D**\n",
    "* **(i)** When reviewing class survival probability, how do the results compare to the base survival probability results from **Part A**?\n",
    "\n",
    "The base survival probability is about 0.39, this value is much less than the first class survival probability of 0.64. \n",
    "\n",
    "* **(ii)** When reviewing gender survival probability, how do the results compare to the base survival probability results from **Part A**?\n",
    "\n",
    "In reviewing gender survival probability, women survived with probability 0.74 and men survived with probability 0.20. The female value was greater than the base while the male value was less than the base. \n",
    "\n",
    "* **(iii)** Within each passenger class, were men or women more/less/equally likely to survive?\n",
    "\n",
    "Within each passenger class, women were more likely to survive. In first class, the men survived with probability 0.39 while the women survived with probability 0.96. In second class, the men survived with 0.18 while the women survived with 0.93. Lastly, in the third class men survived with 0.14 and women survived with 0.53. \n",
    "\n",
    "* **(iv)**  Did men in first class or women in third class have a higher survival probability?\n",
    "\n",
    "First class men had a survival probability of 0.39 while third class women had a survival probability of 0.53, so third class women had a higher survival probability. "
   ]
  },
  {
   "cell_type": "markdown",
   "metadata": {},
   "source": [
    "**Part E**: One might wonder how a passenger's age is related to the likelihood that they would survive the Titanic disaster. In addition to the \"male chivalry\" argument outlined above, you can perhaps imagine an addendum - \"women and children first!\" - as the cry to ring out across the decks. Or you might imagine the opposite - rather than \"class warfare\", it is simply healthy adults fighting to take lifeboat spots for themselves.\n",
    "\n",
    "To answer this question graphically, plot two density histograms on the same set of axes, showing the distribution of the ages of passengers who survived, and the distribution of the ages of passengers who did not. \n",
    "* Use the bin edges $[0,5,10,\\ldots,70,75,80]$ for both histograms.\n",
    "* To better distinguish between our populations, we will represent survivors with `navy` (as they were eventually rescued by ships) and those who passed away with `sandybrown`.\n",
    "* Plot both histograms on a single set of axes (there should be only one panel in the figure you create), but use Matplotlib/Pandas plotting functionality to make the faces of the histogram boxes somewhat transparent, so both histograms are visible.\n",
    "* Include a legend and label your axes.\n",
    "* Comment on the results. Does your figure suggest that some age ranges are more or less likely to have survived the disaster than other ages? Fully explain your reasoning and use your figure to justify your conclusions.\n",
    "* If you noticed some relationship between age and likelihood of survival, what is one possible explanation?"
   ]
  },
  {
   "cell_type": "code",
   "execution_count": 8,
   "metadata": {},
   "outputs": [
    {
     "data": {
      "image/png": "[encoded data removed]",
      "text/plain": [
       "<Figure size 576x288 with 1 Axes>"
      ]
     },
     "metadata": {
      "needs_background": "light"
     },
     "output_type": "display_data"
    }
   ],
   "source": [
    "my_bins = range(0,80,5)\n",
    "\n",
    "# need to reset index after removing bad data\n",
    "df = df.reset_index()\n",
    "\n",
    "live_index = df.index\n",
    "live_condition = df['Survived'] == 1\n",
    "live_indices = live_index[live_condition]\n",
    "\n",
    "live_indices = live_indices.tolist()\n",
    "\n",
    "d_index = df.index\n",
    "d_condition = df['Survived'] == 0\n",
    "d_indices = d_index[d_condition]\n",
    "\n",
    "d_indices = d_indices.tolist()\n",
    "\n",
    "# # seperate into survivors and deceased\n",
    "survivors = df.iloc[live_indices]\n",
    "deceased = df.iloc[d_indices]\n",
    "\n",
    "# # Init figure\n",
    "fig, ax = plt.subplots(figsize=(8,4))\n",
    "\n",
    "#plot1 = survivors.hist(column=\"Age\", ax=ax, bins=my_bins, facecolor='navy')\n",
    "#plot2 = deceased.hist(column=\"Age\", ax=ax, bins=my_bins, facecolor='sandybrown')\n",
    "\n",
    "# plot two histograms on same set of axes (show distribution of ages of survivors and distribution of ages of the deceased)\n",
    "#ax.stackplots(plot1, plot2, labels=['plot1', 'plot2'])\n",
    "plt.hist(deceased['Age'], my_bins, density = True, alpha = 0.5, color = 'sandybrown', label = 'deceased')\n",
    "plt.hist(survivors['Age'], my_bins, density = True, alpha = 0.3, color = 'navy', label = 'survived')\n",
    "# use given bins\n",
    "# make survivors navy and deceased sandybrown\n",
    "# make faces of histogram boxes somewhat transparent\n",
    "\n",
    "# include legend / axes labels\n",
    "ax.legend(loc='upper left');\n",
    "ax.set_ylabel('Density of Number of Passengers');\n",
    "ax.set_xlabel('Age of Passengers');\n",
    "\n",
    "\n",
    "# comment on results below"
   ]
  },
  {
   "cell_type": "markdown",
   "metadata": {},
   "source": [
    "* Does your figure suggest that some age ranges are more or less likely to have survived the disaster than other ages? Fully explain your reasoning and use your figure to justify your conclusions.\n",
    "\n",
    "This figure suggests that those from the ages of 15 to 30 are more likely than the other ages to have survived the disaster. \n",
    "As shown in the figure, the density histogram for survivors has its largest values in the interval of 15 to 30 where it also surpasses the deceased histogram showing that for people aged 15 to 30, a higher density of them survived than did not. The figure also shows that children, 30 to 40 year olds, 50 to 55 year olds, and 70 to 75 year olds, had a higher deceased density than survival density, suggesting that being outside of the 15 to 30 year old range leads to less likely survival. \n",
    "\n",
    "* If you noticed some relationship between age and likelihood of survival, what is one possible explanation?\n",
    "\n",
    "I think a possible explanation between age and likelihood of survival is general health. A 20 year old will be much better able to survive treading in freezing water than a young child or an old person. \n",
    "\n",
    "** ** \n",
    "\n",
    "\n",
    "**Part F:** In Part E, we plotted two *density* histograms, showing the distributions of ages of passengers that survived or did not survive the Titanic disaster. Why would it be misleading for us to have plotted these as *frequency* histograms instead?"
   ]
  },
  {
   "cell_type": "markdown",
   "metadata": {},
   "source": [
    "**Response to Part F**\\\n",
    "It would be misleading to plot these as frequency histograms instead because that plot would not be balanced based on population. In the ranges of 15 to 30 there are a large amount of people so on the frequency plot it would show their deceased histogram as much higher than the rest suggesting this group is more at risk than the others for not surviving. By using a density plot, the bins are normalized to show how the different groups stack up based on their differing population counts. "
   ]
  },
  {
   "cell_type": "markdown",
   "metadata": {},
   "source": [
    "**Part G**: Do the data suggest class warfare, male chivalry, age bias, or some combination of these characteristics in the final hours aboard the Titanic?  Justify your conclusions based on the computations done above, or do any other analysis that you like, but be sure to clearly justify your conclusions."
   ]
  },
  {
   "cell_type": "markdown",
   "metadata": {},
   "source": [
    "**Response to Part G**\\\n",
    "The data does suggest class warfare, as the probabilit of first class survival was 0.64, second class was 0.48 and third class was 0.25. The data also suggests male chivalry, as overall male survival probability was 0.20 while female was 0.75. Another piece of evidence for male chivalry and not class warfare, is that first class males had a lower survival rate than third class females. Age bias played a role as well, as out of the groups of people aged 15 to 30, there was a higher percentage of survival than other groups. There was also just a larger number of people in that age range which could also have lead to the higher chance of survival. "
   ]
  },
  {
   "cell_type": "markdown",
   "metadata": {},
   "source": [
    "[Back to top](#top)\n",
    "<a/ id='p2'></a>\n",
    "\n",
    "## (20 pts) Problem 2: Data (Box Plots and Outliers)\n",
    "***\n",
    "\n",
    "NOAA's Physical Sciences division (https://www.esrl.noaa.gov/psd) houses an enormous amount of weather data.  Load `BoulderPrecip.csv` from the course page for the last 120 years of monthly precipitation data from Boulder.  Let's take a look!"
   ]
  },
  {
   "cell_type": "code",
   "execution_count": 84,
   "metadata": {},
   "outputs": [
    {
     "data": {
      "text/html": [
       "<div>\n",
       "<style scoped>\n",
       "    .dataframe tbody tr th:only-of-type {\n",
       "        vertical-align: middle;\n",
       "    }\n",
       "\n",
       "    .dataframe tbody tr th {\n",
       "        vertical-align: top;\n",
       "    }\n",
       "\n",
       "    .dataframe thead th {\n",
       "        text-align: right;\n",
       "    }\n",
       "</style>\n",
       "<table border=\"1\" class=\"dataframe\">\n",
       "  <thead>\n",
       "    <tr style=\"text-align: right;\">\n",
       "      <th></th>\n",
       "      <th>Year</th>\n",
       "      <th>JAN</th>\n",
       "      <th>FEB</th>\n",
       "      <th>MAR</th>\n",
       "      <th>APR</th>\n",
       "      <th>MAY</th>\n",
       "      <th>JUN</th>\n",
       "      <th>JUL</th>\n",
       "      <th>AUG</th>\n",
       "      <th>SEP</th>\n",
       "      <th>OCT</th>\n",
       "      <th>NOV</th>\n",
       "      <th>DEC</th>\n",
       "      <th>YEAR TOTAL</th>\n",
       "    </tr>\n",
       "  </thead>\n",
       "  <tbody>\n",
       "    <tr>\n",
       "      <th>0</th>\n",
       "      <td>1900</td>\n",
       "      <td>0.40</td>\n",
       "      <td>1.06</td>\n",
       "      <td>0.75</td>\n",
       "      <td>9.18</td>\n",
       "      <td>1.84</td>\n",
       "      <td>0.49</td>\n",
       "      <td>0.48</td>\n",
       "      <td>0.22</td>\n",
       "      <td>1.54</td>\n",
       "      <td>0.13</td>\n",
       "      <td>0.19</td>\n",
       "      <td>0.61</td>\n",
       "      <td>16.89</td>\n",
       "    </tr>\n",
       "    <tr>\n",
       "      <th>1</th>\n",
       "      <td>1901</td>\n",
       "      <td>0.53</td>\n",
       "      <td>0.30</td>\n",
       "      <td>1.74</td>\n",
       "      <td>3.51</td>\n",
       "      <td>1.62</td>\n",
       "      <td>1.76</td>\n",
       "      <td>0.46</td>\n",
       "      <td>1.69</td>\n",
       "      <td>0.16</td>\n",
       "      <td>0.65</td>\n",
       "      <td>Tr</td>\n",
       "      <td>1.43</td>\n",
       "      <td>13.85</td>\n",
       "    </tr>\n",
       "    <tr>\n",
       "      <th>2</th>\n",
       "      <td>1902</td>\n",
       "      <td>0.37</td>\n",
       "      <td>0.48</td>\n",
       "      <td>1.48</td>\n",
       "      <td>1.01</td>\n",
       "      <td>2.32</td>\n",
       "      <td>1.46</td>\n",
       "      <td>1.26</td>\n",
       "      <td>0.53</td>\n",
       "      <td>5.46</td>\n",
       "      <td>1.44</td>\n",
       "      <td>1.29</td>\n",
       "      <td>1.34</td>\n",
       "      <td>18.44</td>\n",
       "    </tr>\n",
       "    <tr>\n",
       "      <th>3</th>\n",
       "      <td>1903</td>\n",
       "      <td>0.08</td>\n",
       "      <td>1.52</td>\n",
       "      <td>1.45</td>\n",
       "      <td>2.31</td>\n",
       "      <td>2.02</td>\n",
       "      <td>1.87</td>\n",
       "      <td>0.95</td>\n",
       "      <td>1.46</td>\n",
       "      <td>1.31</td>\n",
       "      <td>3.43</td>\n",
       "      <td>0.15</td>\n",
       "      <td>0.16</td>\n",
       "      <td>16.71</td>\n",
       "    </tr>\n",
       "    <tr>\n",
       "      <th>4</th>\n",
       "      <td>1904</td>\n",
       "      <td>0.09</td>\n",
       "      <td>0.31</td>\n",
       "      <td>2.37</td>\n",
       "      <td>1.45</td>\n",
       "      <td>5.35</td>\n",
       "      <td>2.72</td>\n",
       "      <td>1.05</td>\n",
       "      <td>1.00</td>\n",
       "      <td>1.60</td>\n",
       "      <td>1.06</td>\n",
       "      <td>0.08</td>\n",
       "      <td>0.70</td>\n",
       "      <td>17.78</td>\n",
       "    </tr>\n",
       "  </tbody>\n",
       "</table>\n",
       "</div>"
      ],
      "text/plain": [
       "   Year   JAN   FEB   MAR   APR   MAY   JUN   JUL   AUG   SEP   OCT   NOV  \\\n",
       "0  1900  0.40  1.06  0.75  9.18  1.84  0.49  0.48  0.22  1.54  0.13  0.19   \n",
       "1  1901  0.53  0.30  1.74  3.51  1.62  1.76  0.46  1.69  0.16  0.65    Tr   \n",
       "2  1902  0.37  0.48  1.48  1.01  2.32  1.46  1.26  0.53  5.46  1.44  1.29   \n",
       "3  1903  0.08  1.52  1.45  2.31  2.02  1.87  0.95  1.46  1.31  3.43  0.15   \n",
       "4  1904  0.09  0.31  2.37  1.45  5.35  2.72  1.05  1.00  1.60  1.06  0.08   \n",
       "\n",
       "    DEC  YEAR TOTAL  \n",
       "0  0.61       16.89  \n",
       "1  1.43       13.85  \n",
       "2  1.34       18.44  \n",
       "3  0.16       16.71  \n",
       "4  0.70       17.78  "
      ]
     },
     "execution_count": 84,
     "metadata": {},
     "output_type": "execute_result"
    }
   ],
   "source": [
    "dfPrecip = pd.read_csv('../Data/boulder_precip_12021.csv')\n",
    "dfPrecip.head()\n"
   ]
  },
  {
   "cell_type": "markdown",
   "metadata": {},
   "source": [
    "**Part A:** SCRUBBING!  Our data set is going to be tough to use for a few reasons.\n",
    "\n",
    "1) When the amount of precipitation was nonzero but too small to be recorded, this data set recorded `tr`.  Replace these with zeroes.\n",
    "\n",
    "2) 2021 isn't over yet!  We have one row at the bottom that isn't fully complete and blank values are filling the months that haven't happened yet.  This can wreak havoc on some of our methods!  **Drop** the 2021 data entirely.\n",
    "\n",
    "3) You may have some object typing issues relating to columns that contained both \"Tr\"/\"NA\" and numeric values.  Ensure that Python is treating all of your data as numeric! (see `df.dtypes`)"
   ]
  },
  {
   "cell_type": "code",
   "execution_count": 85,
   "metadata": {},
   "outputs": [],
   "source": [
    "# go through whole dataframe and replace all instances of tr with 0\n",
    "dfPrecip = dfPrecip.replace(to_replace='Tr', value = 0)\n",
    "\n",
    "# drop all data with 'Year' == 2021\n",
    "drop_indices = dfPrecip.index[dfPrecip['Year'] == 2021]\n",
    "drop_indices = drop_indices.tolist()\n",
    "\n",
    "for i in drop_indices:\n",
    "    dfPrecip = dfPrecip.drop(i)\n",
    "\n",
    "# Do this I had to iterate through each column and use df[column].str.replace('*',''), then convert to floats. \n",
    "columns = ['JAN', 'FEB', 'MAY', 'JUN', 'AUG', 'SEP', 'OCT', 'NOV', 'DEC']\n",
    "\n",
    "for c in columns:\n",
    "    dfPrecip[c] = dfPrecip[c].str.replace('*','')\n",
    "\n",
    "dfPrecip = dfPrecip.astype({'JAN':'float64', 'FEB':'float64', 'MAY':'float64', 'JUN':'float64', 'AUG':'float64', 'SEP':'float64','OCT':'float64','NOV':'float64','DEC':'float64'});"
   ]
  },
  {
   "cell_type": "markdown",
   "metadata": {},
   "source": [
    "**Part B:** Generate a series of 12 box plots with month as the x axis and precipitation on the y-axis."
   ]
  },
  {
   "cell_type": "code",
   "execution_count": 129,
   "metadata": {},
   "outputs": [
    {
     "data": {
      "text/plain": [
       "<matplotlib.axes._subplots.AxesSubplot at 0x25035c2b220>"
      ]
     },
     "execution_count": 129,
     "metadata": {},
     "output_type": "execute_result"
    },
    {
     "data": {
      "image/png": "[encoded data removed]",
      "text/plain": [
       "<Figure size 1440x2160 with 12 Axes>"
      ]
     },
     "metadata": {
      "needs_background": "light"
     },
     "output_type": "display_data"
    }
   ],
   "source": [
    "# X-axis is month, Y-axis is precipitation\n",
    "plt.figure(figsize=(20, 30))\n",
    "ax_1 = plt.subplot2grid((4,3), (0,0))\n",
    "ax_2 = plt.subplot2grid((4,3), (0, 1))\n",
    "ax_3 = plt.subplot2grid((4,3), (0, 2))\n",
    "ax_4 = plt.subplot2grid((4,3), (1, 0))\n",
    "ax_5 = plt.subplot2grid((4,3), (1, 1))\n",
    "ax_6 = plt.subplot2grid((4,3), (1, 2))\n",
    "ax_7 = plt.subplot2grid((4,3), (2, 0))\n",
    "ax_8 = plt.subplot2grid((4,3), (2, 1))\n",
    "ax_9 = plt.subplot2grid((4,3), (2, 2))\n",
    "ax_10 = plt.subplot2grid((4,3), (3, 0))\n",
    "ax_11 = plt.subplot2grid((4,3), (3, 1))\n",
    "ax_12 = plt.subplot2grid((4,3), (3, 2))\n",
    "\n",
    "# JAN\n",
    "dfPrecip.boxplot(column='JAN', ax=ax_1)\n",
    "\n",
    "# FEB\n",
    "dfPrecip.boxplot(column='FEB', ax=ax_2)\n",
    "\n",
    "# MAR\n",
    "dfPrecip.boxplot(column='MAR', ax=ax_3)\n",
    "\n",
    "# APR\n",
    "dfPrecip.boxplot(column='APR', ax=ax_4)\n",
    "\n",
    "# MAY\n",
    "dfPrecip.boxplot(column='MAY', ax=ax_5)\n",
    "\n",
    "# JUN\n",
    "dfPrecip.boxplot(column='JUN', ax=ax_6)\n",
    "\n",
    "# JUL\n",
    "dfPrecip.boxplot(column='JUL', ax=ax_7)\n",
    "\n",
    "# AUG\n",
    "dfPrecip.boxplot(column='AUG', ax=ax_8)\n",
    "\n",
    "# SEP\n",
    "dfPrecip.boxplot(column='SEP', ax=ax_9)\n",
    "\n",
    "# OCT\n",
    "dfPrecip.boxplot(column='OCT', ax=ax_10)\n",
    "\n",
    "# NOV\n",
    "dfPrecip.boxplot(column='NOV', ax=ax_11)\n",
    "\n",
    "# DEC\n",
    "dfPrecip.boxplot(column='DEC', ax=ax_12)"
   ]
  },
  {
   "cell_type": "markdown",
   "metadata": {},
   "source": [
    "\n",
    "**Part C:** Spring is the wet season in Boulder.   But what is Spring?\n",
    "\n",
    "Atmospheric scientists love to group months seasonally, breaking the year into a Winter season including December, January, February; a Spring including March, April, and May; and so forth.\n",
    "\n",
    "The solar year, however, says that Spring runs from near the end of March until near the end of June: let's round at the nearest month and say that it includes the months of April, May and June.\n",
    "\n",
    "Generate a box plot with precipitation on the y-axis and the two possible monthly 'Spring' groupings (March-May versus April-June) as the x-axis."
   ]
  },
  {
   "cell_type": "code",
   "execution_count": 163,
   "metadata": {},
   "outputs": [
    {
     "data": {
      "text/plain": [
       "<matplotlib.axes._subplots.AxesSubplot at 0x25036301100>"
      ]
     },
     "execution_count": 163,
     "metadata": {},
     "output_type": "execute_result"
    },
    {
     "data": {
      "image/png": "[encoded data removed]",
      "text/plain": [
       "<Figure size 432x432 with 1 Axes>"
      ]
     },
     "metadata": {
      "needs_background": "light"
     },
     "output_type": "display_data"
    }
   ],
   "source": [
    "# Generate box plot with precipitation on y-axis and two differnet 'spring' versions on same x-axis\n",
    "fig, ax_13 = plt.subplots(figsize=(6,6))\n",
    "\n",
    "march_list = dfPrecip['MAR']\n",
    "march_list = march_list.append(dfPrecip['APR'])\n",
    "march_list = march_list.append(dfPrecip['MAY'])\n",
    "\n",
    "april_list = dfPrecip['APR']\n",
    "april_list = april_list.append(dfPrecip['MAY'])\n",
    "april_list = april_list.append(dfPrecip['JUN'])\n",
    "\n",
    "data = {'MarSpr': march_list, 'AprSpr': april_list}\n",
    "df_plotting = pd.DataFrame(data, columns=['MarSpr', 'AprSpr'])\n",
    "df_plotting = df_plotting.reset_index()\n",
    "\n",
    "df_plotting.boxplot(column=['MarSpr', 'AprSpr'], ax=ax_13)"
   ]
  },
  {
   "cell_type": "markdown",
   "metadata": {},
   "source": [
    "**Part D:** These might look pretty similar!  Highlight and comment on any differences by calculating the mean, standard deviation, and a Tukey five number summary of each classification of Spring.  Is there a reason here to favor one grouping over the other?"
   ]
  },
  {
   "cell_type": "code",
   "execution_count": 168,
   "metadata": {},
   "outputs": [
    {
     "name": "stdout",
     "output_type": "stream",
     "text": [
      "count    362.000000\n",
      "mean       2.515552\n",
      "std        1.672429\n",
      "min        0.010000\n",
      "25%        1.370000\n",
      "50%        2.115000\n",
      "75%        3.362500\n",
      "max        9.590000\n",
      "Name: MarSpr, dtype: float64 \n",
      "\n",
      "count    361.000000\n",
      "mean       2.574515\n",
      "std        1.696343\n",
      "min        0.130000\n",
      "25%        1.370000\n",
      "50%        2.120000\n",
      "75%        3.470000\n",
      "max        9.590000\n",
      "Name: AprSpr, dtype: float64\n"
     ]
    }
   ],
   "source": [
    "print(df_plotting['MarSpr'].describe(), '\\n')\n",
    "\n",
    "print(df_plotting['AprSpr'].describe())"
   ]
  },
  {
   "cell_type": "markdown",
   "metadata": {},
   "source": [
    "**Analysis to Part D**\n",
    "\n",
    "The mean of the March-May spring was 2.52 while the mean of the April-June spring was 2.57. This difference suggests June must have a higher average precipitation than March, as it May and April are apart of each mean calculation. \n",
    "\n",
    "The Tukey five number summary for March-May was a min of 0.01, quartiles of 1.37, 2.11, and 3.36, and a max of 9.60. For April-June it had a min of 0.13, quartiles of 1.37, 2.12, and 3.47, and a max of 9.60. These values for the two springs are similar, except that March-May had a much lower minimum of 0.01 while April-June had a higher minimum of 0.13.\n",
    "\n",
    "The standard deviation for March-May was 1.67 while the standard deviation for April-June was 1.70. March-May having a lower standard deviation is a reason to favor that grouping because it means there will be less skewing from extreme data points. "
   ]
  },
  {
   "cell_type": "markdown",
   "metadata": {},
   "source": [
    "**Part E:** Create a density histogram of the September precipitation.  Classify and describe this histogram, including discussion of any skewness, multimodality, or outliers.  Find the data point associated with September, 2013, and recreate your histogram with that value in a different color or otherwise clearly marked."
   ]
  },
  {
   "cell_type": "code",
   "execution_count": 203,
   "metadata": {},
   "outputs": [
    {
     "name": "stdout",
     "output_type": "stream",
     "text": [
      "Sep 2013:  113    18.16\n",
      "Name: SEP, dtype: float64\n"
     ]
    },
    {
     "data": {
      "image/png": "[encoded data removed]",
      "text/plain": [
       "<Figure size 576x432 with 1 Axes>"
      ]
     },
     "metadata": {
      "needs_background": "light"
     },
     "output_type": "display_data"
    }
   ],
   "source": [
    "# create density histogram of SEP\n",
    "fig_4, ax_14 = plt.subplots(figsize=(8,6));\n",
    "\n",
    "dfPrecip.hist(column='SEP', ax=ax_14, bins=range(0, 22, 2), density=True);\n",
    "\n",
    "desired_year = dfPrecip.loc[dfPrecip['Year'] == 2013];\n",
    "desired_point = desired_year['SEP'];\n",
    "print(\"Sep 2013: \", desired_point);\n",
    "\n",
    "ax_14.annotate('18.16', xy=(18.16, 0), xytext=(18.16,0.03), arrowprops = dict(facecolor='red', shrink=0.05));\n",
    "# find data point with SEP 2013 and recreate histogram with that value in a different color or marked on it"
   ]
  },
  {
   "cell_type": "markdown",
   "metadata": {},
   "source": [
    "**Analysis for Part E**\n",
    "\n",
    "This histogram has positive skew, as its outlier is a large positive number, 18.16. Because of the outlier it could be argued that this histogram is bimodal. For bimodality, there must be more than one local maximum, and although the outlier is much lower than the peak of the first portion of the histogram, it is still higher than the bins around it, and if drawing a curve to fit this histogram, there would be two bumps, one at the early values less than 2.5 and a much smaller bump near the 18.16 value. "
   ]
  },
  {
   "cell_type": "markdown",
   "metadata": {},
   "source": [
    "**Part F:** That one data point in September 2013 is pretty out there!  Compute the mean and standard deviation of the September precipitation values, then compute them again while excluding the 2013 observation.  How much did each change?\n",
    "\n",
    "If someone were to ask you about the average weather in September, what would you respond?\n",
    "\n"
   ]
  },
  {
   "cell_type": "code",
   "execution_count": 221,
   "metadata": {},
   "outputs": [
    {
     "name": "stdout",
     "output_type": "stream",
     "text": [
      "With 2013 Mean:  1.7313559322033893\n",
      "With 2013 Std:  1.9814752836156935 \n",
      "\n",
      "Without 2013 Mean:  1.5909401709401705\n",
      "Without 2013 Std:  1.270227364188968\n"
     ]
    }
   ],
   "source": [
    "dfSep = dfPrecip[['SEP', 'Year']]\n",
    "print(\"With 2013 Mean: \", dfSep['SEP'].mean())\n",
    "print(\"With 2013 Std: \", dfSep['SEP'].std(), '\\n')\n",
    "\n",
    "dfSep = dfSep.drop(dfSep.index[dfSep['Year'] == 2013])\n",
    "print(\"Without 2013 Mean: \", dfSep['SEP'].mean())\n",
    "print(\"Without 2013 Std: \", dfSep['SEP'].std())\n"
   ]
  },
  {
   "cell_type": "markdown",
   "metadata": {},
   "source": [
    "**Analysis for Part F**\n",
    "\n",
    "The mean decreased by 0.14 and the standard deviation decreased by 0.71. \n",
    "If someone were to ask me about average weather in September I would use the mean calculated without the extreme point because the odds of the outlier happening are much lower than the other points, so the points that are likely to happen are what give the best idea of what the precipitation will truly be like. "
   ]
  },
  {
   "cell_type": "markdown",
   "metadata": {},
   "source": [
    "[Back to top](#top)"
   ]
  }
 ],
 "metadata": {
  "kernelspec": {
   "display_name": "Python 3",
   "language": "python",
   "name": "python3"
  },
  "language_info": {
   "codemirror_mode": {
    "name": "ipython",
    "version": 3
   },
   "file_extension": ".py",
   "mimetype": "text/x-python",
   "name": "python",
   "nbconvert_exporter": "python",
   "pygments_lexer": "ipython3",
   "version": "3.8.3"
  }
 },
 "nbformat": 4,
 "nbformat_minor": 2
}
