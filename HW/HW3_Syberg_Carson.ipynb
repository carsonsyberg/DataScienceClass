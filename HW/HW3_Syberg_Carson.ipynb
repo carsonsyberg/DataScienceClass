{
 "cells": [
  {
   "cell_type": "markdown",
   "metadata": {},
   "source": [
    "<a id='top'></a>\n",
    "\n",
    "# CSCI3022 S21\n",
    "# Homework 3: Probability and Simulations\n",
    "***\n",
    "\n",
    "**Name**: Carson Syberg\n",
    "\n",
    "***\n",
    "\n",
    "This assignment is due on Canvas by **MIDNIGHT on Monday, February 22**. Your solutions to theoretical questions should be done in Markdown directly below the associated question.  Your solutions to computational questions should include any specified Python code and results as well as written commentary on your conclusions.  Remember that you are encouraged to discuss the problems with your classmates, but **you must write all code and solutions on your own**.\n",
    "\n",
    "**NOTES**: \n",
    "\n",
    "- Any relevant data sets should be available on Canvas. To make life easier on the graders if they need to run your code, do not change the relative path names here. Instead, move the files around on your computer.\n",
    "- If you're not familiar with typesetting math directly into Markdown then by all means, do your work on paper first and then typeset it later.  Here is a [reference guide](https://math.meta.stackexchange.com/questions/5020/mathjax-basic-tutorial-and-quick-reference) linked on Canvas on writing math in Markdown. **All** of your written commentary, justifications and mathematical work should be in Markdown.  I also recommend the [wikibook](https://en.wikibooks.org/wiki/LaTeX) for LaTex.\n",
    "- Because you can technically evaluate notebook cells is a non-linear order, it's a good idea to do **Kernel $\\rightarrow$ Restart & Run All** as a check before submitting your solutions.  That way if we need to run your code you will know that it will work as expected. \n",
    "- It is **bad form** to make your reader interpret numerical output from your code.  If a question asks you to compute some value from the data you should show your code output **AND** write a summary of the results in Markdown directly below your code. \n",
    "- 95 points of this assignment are in problems.  The remaining 5 are for neatness, style, and overall exposition of both code and text.\n",
    "- This probably goes without saying, but... For any question that asks you to calculate something, you **must show all work and justify your answers to receive credit**. Sparse or nonexistent work will receive sparse or nonexistent credit. \n",
    "\n",
    "---\n",
    "**Shortcuts:**  [Problem 1](#p1) | [Problem 2](#p2) | [Problem 3](#p3) |\n",
    "---"
   ]
  },
  {
   "cell_type": "code",
   "execution_count": 2,
   "metadata": {},
   "outputs": [],
   "source": [
    "import pandas as pd\n",
    "import numpy as np\n",
    "import matplotlib.pylab as plt\n",
    "from collections import namedtuple\n",
    "%matplotlib inline"
   ]
  },
  {
   "cell_type": "markdown",
   "metadata": {},
   "source": [
    "[Back to top](#top)\n",
    "\n",
    "<a id='p1'></a>\n",
    "\n",
    "## (25 pts) Problem 1 (Simulation): Let's play some \"games\"!\n",
    "***\n",
    "\n",
    "One of the big payoffs of simulation is that it can let us answer some probability questions that are otherwise quite difficult.  We can instead just simulate the process and get approximate results based on simulation.\n",
    "\n"
   ]
  },
  {
   "cell_type": "markdown",
   "metadata": {},
   "source": [
    "***\n",
    "### A) Poker... pen-and-paper\n",
    "Game number 1... is Poker!\n",
    "\n",
    "A common example for discrete counting and probability questions are poker hands.  Consider using a standard 52-card playing deck, with card faces `[A,2,3,4,5,6,7,8,9,10,J,Q,K]` across the standard 4 suits: `[C,D,H,S]`.\n",
    "\n",
    "Suppose we draw 5 cards at random from the deck.  What is the exact probability that we have a \"full house:\" a hand with 3 copies of one card face type (of any suits) and the other two cards matches of a different card face type (of any suits)?  Typeset your work below.  You may leave your answer in terms of a ratio of products, but you should simplify away any combinatoric notation such as ${n \\choose k}$ or $P(n,k)$.\n",
    "\n",
    "The exact probability of a \"full house\" is the number of possible full houses divided by the total number of ways to pick five cards. The number of possible full houses is ${13 \\choose 1}{4 \\choose 3}{12 \\choose 1}{4 \\choose 2}$. The total number of ways to pick five cards is ${52 \\choose 5}$. So the probability of a full house is $\\boxed{\\frac{3744}{2598960}}$."
   ]
  },
  {
   "cell_type": "code",
   "execution_count": 147,
   "metadata": {},
   "outputs": [
    {
     "name": "stdout",
     "output_type": "stream",
     "text": [
      "13\n"
     ]
    }
   ],
   "source": [
    "def five_card_draw():\n",
    "    Card = namedtuple('Card',['value', 'suit'])\n",
    "\n",
    "    deck = []\n",
    "    deck_index = []\n",
    "    val = 2\n",
    "    s = 0\n",
    "    for i in range(52):\n",
    "        C = Card(val, s)\n",
    "        deck.append(C)\n",
    "        deck_index.append(i)\n",
    "\n",
    "        # increment suit every time, once it reaches 4 reset it to 0 and go up a value\n",
    "        if s == 3 :\n",
    "            val = val + 1\n",
    "            s = 0\n",
    "        else:\n",
    "            s = s + 1 # if not at 4 yet, switch suits since still on one value\n",
    "    \n",
    "    deck_index = np.array(deck_index)\n",
    "    \n",
    "    hand = []\n",
    "    # have the deck generated and a way to pick cards, now pick 5 (don't forget to discard)\n",
    "    removed_counter = 0\n",
    "    for i in range(5):\n",
    "        deck_i = np.random.choice(deck_index) # picking a card index\n",
    "        # finding its index for deletion\n",
    "        count = 0\n",
    "        delete_index = 0\n",
    "        for d_i in deck_index:\n",
    "            if(d_i == deck_i):\n",
    "                delete_index = count\n",
    "                break\n",
    "            else:\n",
    "                count += 1\n",
    "        \n",
    "        hand.append(deck[deck_i]) # adding chosen card to hand\n",
    "        deck_index = np.delete(deck_index, [delete_index]) # removing chosen card from availables\n",
    "    \n",
    "    return hand\n",
    "    \n",
    "five_card_draw()\n",
    "\n",
    "many_hands = [five_card_draw() for ii in range(10000)]\n",
    "numFullHouse = 0\n",
    "counter = 0\n",
    "for h in many_hands:\n",
    "    # determine if full house -> 10 possibilities\n",
    "    if((h[0].value == h[1].value == h[2].value) & (h[3].value == h[4].value)):\n",
    "        numFullHouse += 1\n",
    "#         print(h)\n",
    "    \n",
    "    if((h[0].value == h[1].value) & (h[2].value == h[3].value == h[4].value)):\n",
    "        numFullHouse += 1\n",
    "#         print(h)\n",
    "        \n",
    "    if((h[0].value == h[2].value == h[3].value) & (h[1].value == h[4].value)):\n",
    "        numFullHouse += 1\n",
    "#         print(h)\n",
    "        \n",
    "    if((h[0].value == h[1].value == h[3].value) & (h[2].value == h[4].value)):\n",
    "        numFullHouse += 1\n",
    "#         print(h)\n",
    "        \n",
    "    if((h[0].value == h[4].value) & (h[1].value == h[2].value == h[3].value)):\n",
    "        numFullHouse += 1\n",
    "#         print(h)\n",
    "        \n",
    "    if((h[0].value == h[2].value) & (h[1].value == h[3].value == h[4].value)):\n",
    "        numFullHouse += 1\n",
    "#         print(h)\n",
    "        \n",
    "    if((h[0].value == h[3].value) & (h[1].value == h[2].value == h[4].value)):\n",
    "        numFullHouse += 1\n",
    "#         print(h)\n",
    "        \n",
    "    if((h[0].value == h[2].value == h[4].value) & (h[1].value == h[3].value)):\n",
    "        numFullHouse += 1\n",
    "#         print(h)\n",
    "        \n",
    "    if((h[0].value == h[3].value == h[4].value) & (h[1].value == h[2].value)):\n",
    "        numFullHouse += 1\n",
    "#         print(h)\n",
    "        \n",
    "    if((h[0].value == h[1].value == h[4].value) & (h[2].value == h[3].value)):\n",
    "        numFullHouse += 1\n",
    "#         print(h)\n",
    "        \n",
    "print(numFullHouse)"
   ]
  },
  {
   "cell_type": "markdown",
   "metadata": {},
   "source": [
    "The simulation gave an output of 13 full house hands out of 10,000 drawn. This led to a similar probability as the exact probability calculated above. \n",
    "\n",
    "***\n",
    "### B) Poker with computers!\n",
    "\n",
    "Write a simulation that draws a hand of 5 cards from a standard 52-card deck. Repeat this simulation 10000 times, and report how many \"full house\" hands were observed. Verify that the result is consistent with your answer to part A.\n",
    "\n",
    "NB: The function `np.unique` can make checking hands easier.  Your actual simulation should have 52 distinct cards, even if we're only using the faces (and not suits) for the check of full house.\n",
    "\n"
   ]
  },
  {
   "cell_type": "markdown",
   "metadata": {},
   "source": [
    "The Riddler is a column on the website https://fivethirtyeight.com that posts logic, math, and probability puzzles each week.  Some of puzzles can be attacked by simulation and discrete probability: things that we have the tools to solve!\n",
    "\n",
    "Parts C/Eare former Riddler prompts.\n",
    "\n",
    "\n",
    "***\n",
    "### C) A \"solitaire\" game\n",
    "\n",
    "On snowy afternoons, you like to play a solitaire “game” with a standard, randomly shuffled deck of 52 cards. You start dealing cards face up, one at a time, into a pile. As you deal each card, you also speak aloud, in order, the 13 card faces in a standard deck: ace, two, three, etc. (When you get to king, you start over at ace.) You keep doing this until the rank of the card you deal matches the rank you speak aloud, in which case you lose. You win if you reach the end of the deck without any matches.\n",
    "\n",
    "Set up a simulation to answer the prompt: what is the probability that you win?\n",
    "\n",
    "Note that your final result should be *close* to the value of $(12/13)^{52}$, which would be the theoretical result if each card flip was independent.  Was it higher or lower?  Does this match your intuition?"
   ]
  },
  {
   "cell_type": "code",
   "execution_count": 319,
   "metadata": {},
   "outputs": [
    {
     "name": "stdout",
     "output_type": "stream",
     "text": [
      "162\n"
     ]
    }
   ],
   "source": [
    "def play_solitaire():\n",
    "    \n",
    "    # creating deck\n",
    "    Card = namedtuple('Card',['value', 'suit'])\n",
    "\n",
    "    deck = []\n",
    "    deck_index = []\n",
    "    val = 1\n",
    "    s = 0\n",
    "    for i in range(52):\n",
    "        C = Card(val, s)\n",
    "        deck.append(C)\n",
    "        # increment suit every time, once it reaches 4 reset it to 0 and go up a value\n",
    "        if s == 3 :\n",
    "            val = val + 1\n",
    "            s = 0\n",
    "        else:\n",
    "            s += 1 # if not at 4 yet, switch suits since still on one value\n",
    "    \n",
    "    # creating array to keep track of deleted cards\n",
    "    deck_index = [i for i in range(52)]\n",
    "    deck_index = np.array(deck_index)\n",
    "    \n",
    "    # 1 represents A in this deck\n",
    "    rank = 1\n",
    "    for c in range(52):\n",
    "        # pick a card\n",
    "        deck_i = np.random.choice(deck_index)\n",
    "        # delete from possible choices\n",
    "        # finding its index for deletion\n",
    "        count = 0\n",
    "        delete_index = 0\n",
    "        for d_i in deck_index:\n",
    "            if(d_i == deck_i):\n",
    "                delete_index = count\n",
    "                break\n",
    "            else:\n",
    "                count += 1\n",
    "        # removing the card\n",
    "        deck_index = np.delete(deck_index, [delete_index]) \n",
    "\n",
    "        # check if card has same suit as current suit -> means game lost\n",
    "        if(deck[deck_i].value == rank):\n",
    "            return 0\n",
    "        \n",
    "        # if not, increment suit and loop around again\n",
    "        # if we've reached 13 (K), means go back to A\n",
    "        if(rank == 13):\n",
    "            rank = 1\n",
    "        else:\n",
    "            rank += 1\n",
    "            \n",
    "    # if gets through 52 cards w/out matching suits, we've won\n",
    "    return 1\n",
    "\n",
    "games = [play_solitaire() for ii in range(10000)];\n",
    "num_wins = sum(games)\n",
    "print(num_wins)"
   ]
  },
  {
   "cell_type": "markdown",
   "metadata": {},
   "source": [
    "This simulation led to 162 wins out of 10,000 games. Giving a win probability of 0.0162 which is very close to but greater than $(12/13)^{52}$ \n",
    "***\n",
    "### D) Random motion\n",
    "\n",
    "Suppose that all city streets follow a grid layout, running north-south and east-west. You’re driving north when you decide to play a little game. Every time you reach an intersection, you randomly turn left or right, each with a 50 percent chance.\n",
    "\n",
    "After driving through 10 intersections, what is the probability that you are still driving north?\n"
   ]
  },
  {
   "cell_type": "code",
   "execution_count": 350,
   "metadata": {},
   "outputs": [
    {
     "name": "stdout",
     "output_type": "stream",
     "text": [
      "518\n"
     ]
    }
   ],
   "source": [
    " def drive_10_intersections():\n",
    "    direc = 'N'\n",
    "    move = np.array(['L', 'R'])\n",
    "\n",
    "    for i in range(10):\n",
    "        # pick left or right\n",
    "        move_i = np.random.choice(move)\n",
    "        \n",
    "        # updating new direction after move\n",
    "        if(direc == 'N' and move_i == 'L'):\n",
    "            direc = 'W'\n",
    "        elif(direc == 'N' and move_i == 'R'):\n",
    "            direc = 'E'   \n",
    "        elif(direc == 'S' and move_i == 'L'):\n",
    "            direc = 'E'\n",
    "        elif(direc == 'S' and move_i == 'R'):\n",
    "            direc = 'W'\n",
    "        elif(direc == 'W' and move_i == 'L'):\n",
    "            direc = 'S'\n",
    "        elif(direc == 'W' and move_i == 'R'):\n",
    "            direc = 'N'   \n",
    "        elif(direc == 'E' and move_i == 'L'):\n",
    "            direc = 'N'\n",
    "        elif(direc == 'E' and move_i == 'R'):\n",
    "            direc = 'S'\n",
    "            \n",
    "    \n",
    "    # if still driving north, success\n",
    "    if(direc == 'N'):\n",
    "        return 1\n",
    "    else:\n",
    "        return 0\n",
    "    \n",
    "drives = [drive_10_intersections() for ii in range(1000)]\n",
    "print(sum(drives))"
   ]
  },
  {
   "cell_type": "markdown",
   "metadata": {},
   "source": [
    "The probability of still driving north would be 50%. For 1000 trials of the experiemnt, I found 497 outcomes where the end result was heading north. \n",
    "\n",
    "***\n",
    "### E) More Random motion\n",
    "\n",
    "Now suppose that at every intersection, there’s a one-third chance you turn left, a one-third chance you turn right and a one-third chance you drive straight. Create a set of simulations that record which direction you're driving 11 times.  \n",
    "\n",
    "It is recommended that you save the results in a data frame of the form below:\n",
    "\n",
    "| Start | T1 | T2 | T3 | ... | T10 |\n",
    "| --- | --- |\n",
    "| N | E | N | W| ... | N |\n",
    "| N | W | W | S | ... | E|\n",
    "| N | W | N | E | ... | W|\n",
    "\n",
    "then create a plot where the $x$ axis is \"numbers of turns made\" from 0 to 10, and the $y$ axis is \"probability that you're driving North.\"\n"
   ]
  },
  {
   "cell_type": "code",
   "execution_count": 370,
   "metadata": {},
   "outputs": [
    {
     "data": {
      "text/plain": [
       "Text(0, 0.5, 'Probability of Driving North')"
      ]
     },
     "execution_count": 370,
     "metadata": {},
     "output_type": "execute_result"
    },
    {
     "data": {
      "image/png": "[encoded data removed]",
      "text/plain": [
       "<Figure size 432x432 with 1 Axes>"
      ]
     },
     "metadata": {
      "needs_background": "light"
     },
     "output_type": "display_data"
    }
   ],
   "source": [
    " def drive_11_record():\n",
    "    direc = 'N'\n",
    "    move = np.array(['L', 'R', 'I'])\n",
    "    dfMoves = pd.DataFrame(columns = ['Start', 'T1', 'T2', 'T3', 'T4', 'T5', 'T6', 'T7', 'T8', 'T9', 'T10'])\n",
    "    frameList = ['Start', 'T1', 'T2', 'T3', 'T4', 'T5', 'T6', 'T7', 'T8', 'T9', 'T10']\n",
    "    \n",
    "    for i in range(11):\n",
    "        # pick left or right\n",
    "        move_i = np.random.choice(move)\n",
    "        \n",
    "        # record current direction in data frame\n",
    "        dfMoves.loc[0, frameList[i]] = direc\n",
    "        \n",
    "        # updating new direction after move\n",
    "        if(direc == 'N' and move_i == 'L'):\n",
    "            direc = 'W'\n",
    "        elif(direc == 'N' and move_i == 'R'):\n",
    "            direc = 'E'   \n",
    "        elif(direc == 'S' and move_i == 'L'):\n",
    "            direc = 'E'\n",
    "        elif(direc == 'S' and move_i == 'R'):\n",
    "            direc = 'W'\n",
    "        elif(direc == 'W' and move_i == 'L'):\n",
    "            direc = 'S'\n",
    "        elif(direc == 'W' and move_i == 'R'):\n",
    "            direc = 'N'   \n",
    "        elif(direc == 'E' and move_i == 'L'):\n",
    "            direc = 'N'\n",
    "        elif(direc == 'E' and move_i == 'R'):\n",
    "            direc = 'S'\n",
    "            \n",
    "        # if move = I, don't change direc\n",
    "            \n",
    "    return dfMoves\n",
    "#     # if still driving north, success\n",
    "#     if(direc == 'N'):\n",
    "#         return 1\n",
    "#     else:\n",
    "#         return 0\n",
    "    \n",
    "\n",
    "drives = [drive_11_record() for ii in range(1000)]\n",
    "\n",
    "# need to count # of drives w/ Start = 'N' should be 1000\n",
    "numNorth = np.zeros(11)\n",
    "for df in drives:\n",
    "    if(df.loc[0, 'Start'] == 'N'):\n",
    "        numNorth[0] += 1\n",
    "    if(df.loc[0, 'T1'] == 'N'):\n",
    "        numNorth[1] += 1\n",
    "    if(df.loc[0, 'T2'] == 'N'):\n",
    "        numNorth[2] += 1\n",
    "    if(df.loc[0, 'T3'] == 'N'):\n",
    "        numNorth[3] += 1\n",
    "    if(df.loc[0, 'T4'] == 'N'):\n",
    "        numNorth[4] += 1\n",
    "    if(df.loc[0, 'T5'] == 'N'):\n",
    "        numNorth[5] += 1\n",
    "    if(df.loc[0, 'T6'] == 'N'):\n",
    "        numNorth[6] += 1\n",
    "    if(df.loc[0, 'T7'] == 'N'):\n",
    "        numNorth[7] += 1\n",
    "    if(df.loc[0, 'T8'] == 'N'):\n",
    "        numNorth[8] += 1\n",
    "    if(df.loc[0, 'T9'] == 'N'):\n",
    "        numNorth[9] += 1\n",
    "    if(df.loc[0, 'T10'] == 'N'):\n",
    "        numNorth[10] += 1\n",
    "\n",
    "probNorth = numNorth / 1000\n",
    "numTurns = np.array([0, 1, 2, 3, 4, 5, 6, 7, 8, 9, 10])\n",
    "# create a plot where the  𝑥  axis is \"numbers of turns made\" from 0 to 10, and the  \n",
    "# y axis is \"probability that you're driving North.\"\n",
    "\n",
    "fig, ax = plt.subplots(figsize=(6,6))\n",
    "ax.plot(numTurns, probNorth)\n",
    "ax.set_title(\"Probability of driving north after n turns\")\n",
    "ax.set_xlabel(\"Number of Turns\")\n",
    "ax.set_ylabel(\"Probability of Driving North\")"
   ]
  },
  {
   "cell_type": "markdown",
   "metadata": {},
   "source": [
    "[Back to top](#top)\n",
    "<a/ id='p2'></a>\n",
    "\n",
    "## (20 pts) Problem 2 (Simulation and Theory): Bayes and Repeated Observations\n",
    "***\n",
    "\n",
    "\n",
    "To play a game, you have a bag containing 25 fair six-sided dice, with faces `{1,2,3,4,5,6}`.  <img style=\"float: right; width: 200px; padding: 3mm;\" src=\"https://images-na.ssl-images-amazon.com/images/I/619NZnvxJaL._SX425_.jpg\" alt=\"Drawing\"/>\n",
    "This bag also contains 10 fair eight-sided dice (faces `{1,2,3,4,5,6,7,8}`) and 2 fair twenty-sided dice (faces `{1,2,3,4,...,19,20}`).  Call these 3 classes of die \"Six\", \"Eight\" and \"Twenty\" (or S, E, and T, for short). In order to be sure that you are not distinguishing dice by their feel, you are required to wear crab claw gloves. After donning your gloves, you grab one die at random from the bag. \n",
    "\n",
    "Work the following problems by hand (or claw) unless otherwise stated (but don't be afraid to simulate to check your result!). "
   ]
  },
  {
   "cell_type": "markdown",
   "metadata": {},
   "source": [
    "***\n",
    "### Part A: You roll your die one time.  What is the probability of the event $R_7$, that you roll a 7?  Include at least 4 decimal places in your answer."
   ]
  },
  {
   "cell_type": "markdown",
   "metadata": {},
   "source": [
    "P($R_7$) = P($R_7$ from 6 sided die, or $R_7$ from 8 sided die, or $R_7$ from 20 sided die)\n",
    "because events mutually exclusive, \\\n",
    "the ors can become adds\n",
    "P($R_7$) = P($R_7$ from 6 sided die) + P($R_7$ from 8 sided die) + P($R_7$ from 20 sided die)\\\n",
    "= $\\frac{25}{37}(0) + \\frac{10}{37}\\frac{1}{8} + \\frac{2}{37}\\frac{1}{20} = \\boxed{0.0365}$"
   ]
  },
  {
   "cell_type": "markdown",
   "metadata": {},
   "source": [
    "***\n",
    "### Part B: Suppose you roll a 7.  What is the probability that the die you chose from the bag is an Eight-sided die? "
   ]
  },
  {
   "cell_type": "markdown",
   "metadata": {},
   "source": [
    "Let $C_8$ represent chose the 8 sided die, using Baye's Theorum\n",
    "$P(C_8 | R_7) = \\frac{P(R_7 | C_8)P(C_8)}{P(R_7)} = \\frac{(1/8)(10/37)}{0.0365} = \\boxed{0.9259}$"
   ]
  },
  {
   "cell_type": "markdown",
   "metadata": {},
   "source": [
    "***\n",
    "### Part C: Are the events $R_7$ and $E$ independent?  Justify your answer **using math**."
   ]
  },
  {
   "cell_type": "markdown",
   "metadata": {},
   "source": [
    "$C_8$ above is $E$. These events are not independent. For $R_7$ and $E$ to be independent, $P(R_7 | E) = P(R_7)$ and $P(E | R_7) = P(E)$ but as calculated above $P(E | R_7) = 0.9259$ is not equal to $P(E) = 0.2703$."
   ]
  },
  {
   "cell_type": "markdown",
   "metadata": {},
   "source": [
    "*** \n",
    "### Part D:  Suppose you roll your die $n$ times and record each outcome.  Obviously, if you roll 7 or 8 you know you did *not* pick a Six-sided die, and if you roll a 9 or higher, you must have picked a Twenty-sided die.\n",
    "\n",
    "But, if you roll $n$ times in a row and get only 1, 2, 3, 4, 5, or 6 you would have a stronger belief that you in fact grabbed one of the Six-sided dice.  Let $L_n$ be the event that you roll $n$ rolls of 1, 2, 3, 4, 5, or 6 in a row.  For example, one outcome in $L_3$ is the sequence 2, 3, 1.\n",
    "\n",
    "Given that you roll a single value of 1, 2, 3, 4, 5, or 6, what is the probability that you have grabbed a Six-sided die?  That is, calculate **by hand** $P(S \\mid L_1)$."
   ]
  },
  {
   "cell_type": "markdown",
   "metadata": {},
   "source": [
    "$P(S | L_1)$ by Baye's Theorem = $\\frac{P(L_1 | S)P(S)}{P(L_1)} = \\frac{(1)(25/37)}{(25/37)(1) + (10/37)(6/8) + (2/37)(6/20)} = \\boxed{0.7553}$"
   ]
  },
  {
   "cell_type": "markdown",
   "metadata": {},
   "source": [
    "***\n",
    "### Part E:  \n",
    "\n",
    "First, work out **by hand** a formula for the probability in general that you are rolling a Six-sided die, given that you have rolled $n$ values in a row that are 1, 2, 3, 4, 5 or 6 (that is, $L_n$).  So you want a formula for $P(S \\mid L_n)$ in terms of $n$.\n",
    "\n",
    "Then, define a function `prob_six` to calculate $P(S \\mid L_n)$.  This function should only take one positive integer argument, $n$.\n",
    "\n",
    "Verify that your function is performing as expected by checking your answer to **Part D**."
   ]
  },
  {
   "cell_type": "markdown",
   "metadata": {},
   "source": [
    "$P(S | L_n)$ by Baye's Theorem = $\\frac{P(L_n | S)P(S)}{P(L_n)}$\n",
    "\n",
    "$P(L_n | S) = 1$ because if we have a 6 sided die, all values will be from 1 to 6.\n",
    "\n",
    "$P(S) = 25/37$ and $P(L_n) = P(L_1)^n$ because $P(L_1)$ is the probability of getting a value from 1 to 6, and each pick is independent, so picking n would require $P(L_1)$ times itself n times. \n",
    "\n",
    "$P(S | L_n) = \\frac{25/37}{((25/37)(6/6)+(10/37)(6/8)+(2/37)(6/20))^n} = \\boxed{\\frac{25}{37}(0.8946)^n}$ "
   ]
  },
  {
   "cell_type": "code",
   "execution_count": 373,
   "metadata": {},
   "outputs": [
    {
     "name": "stdout",
     "output_type": "stream",
     "text": [
      "0.7552824454232905\n"
     ]
    }
   ],
   "source": [
    "def prob_six(n):\n",
    "    return (25/37)/(0.8946)**n\n",
    "\n",
    "# Verification of Part D answer:  plug in n=1\n",
    "print(prob_six(1))"
   ]
  },
  {
   "cell_type": "markdown",
   "metadata": {},
   "source": [
    "***\n",
    "### Part F:  What is the smallest value of $n$ successive rolls of 1, 2, 3, 4, 5 or 6 that would make you believe that there's a better-than-95% chance that the die you grabbed is Six-sided?  Plugging larger and larger values for $n$ into your `prob_six` function is a very reasonable way to check this."
   ]
  },
  {
   "cell_type": "code",
   "execution_count": 382,
   "metadata": {},
   "outputs": [
    {
     "data": {
      "text/plain": [
       "1.0549277320524324"
      ]
     },
     "execution_count": 382,
     "metadata": {},
     "output_type": "execute_result"
    }
   ],
   "source": [
    "prob_six(4)"
   ]
  },
  {
   "cell_type": "markdown",
   "metadata": {},
   "source": [
    "The smallest value of successive rolls would be $\\boxed{4}$.\n",
    "\n",
    "[Back to top](#top)\n",
    "<a/ id='p3'></a>\n",
    "\n",
    "## (5 pts) Problem 3 (Theory): It's probably Bayes\n",
    "***\n"
   ]
  },
  {
   "cell_type": "markdown",
   "metadata": {},
   "source": [
    "To get published in an academic journal, you have to prove something \"interesting.\"  As a result, most academics begin their research by investigating hypotheses that, all else equal, are unlikely to be true.  Suppose each research project begins with a research *hypothesis* that has a 7% chance of being correct.\n",
    "\n",
    "They then perform a study that satisfies the following two properties:\n",
    "\n",
    "    1) The probability that they correctly *find* an important result given that their *hypothesis* is true is 50%\n",
    "    2) The probability that they incorrectly *find* an important result given that their *hypothesis* is false is 5%\n",
    "\n",
    "If they *find* an important result they are published.  What is the probability that their *hypothesis* was true, given that they were published?"
   ]
  },
  {
   "cell_type": "markdown",
   "metadata": {},
   "source": [
    "**Typeset your solution for Problem 1 in this cell or cells.**\n",
    "\n",
    "Let H represent hypothesis true, !H be hypothesis false, C be correctly found important result, and !C be did not find correct important result.\n",
    "\n",
    "$P(H) = 0.07, P(!H) = 0.93, P(C | H) = 0.50, P(!C | !H) = 0.05$\\\n",
    "By Baye's Theorum\\\n",
    "$P(C | H) = 0.50 = \\frac{P(H \\cap C)}{P(H)} = \\frac{P(H \\cap C)}{0.07} \\Rightarrow P(H \\cap C) = 0.035$\n",
    "\n",
    "If $P(!C | !H) = 0.05$, then by law of total probablity $P(C | !H) = 0.95$\\\n",
    "$P(C | !H) = 0.95 $ by Baye's Theorum $= \\frac{P(H\\cap C)}{P(H\\cap C)+P(!H\\cap C)} = \\frac{0.035}{0.035 + P(!H \\cap C)} \\Rightarrow P(!H \\cap C) = 0.8835$\n",
    "\n",
    "By Baye's Theorum, $P(H | C) = \\frac{P(H \\cap C)}{P(H \\cap C) + P(!H \\cap C)} = \\frac{0.035}{0.035+0.8835} = \\boxed{0.0381}$"
   ]
  },
  {
   "cell_type": "markdown",
   "metadata": {},
   "source": [
    "[Back to top](#top)"
   ]
  }
 ],
 "metadata": {
  "kernelspec": {
   "display_name": "Python 3",
   "language": "python",
   "name": "python3"
  },
  "language_info": {
   "codemirror_mode": {
    "name": "ipython",
    "version": 3
   },
   "file_extension": ".py",
   "mimetype": "text/x-python",
   "name": "python",
   "nbconvert_exporter": "python",
   "pygments_lexer": "ipython3",
   "version": "3.8.3"
  }
 },
 "nbformat": 4,
 "nbformat_minor": 2
}
