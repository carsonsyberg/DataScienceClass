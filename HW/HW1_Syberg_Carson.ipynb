{
 "cells": [
  {
   "cell_type": "markdown",
   "metadata": {},
   "source": [
    "<a id='top'></a>\n",
    "\n",
    "# CSCI3022 S21\n",
    "# Homework 1: Measures of Centrality and Dispersion\n",
    "***\n",
    "\n",
    "**Name**: Carson Syberg\n",
    "\n",
    "***\n",
    "\n",
    "This assignment is due on Canvas by **MIDNIGHT on Monday, February 1**. Your solutions to theoretical questions should be done in Markdown directly below the associated question.  Your solutions to computational questions should include any specified Python code and results as well as written commentary on your conclusions.  Remember that you are encouraged to discuss the problems with your classmates, but **you must write all code and solutions on your own**.\n",
    "\n",
    "**NOTES**: \n",
    "\n",
    "- Any relevant data sets should be available on Canvas. To make life easier on the graders if they need to run your code, do not change the relative path names here. Instead, move the files around on your computer.\n",
    "- If you're not familiar with typesetting math directly into Markdown then by all means, do your work on paper first and then typeset it later.  Here is a [reference guide](https://math.meta.stackexchange.com/questions/5020/mathjax-basic-tutorial-and-quick-reference) linked on Canvas on writing math in Markdown. **All** of your written commentary, justifications and mathematical work should be in Markdown.  I also recommend the [wikibook](https://en.wikibooks.org/wiki/LaTeX) for LaTex.\n",
    "- Because you can technically evaluate notebook cells is a non-linear order, it's a good idea to do **Kernel $\\rightarrow$ Restart & Run All** as a check before submitting your solutions.  That way if we need to run your code you will know that it will work as expected. \n",
    "- It is **bad form** to make your reader interpret numerical output from your code.  If a question asks you to compute some value from the data you should show your code output **AND** write a summary of the results in Markdown directly below your code. \n",
    "- 95 points of this assignment are in problems.  The remaining 5 are for neatness, style, and overall exposition of both code and text.\n",
    "- This probably goes without saying, but... For any question that asks you to calculate something, you **must show all work and justify your answers to receive credit**. Sparse or nonexistent work will receive sparse or nonexistent credit. \n",
    "\n",
    "---\n",
    "**Shortcuts:**  [Problem 1](#p1) | [Problem 2](#p2) | [Problem 3](#p3) |\n",
    "---"
   ]
  },
  {
   "cell_type": "code",
   "execution_count": 1,
   "metadata": {},
   "outputs": [],
   "source": [
    "import pandas as pd\n",
    "import numpy as np\n",
    "import matplotlib.pylab as plt\n",
    "%matplotlib inline"
   ]
  },
  {
   "cell_type": "markdown",
   "metadata": {},
   "source": [
    "[Back to top](#top)\n",
    "\n",
    "<br>\n",
    "\n",
    "<a/ id='p1'></a>\n",
    "\n",
    "### (15 points) Problem 1: Theory and Computation (Means and Medians)\n",
    "***\n",
    "\n",
    "A method to investigate the sensitivity of the sample mean and sample median to extreme outliers and changes in the dataset is to replace one or more elements in a given dataset by a number $y$ and investigate the effect when $y$ changes. To illustrate this, consider the following dataset:\n",
    " \n",
    "$$  12.2 \\quad -5.0 \\quad 1.0 \\quad 3.8 \\quad -4.1 \\quad 5.9 \\quad 1.9 \\quad 9.0 \\quad y$$\n",
    "\n",
    "\n"
   ]
  },
  {
   "cell_type": "markdown",
   "metadata": {},
   "source": [
    "**Part A:** Compute the sample mean and sample median for $y=3.5$. Then compute both quantities again for $y=6$."
   ]
  },
  {
   "cell_type": "code",
   "execution_count": 2,
   "metadata": {},
   "outputs": [
    {
     "data": {
      "text/plain": [
       "'Case y = 3.5'"
      ]
     },
     "metadata": {},
     "output_type": "display_data"
    },
    {
     "data": {
      "text/plain": [
       "'Median: '"
      ]
     },
     "metadata": {},
     "output_type": "display_data"
    },
    {
     "data": {
      "text/plain": [
       "3.5"
      ]
     },
     "metadata": {},
     "output_type": "display_data"
    },
    {
     "data": {
      "text/plain": [
       "'Mean: '"
      ]
     },
     "metadata": {},
     "output_type": "display_data"
    },
    {
     "data": {
      "text/plain": [
       "3.1333333333333333"
      ]
     },
     "metadata": {},
     "output_type": "display_data"
    },
    {
     "data": {
      "text/plain": [
       "'Case y = 6'"
      ]
     },
     "metadata": {},
     "output_type": "display_data"
    },
    {
     "data": {
      "text/plain": [
       "'Median: '"
      ]
     },
     "metadata": {},
     "output_type": "display_data"
    },
    {
     "data": {
      "text/plain": [
       "3.8"
      ]
     },
     "metadata": {},
     "output_type": "display_data"
    },
    {
     "data": {
      "text/plain": [
       "'Mean: '"
      ]
     },
     "metadata": {},
     "output_type": "display_data"
    },
    {
     "data": {
      "text/plain": [
       "3.411111111111111"
      ]
     },
     "metadata": {},
     "output_type": "display_data"
    }
   ],
   "source": [
    "display(\"Case y = 3.5\")\n",
    "\n",
    "lst = [12.2, -5.0, 1.0, 3.8, -4.1, 5.9, 1.9, 9.0, 3.5]\n",
    "lst.sort()\n",
    "\n",
    "# since 9 numbers, median will be len(lst) / 2 with cieling \n",
    "median = lst[len(lst)//2]\n",
    "display(\"Median: \", median)\n",
    "\n",
    "mean = sum(lst) / len(lst)\n",
    "display(\"Mean: \", mean)\n",
    "\n",
    "#############################\n",
    "\n",
    "display(\"Case y = 6\")\n",
    "\n",
    "lst = [12.2, -5.0, 1.0, 3.8, -4.1, 5.9, 1.9, 9.0, 6]\n",
    "lst.sort()\n",
    "\n",
    "# since 9 numbers, median will be len(lst) / 2 with cieling \n",
    "median = lst[len(lst)//2]\n",
    "display(\"Median: \", median)\n",
    "\n",
    "mean = sum(lst) / len(lst)\n",
    "display(\"Mean: \", mean)"
   ]
  },
  {
   "cell_type": "markdown",
   "metadata": {},
   "source": [
    "**Part B:** Is there a value for $y$ that would make the mean of the data equal to 6? If so, calculate the value of $y$ that makes the mean equal to 6. If not, clearly explain why not.\n",
    "    \n",
    "Is there a value for $y$ that would make the median of the data equal to 6? If so, calculate the values of $y$ that makes the median equal to 6. If not, clearly explain why not."
   ]
  },
  {
   "cell_type": "markdown",
   "metadata": {},
   "source": [
    "**Calculating y such that the mean is equal to 6:**\n",
    "$$6 = \\frac{12.2 - 5.0 + 1.0 + 3.8 - 4.1 + 5.9 + 1.9 + 9.0 + y}{9}$$\n",
    "\n",
    "$$54 = 12.2 - 5.0 + 1.0 + 3.8 - 4.1 + 5.9 + 1.9 + 9.0 + y$$\n",
    "\n",
    "$$54 = 24.7 + y$$\n",
    "\n",
    "$$y = 29.3$$\n",
    "\n",
    "**Calculating y such that the median is equal to 6 would not be possible.** \n",
    "- to yield a median of 6 in this list of odd numbers, the value 6 would need to be in the center of the list\n",
    "- the original list does not contain a 6, so y must be 6 to make a median of 6 possible\n",
    "- however, as seen in the code, y = 6 yields a median of 3.8\n",
    "- therefore, no y is possible to give a median of 6"
   ]
  },
  {
   "cell_type": "markdown",
   "metadata": {},
   "source": [
    "**Part C**: Compute the sample variance and the sample standard deviation for the original dataset given in part A, with $y=6$."
   ]
  },
  {
   "cell_type": "code",
   "execution_count": 3,
   "metadata": {},
   "outputs": [
    {
     "data": {
      "text/plain": [
       "'Variance: '"
      ]
     },
     "metadata": {},
     "output_type": "display_data"
    },
    {
     "data": {
      "text/plain": [
       "32.18541666666667"
      ]
     },
     "metadata": {},
     "output_type": "display_data"
    },
    {
     "data": {
      "text/plain": [
       "'Standard Deviation: '"
      ]
     },
     "metadata": {},
     "output_type": "display_data"
    },
    {
     "data": {
      "text/plain": [
       "5.6732192507135375"
      ]
     },
     "metadata": {},
     "output_type": "display_data"
    }
   ],
   "source": [
    "lst = [12.2, -5.0, 1.0, 3.8, -4.1, 5.9, 1.9, 9.0, 6]\n",
    "\n",
    "# calculated above in Part A\n",
    "mean = 3.1333333333333333 \n",
    "\n",
    "top = 0\n",
    "for x in lst:\n",
    "    top = top + (x - mean)**2\n",
    "    \n",
    "var = top / (len(lst) - 1)\n",
    "display(\"Variance: \", var)\n",
    "\n",
    "stdDev = np.sqrt(var)\n",
    "display(\"Standard Deviation: \", stdDev)"
   ]
  },
  {
   "cell_type": "markdown",
   "metadata": {},
   "source": [
    "**Part D**: Compute both the sample mean and median for the following cases: \n",
    "- $y=9$ \n",
    "- $y=50$ \n",
    "- $y=4.36$ \n",
    "- $y \\to \\infty$ \n",
    "- $y \\to -\\infty$"
   ]
  },
  {
   "cell_type": "code",
   "execution_count": 4,
   "metadata": {},
   "outputs": [
    {
     "name": "stdout",
     "output_type": "stream",
     "text": [
      "---Case y = 9---\n",
      "Median:  3.8\n",
      "Mean:  3.744444444444445\n",
      "---Case y = 50---\n",
      "Median:  3.8\n",
      "Mean:  8.3\n",
      "---Case y = 4.36---\n",
      "Median:  3.8\n",
      "Mean:  3.2288888888888887\n",
      "---Case y = infinity---\n",
      "Median:  3.8\n",
      "Mean:  inf\n",
      "---Case y = negative infinity---\n",
      "Median:  1.9\n",
      "Mean:  -inf\n"
     ]
    }
   ],
   "source": [
    "print(\"---Case y = 9---\")\n",
    "\n",
    "lst = [12.2, -5.0, 1.0, 3.8, -4.1, 5.9, 1.9, 9.0, 9]\n",
    "lst.sort()\n",
    "\n",
    "# since 9 numbers, median will be len(lst) / 2 with cieling \n",
    "median = lst[len(lst)//2]\n",
    "print(\"Median: \", median)\n",
    "\n",
    "mean = sum(lst) / len(lst)\n",
    "print(\"Mean: \", mean)\n",
    "\n",
    "#############################\n",
    "\n",
    "print(\"---Case y = 50---\")\n",
    "\n",
    "lst = [12.2, -5.0, 1.0, 3.8, -4.1, 5.9, 1.9, 9.0, 50]\n",
    "lst.sort()\n",
    "\n",
    "# since 9 numbers, median will be len(lst) / 2 with cieling \n",
    "median = lst[len(lst)//2]\n",
    "print(\"Median: \", median)\n",
    "\n",
    "mean = sum(lst) / len(lst)\n",
    "print(\"Mean: \", mean)\n",
    "\n",
    "#############################\n",
    "\n",
    "print(\"---Case y = 4.36---\")\n",
    "\n",
    "lst = [12.2, -5.0, 1.0, 3.8, -4.1, 5.9, 1.9, 9.0, 4.36]\n",
    "lst.sort()\n",
    "\n",
    "# since 9 numbers, median will be len(lst) / 2 with cieling \n",
    "median = lst[len(lst)//2]\n",
    "print(\"Median: \", median)\n",
    "\n",
    "mean = sum(lst) / len(lst)\n",
    "print(\"Mean: \", mean)\n",
    "\n",
    "#############################\n",
    "\n",
    "print(\"---Case y = infinity---\")\n",
    "pos_infinity = float('inf')\n",
    "\n",
    "lst = [12.2, -5.0, 1.0, 3.8, -4.1, 5.9, 1.9, 9.0, pos_infinity]\n",
    "lst.sort()\n",
    "\n",
    "# since 9 numbers, median will be len(lst) / 2 with cieling \n",
    "median = lst[len(lst)//2]\n",
    "print(\"Median: \", median)\n",
    "\n",
    "mean = sum(lst) / len(lst)\n",
    "print(\"Mean: \", mean)\n",
    "\n",
    "#############################\n",
    "\n",
    "print(\"---Case y = negative infinity---\")\n",
    "neg_infinity = float('-inf')\n",
    "\n",
    "lst = [12.2, -5.0, 1.0, 3.8, -4.1, 5.9, 1.9, 9.0, neg_infinity]\n",
    "lst.sort()\n",
    "\n",
    "# since 9 numbers, median will be len(lst) / 2 with cieling \n",
    "median = lst[len(lst)//2]\n",
    "print(\"Median: \", median)\n",
    "\n",
    "mean = sum(lst) / len(lst)\n",
    "print(\"Mean: \", mean)"
   ]
  },
  {
   "cell_type": "markdown",
   "metadata": {},
   "source": [
    "**Part E**: Think about the previous parts, above, and describe in words or mathematical notation the answers to the following two questions:\n",
    "\n",
    "- By varying $y$, what is the set of all the possible values that the sample mean could take on?\n",
    "- By varying $y$, what is the set of all the possible values that the sample median could take on? Specifically, for what sets of $y$ values does the median take on its different possible values?"
   ]
  },
  {
   "cell_type": "markdown",
   "metadata": {},
   "source": [
    "**Solution to Part E**\n",
    "\n",
    "**By varying $y$ from $-\\infty$ to $\\infty$ in the equation for sample mean:**\\\n",
    "$$m_1 = \\frac{12.2 - 5.0 + 1.0 + 3.8 - 4.1 + 5.9 + 1.9 + 9.0 + y}{9}$$\\\n",
    "$$m_1 = \\frac{24.7 + y}{9}$$\\\n",
    "$$m_1 = 2.7\\overline{4} + 0.\\overline{1}*y$$ \\\n",
    "$m_1$ would also vary from $-\\infty$ to $\\infty$ so the sample mean could take on any real value.\n",
    "***\n",
    "For the median to change, y must be less than or equal to the middle number when the original list without y is sorted.\\\n",
    "The list y will be added to is: $[-5.0, -4.1, 1.0, 1.9, 3.8, 5.9, 9.0, 12.2]$\\\n",
    "If $y \\leq 1.9$, the list will have y in the first 5 places.\\\n",
    "If y is in the first 4 places, it is less than 1.9, but the value 1.9 remains at the center spot.\\\n",
    "If y is in the 5th place, it must have be equal to 1.9 and the median would still be 1.9.\\\n",
    "If $1.9 < y < 3.8$ then y will be in the middle of the list, so the median will be y.\\\n",
    "If $y \\ge 3.8$ then the median will be 3.8.\\\n",
    "\\\n",
    "So the possible values of the median are: $[1.9, 3.8]$"
   ]
  },
  {
   "cell_type": "markdown",
   "metadata": {},
   "source": [
    "**Part F**: Describe in words or mathematical notation, what happens to the sample standard deviation when $y$ is varied in the following ways: \n",
    " \n",
    "- $y \\to \\infty$ \n",
    "- $y \\to \\bar{x}$"
   ]
  },
  {
   "cell_type": "markdown",
   "metadata": {},
   "source": [
    "**Solution to Part F**\n",
    "\n",
    "As $y \\to \\infty$ the mean of the data also $\\to \\infty$. The sample standard deviation is $\\sqrt{\\frac{\\sum_{i = 1}^9 (x_i - \\bar{x})^2}{9-1}}.$ For the first 8 terms, inside the sum would have a $(small number - \\infty)^2 \\to \\infty$. But for the 9th term, the sum would have $(y - \\infty)^2$ with $y \\to \\infty$. This has no answer, so there is no answer for sample standard deviation as $y \\to \\infty$.\n",
    "\n",
    "The list $[12.2, -5.0, 1.0, 3.8, -4.1, 5.9, 1.9, 9.0, y]$ has an $\\bar{x} = \\frac{24.7 + y}{9}.$ If $y \\to \\bar{x}$, then $\\bar{x} = \\frac{24.7 + \\bar{x}}{9} \\Rightarrow \\bar{x} = 3.0875$ the last term of the sum will be 0, as it will just be $(y - y)^2$. So the sample standard deviation will be $\\sqrt{\\frac{\\sum_{i = 1}^8 (x_i - 3.0875)^2}{8}} = \\boxed{5.58}.$\n"
   ]
  },
  {
   "cell_type": "markdown",
   "metadata": {},
   "source": [
    "[Back to top](#top)\n",
    "<a/ id='p2'></a>\n",
    "\n",
    "## (15 pts) Problem 2: Theory and Computation (Scaling)\n",
    "***\n",
    "Consider the following 3 data sets:\n",
    "\n",
    "`A=[0,1,2,3,4,5,6,7,8,9,10,11,12]`\n",
    "\n",
    "`B=[0,0,0,12,7,18,47,25,0,13,0,35]`\n",
    "\n",
    "`C` is the random data set generated by using `np.random.exponential(scale=43, size=1000)`\n",
    "\n",
    "For each data set, perform the following computations in parts A, B, and C:\n",
    "\n",
    "**Part A:** Compute and print the mean and standard deviation of the data set."
   ]
  },
  {
   "cell_type": "code",
   "execution_count": 5,
   "metadata": {},
   "outputs": [
    {
     "name": "stdout",
     "output_type": "stream",
     "text": [
      "Mean A:  6.0\n",
      "Standard Deviation A:  3.8944404818493075 \n",
      "\n",
      "Mean B:  13.083333333333334\n",
      "Standard Deviation B:  15.64061341120571 \n",
      "\n",
      "Mean C:  42.85569907513087\n",
      "Standard Deviation C:  42.05450956566477 \n",
      "\n"
     ]
    }
   ],
   "source": [
    "A = np.array([0, 1, 2, 3, 4, 5, 6, 7, 8, 9, 10, 11, 12])\n",
    "B = np.array([0, 0, 0, 12, 7, 18, 47, 25, 0, 13, 0, 35])\n",
    "C = np.array(np.random.exponential(scale=43, size=1000))\n",
    "\n",
    "meanA = A.mean()\n",
    "standardA = np.std(A, ddof=1) # to ensure bottom is n-1\n",
    "\n",
    "print(\"Mean A: \", meanA)\n",
    "print(\"Standard Deviation A: \", standardA, '\\n')\n",
    "\n",
    "meanB = B.mean()\n",
    "standardB = np.std(B, ddof=1) # to ensure bottom is n-1\n",
    "\n",
    "print(\"Mean B: \", meanB)\n",
    "print(\"Standard Deviation B: \", standardB, '\\n')\n",
    "\n",
    "meanC = C.mean()\n",
    "standardC = np.std(C, ddof=1) # to ensure bottom is n-1\n",
    "\n",
    "print(\"Mean C: \", meanC)\n",
    "print(\"Standard Deviation C: \", standardC, '\\n')"
   ]
  },
  {
   "cell_type": "markdown",
   "metadata": {},
   "source": [
    "**Part B:** Compute and print  the mean and standard deviation of the new data set formed by subtracting the original mean from each observation."
   ]
  },
  {
   "cell_type": "code",
   "execution_count": 6,
   "metadata": {},
   "outputs": [
    {
     "name": "stdout",
     "output_type": "stream",
     "text": [
      "Mean A:  0.0\n",
      "Standard Deviation A:  3.8944404818493075 \n",
      "\n",
      "Mean B:  -1.1842378929335002e-15\n",
      "Standard Deviation B:  15.64061341120571 \n",
      "\n",
      "Mean C:  -4.6611603465862574e-15\n",
      "Standard Deviation C:  42.05450956566477 \n",
      "\n"
     ]
    }
   ],
   "source": [
    "subListA = np.ones(len(A))\n",
    "subListA = np.multiply(subListA, meanA)\n",
    "\n",
    "newDataA = A - subListA\n",
    "\n",
    "newMeanA = newDataA.mean()\n",
    "newStandardA = np.std(newDataA, ddof=1) # to ensure bottom is n-1\n",
    "\n",
    "print(\"Mean A: \", newMeanA)\n",
    "print(\"Standard Deviation A: \", newStandardA, '\\n')\n",
    "\n",
    "###################################################\n",
    "subListB = np.ones(len(B))\n",
    "subListB = np.multiply(subListB, meanB)\n",
    "\n",
    "newDataB = B - subListB\n",
    "\n",
    "newMeanB = newDataB.mean()\n",
    "newStandardB = np.std(newDataB, ddof=1) # to ensure bottom is n-1\n",
    "\n",
    "print(\"Mean B: \", newMeanB)\n",
    "print(\"Standard Deviation B: \", newStandardB, '\\n')\n",
    "##################################################\n",
    "subListC = np.ones(len(C))\n",
    "subListC = np.multiply(subListC, meanC)\n",
    "\n",
    "newDataC = C - subListC\n",
    "\n",
    "newMeanC = newDataC.mean()\n",
    "newStandardC = np.std(newDataC, ddof=1) # to ensure bottom is n-1\n",
    "\n",
    "print(\"Mean C: \", newMeanC)\n",
    "print(\"Standard Deviation C: \", newStandardC, '\\n')"
   ]
  },
  {
   "cell_type": "markdown",
   "metadata": {},
   "source": [
    "**Part C:** Compute and print  the mean and standard deviation of the new data set formed by subtracting the original mean from each observation and then dividing by the original standard deviation."
   ]
  },
  {
   "cell_type": "code",
   "execution_count": 7,
   "metadata": {},
   "outputs": [
    {
     "name": "stdout",
     "output_type": "stream",
     "text": [
      "Mean A:  0.0\n",
      "Standard Deviation A:  1.0 \n",
      "\n",
      "Mean B:  -7.401486830834377e-17\n",
      "Standard Deviation B:  0.9999999999999998 \n",
      "\n",
      "Mean C:  -9.947598300641403e-17\n",
      "Standard Deviation C:  0.9999999999999999 \n",
      "\n"
     ]
    }
   ],
   "source": [
    "newerDataA = np.multiply(newDataA, 1/standardA)\n",
    "\n",
    "newerMeanA = newerDataA.mean()\n",
    "newerStandardA = np.std(newerDataA, ddof=1) # to ensure bottom is n-1\n",
    "\n",
    "print(\"Mean A: \", newerMeanA)\n",
    "print(\"Standard Deviation A: \", newerStandardA, '\\n')\n",
    "#####################################\n",
    "newerDataB = np.multiply(newDataB, 1/standardB)\n",
    "\n",
    "newerMeanB = newerDataB.mean()\n",
    "newerStandardB = np.std(newerDataB, ddof=1) # to ensure bottom is n-1\n",
    "\n",
    "print(\"Mean B: \", newerMeanB)\n",
    "print(\"Standard Deviation B: \", newerStandardB, '\\n')\n",
    "######################################\n",
    "newerDataC = np.multiply(newDataC, 1/standardC)\n",
    "\n",
    "newerMeanC = newerDataC.mean()\n",
    "newerStandardC = np.std(newerDataC, ddof=1) # to ensure bottom is n-1\n",
    "\n",
    "print(\"Mean C: \", newerMeanC)\n",
    "print(\"Standard Deviation C: \", newerStandardC, '\\n')"
   ]
  },
  {
   "cell_type": "markdown",
   "metadata": {},
   "source": [
    "**Part D:** Why might this result matter?"
   ]
  },
  {
   "cell_type": "markdown",
   "metadata": {},
   "source": [
    "**Solution to Part D**\n",
    "By subtracting the mean from each element, the new data yielded a mean of almost zero but did not change the standard deviation. This may matter because it tells us that the data was somewhat normalized by the subtraction and that subtraction from all elements does not change the standard deviation.\n",
    "\n",
    "By subtracting and dividing from each element, the new data yielded again a mean of about zero, and a standard deviation of 1. This further verifies that these operations give the data nicer numbers for mean and standard deviation. "
   ]
  },
  {
   "cell_type": "markdown",
   "metadata": {},
   "source": [
    "**Part E:** Looking at each of the 3 data sets, come up with a real-world context where those spectrum of numbers might make for reasonable observations."
   ]
  },
  {
   "cell_type": "markdown",
   "metadata": {},
   "source": [
    "**Solution to Part E**\\\n",
    "Dataset A could be a simple ID system for only 13 elements. \\\n",
    "Dataset B could be ages of 13 different people.\\\n",
    "Dataset C could be a range of temperatures."
   ]
  },
  {
   "cell_type": "markdown",
   "metadata": {},
   "source": [
    "**Part F:** Let's prove a generalization of the result you likely observed in part B.  What happens if you take data set and \"recenter\" it by adding or subtracting the same number $c$ to each and every observation?\n",
    "\n",
    "In other words, show that the mean of the data set $Y$ given by $Y_i=X_i+c$ is $\\bar{Y}=\\bar{X}+c$.\n",
    "\n",
    "(**Hint**: start with the definition of the mean: $$\\bar{Y}=\\frac{\\sum_{i=1}^n Y_i}{n},$$ then work with the right hand side!)"
   ]
  },
  {
   "cell_type": "markdown",
   "metadata": {},
   "source": [
    "**Solution to part F**\n",
    "$$\\bar{Y}=\\frac{\\sum_{i=1}^n (X_i + c)}{n}$$\\\n",
    "$$\\bar{Y}=\\frac{\\sum_{i=1}^n X_i + \\sum_{i=1}^n c}{n}$$\\\n",
    "$$\\bar{Y}=\\frac{\\sum_{i=1}^n X_i + n*c}{n}$$\\\n",
    "$$\\bar{Y}=\\frac{\\sum_{i=1}^n X_i}{n} + \\frac{n*c}{n}$$\\\n",
    "$$\\bar{Y}=\\bar{X} + c$$\n"
   ]
  },
  {
   "cell_type": "markdown",
   "metadata": {},
   "source": [
    "[Back to top](#top)\n",
    "<a/ id='p3'></a>\n",
    "\n",
    "## (15 pts) Problem 3: Computation (Streaming Means)\n",
    "***\n",
    "\n",
    "Data science is often divided into two categories: questions of *what* the best value might be to repreesnt a data problem, and questions of *how* to compute that data value.  Question 1 - and prior lectures - should tell you that computing the mean is valuable!  But *how* do we compute the mean?\n",
    "\n",
    "Let $x_1, x_2, \\ldots, x_n$ be $n$ observations of a variable of interest.  Recall that the sample mean $\\bar{x}_n$ and sample variance $s^2_n$ are given by \n",
    "<a id='eq1'></a>\n",
    "$$\n",
    "\\bar{x}_n = \\frac{1}{n}\\sum_{k=1}^n x_k \\quad \\textrm{and} \\quad s^2_n = \\frac{1}{n-1}\\sum_{k=1}^n \\left( x_k - \\bar{x}_n\\right)^2 \\qquad \\tag{Equation 1}\n",
    "$$"
   ]
  },
  {
   "cell_type": "markdown",
   "metadata": {},
   "source": [
    "**Part A**:\n",
    "\n",
    "How many computations - floating point operations: addition, subtraction, multiplication, division each count as 1 operation - are required to compute the mean of the data set with $n$ observations?\n"
   ]
  },
  {
   "cell_type": "markdown",
   "metadata": {},
   "source": [
    "**Result for Problem A**\n",
    "To compute the mean, there is one operation from the $\\frac{1}{n}$. The summation has $n-1$ operations, because the first number is not added to anything. In total, it takes $\\frac{1}{n} + n - 1$ or $\\boxed{n^2 - n + 1}$ operations to compute the mean."
   ]
  },
  {
   "cell_type": "markdown",
   "metadata": {},
   "source": [
    "**Part B**:\n",
    "\n",
    "Now suppose our data is *streaming*- we slowly add observations one at a time, instead of seeing the entire data set at once.  We are still interested in the mean, so if we stream the data set `[4,6,0,10, ...]`, we first compute the mean of the the first data point `[4]`, then we recompute the mean of the first two points `[4,6]`, then we recompute the mean of three `[4,6,0]`, and so forth.\n",
    "\n",
    "Suppose we recompute the mean from scratch after each and every one of our $n$ observations are one-by-one added to our data set.  How many floating point operations are spent computing (and re-computing) the mean of the data set?"
   ]
  },
  {
   "cell_type": "markdown",
   "metadata": {},
   "source": [
    "**Result for Problem B**\n",
    "\n",
    "In streaming the data for n-elements, the mean will be computed n times.\\\n",
    "Each time the mean is computed, it has a different cost depending on how many data points have been streamed in. \\\n",
    "The first calculation will only take 1 multiplication operation as there is nothing to sum. \\\n",
    "The second will take 1 multiplication and 1 addition. \\\n",
    "The third will take 1 multiplication and 2 additions. \\\n",
    "The nth will take 1 multiplication and n-1 additions. \n",
    "\n",
    "If the mean calculation takes $n^2 - n + 1$ operations, and it must be carried out n times, then the cost of streaming mean calculation for n numbers would be $$n*(n^2 - n + 1) \\Rightarrow \\boxed{n^3 - n^2 + n}$$\n"
   ]
  },
  {
   "cell_type": "markdown",
   "metadata": {},
   "source": [
    "We should be convinced that streaming a mean costs a lot more computer time than just computing once!\n",
    "\n",
    "In this problem we explore a smarter method for such an _online_ computation of the mean.  \n",
    "\n",
    "**Result**: The following relation holds between the mean of the first $n-1$ observations and the mean of all $n$ observations: \n",
    "\n",
    "$$\n",
    "\\bar{x}_n = \\bar{x}_{n-1} + \\frac{x_n - \\bar{x}_{n-1}}{n}\n",
    "$$\n",
    "\n",
    "\n",
    "A proof of this result is in the [Appendix](#Appendix) after this problem, and requires some careful manipulations of the sum $\\bar{x}_n$.  Your task will be to computationally verify and utilize this result.\n",
    "\n",
    "**Part C**: Write a function `my_sample_mean` that takes as its input a numpy array and returns the mean of that numpy array using the formulas from class ([Equation 1](#eq1)). Write another function `my_sample_var` that takes as its input a numpy array and returns the variance of that numpy array, again using the formulas from class ([Equation 1](#eq1)). You may **not** use any built-in sample mean or variance functions."
   ]
  },
  {
   "cell_type": "code",
   "execution_count": 8,
   "metadata": {},
   "outputs": [],
   "source": [
    "def my_sample_mean(array):\n",
    "    summ = 0\n",
    "    for val in array:\n",
    "        summ = summ + val\n",
    "\n",
    "    return summ*(1/len(array))\n",
    "\n",
    "def my_sample_var(array):\n",
    "    the_mean = my_sample_mean(array)\n",
    "    summ = 0\n",
    "    for val in array:\n",
    "        summ = summ + (val - the_mean)**2\n",
    "\n",
    "    return summ*(1/(len(array)-1))"
   ]
  },
  {
   "cell_type": "markdown",
   "metadata": {},
   "source": [
    "**Part D**: Use your functions from Part C to compute the sample mean and sample variance of the following array, which contains the minutes late that the BuffBus is running on Friday afternoon.\n",
    "\n",
    "`bus = [312, 4, 10, 0, 22, 39, 81, 19, 8, 60, 80, 42]`"
   ]
  },
  {
   "cell_type": "code",
   "execution_count": 9,
   "metadata": {},
   "outputs": [
    {
     "name": "stdout",
     "output_type": "stream",
     "text": [
      "Mean:  56.416666666666664\n",
      "Variance:  7274.628787878787\n"
     ]
    }
   ],
   "source": [
    "bus = np.array([312, 4, 10, 0, 22, 39, 81, 19, 8, 60, 80, 42])\n",
    "busMean = my_sample_mean(bus)\n",
    "busVar = my_sample_var(bus)\n",
    "\n",
    "print(\"Mean: \", busMean)\n",
    "print(\"Variance: \", busVar)"
   ]
  },
  {
   "cell_type": "markdown",
   "metadata": {},
   "source": [
    "**Part E**: Implement a third function called `update_mean` that implements the formula discussed after part B. Note that this function will need to take as its input three things: $x_n$, $\\bar{x}_{n-1}$ and $n$, and returns $\\bar{x}_{n}$. A function header and return statement are provided for you. This function may be auto-graded, so please do not change the given header API - the order of inputs matters! If you change it, you might lose points.\n",
    "\n",
    "Use this function to compute the values that you get from taking the mean of the first buff buses' lateness, the first two buff buses' lateness, the first three buff buses' lateness, and so on up to all of the `bus` data points from **Part D**. Store your streaming bus means in a numpy array called `buffbus_bad_means`.  Report all 12 estimates in `buffbus_bad_means`.\n",
    "\n",
    "$$\n",
    "\\bar{x}_n = \\bar{x}_{n-1} + \\frac{x_n - \\bar{x}_{n-1}}{n}\n",
    "$$"
   ]
  },
  {
   "cell_type": "code",
   "execution_count": 10,
   "metadata": {},
   "outputs": [
    {
     "name": "stdout",
     "output_type": "stream",
     "text": [
      "buffbus_bad_means: \n",
      " [312.         158.         108.66666667  81.5         69.6\n",
      "  64.5         66.85714286  60.875       55.          55.5\n",
      "  57.72727273  56.41666667]\n"
     ]
    }
   ],
   "source": [
    "# Given API:\n",
    "def update_mean(prev_mean, xn, n):\n",
    "    #Your code here to compute updates\n",
    "    now_mean = prev_mean + (xn-prev_mean)/(n)\n",
    "    return now_mean\n",
    "\n",
    "#Your code here (to loop over the full data)\n",
    "buffbus_bad_means = np.array([])\n",
    "holder = 0\n",
    "count = 1\n",
    "for vals in bus:\n",
    "    bus_mean = update_mean(holder, vals, count)\n",
    "    buffbus_bad_means = np.append(buffbus_bad_means, bus_mean)\n",
    "    holder = bus_mean\n",
    "    count = count + 1\n",
    "    \n",
    "print(\"buffbus_bad_means: \\n\", buffbus_bad_means)"
   ]
  },
  {
   "cell_type": "markdown",
   "metadata": {},
   "source": [
    "<a id='Appendix'></a>\n",
    "\n",
    "## Appendix \n",
    "\n",
    "*Goal*: Prove that \n",
    "$$\n",
    "\\bar{x}_n = \\bar{x}_{n-1} + \\frac{x_n - \\bar{x}_{n-1}}{n}\n",
    "$$\n",
    "\n",
    "Note that you can get an expression for $\\bar{x}_{n-1}$ by simply replacing $n$ in Equation 1 above with $n-1$.\n",
    "\n",
    "We'll start with $\\bar{x}_n$ and massage it until we get the righthand side of the formula\n",
    "\n",
    "\\begin{eqnarray}\n",
    "\\nonumber \\bar{x}_n &=& \\frac{1}{n} \\sum_{k=1}^n x_k \\\\\n",
    "&=& \\frac{1}{n} \\sum_{k=1}^{n-1} x_k + \\frac{1}{n}x_n \\\\\n",
    "&=& \\frac{n-1}{n-1}\\frac{1}{n} \\sum_{k=1}^{n-1} x_k + \\frac{1}{n}x_n \\\\\n",
    "&=& \\frac{n-1}{n} \\left(\\frac{1}{n-1} \\sum_{k=1}^{n-1} x_k\\right) + \\frac{1}{n}x_n \\\\\n",
    "&=& \\frac{n-1}{n} \\bar{x}_{n-1} + \\frac{1}{n}x_n \\\\\n",
    "&=& \\frac{n}{n}\\bar{x}_{n-1} - \\frac{1}{n}\\bar{x}_{n-1} + \\frac{1}{n}x_n \\\\\n",
    "&=&  \\bar{x}_{n-1} + \\frac{x_n - \\bar{x}_{n-1}}{n} \\quad \\checkmark\n",
    "\\end{eqnarray}\n",
    "\n"
   ]
  }
 ],
 "metadata": {
  "kernelspec": {
   "display_name": "Python 3",
   "language": "python",
   "name": "python3"
  },
  "language_info": {
   "codemirror_mode": {
    "name": "ipython",
    "version": 3
   },
   "file_extension": ".py",
   "mimetype": "text/x-python",
   "name": "python",
   "nbconvert_exporter": "python",
   "pygments_lexer": "ipython3",
   "version": "3.8.3"
  }
 },
 "nbformat": 4,
 "nbformat_minor": 2
}
