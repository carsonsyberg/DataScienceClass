{
 "cells": [
  {
   "cell_type": "markdown",
   "metadata": {},
   "source": [
    "<a id='top'></a>\n",
    "\n",
    "# CSCI3022 S21\n",
    "# Homework 4: Using Random Variables\n",
    "***\n",
    "\n",
    "**Name**: Carson Syberg\n",
    "\n",
    "***\n",
    "\n",
    "This assignment is due on Canvas by **MIDNIGHT on Monday, March 1**. Your solutions to theoretical questions should be done in Markdown directly below the associated question.  Your solutions to computational questions should include any specified Python code and results as well as written commentary on your conclusions.  Remember that you are encouraged to discuss the problems with your classmates, but **you must write all code and solutions on your own**.\n",
    "\n",
    "**NOTES**: \n",
    "\n",
    "- Any relevant data sets should be available on Canvas. To make life easier on the graders if they need to run your code, do not change the relative path names here. Instead, move the files around on your computer.\n",
    "- If you're not familiar with typesetting math directly into Markdown then by all means, do your work on paper first and then typeset it later.  Here is a [reference guide](https://math.meta.stackexchange.com/questions/5020/mathjax-basic-tutorial-and-quick-reference) linked on Canvas on writing math in Markdown. **All** of your written commentary, justifications and mathematical work should be in Markdown.  I also recommend the [wikibook](https://en.wikibooks.org/wiki/LaTeX) for LaTex.\n",
    "- Because you can technically evaluate notebook cells is a non-linear order, it's a good idea to do **Kernel $\\rightarrow$ Restart & Run All** as a check before submitting your solutions.  That way if we need to run your code you will know that it will work as expected. \n",
    "- It is **bad form** to make your reader interpret numerical output from your code.  If a question asks you to compute some value from the data you should show your code output **AND** write a summary of the results in Markdown directly below your code. \n",
    "- 95 points of this assignment are in problems.  The remaining 5 are for neatness, style, and overall exposition of both code and text.\n",
    "- This probably goes without saying, but... For any question that asks you to calculate something, you **must show all work and justify your answers to receive credit**. Sparse or nonexistent work will receive sparse or nonexistent credit. \n",
    "\n",
    "---\n",
    "**Shortcuts:**  [Problem 1](#p1) | [Problem 2](#p2) | [Problem 3](#p3) |\n",
    "---"
   ]
  },
  {
   "cell_type": "code",
   "execution_count": 2,
   "metadata": {},
   "outputs": [],
   "source": [
    "import pandas as pd\n",
    "import numpy as np\n",
    "import matplotlib.pylab as plt\n",
    "import scipy.stats as stats\n",
    "import math\n",
    "%matplotlib inline"
   ]
  },
  {
   "cell_type": "markdown",
   "metadata": {},
   "source": [
    "[Back to top](#top)\n",
    "\n",
    "<a id='p1'></a>\n",
    "\n",
    "## (25 pts) Problem 1 (Theory): Working with Distributions\n",
    "***\n",
    "\n",
    "One takeaway from our exercise on homework 1 might be the statement that \"Boulder has storm that generates over 12 inches of rain **once per 100 years**.\"  Let's explore what that probability statement might imply!\n",
    "\n",
    "**Part A**: Suppose that attempt to *count* occurrences of \"massive rainfall\" with a Poisson process.  For a *fixed* interval of 100 years, we would assert that the rate $\\lambda$ of massive rainfalls is $\\lambda = 1 \\frac{heavy\\, rain}{100 \\, yr \\, interval.}$\n",
    "\n",
    "Using `stats.poisson` and the related functions, print a list of the probabilities of observing exactly $k$ such storms in a 100-year interval for $k=0,1,2,\\dots 10$. "
   ]
  },
  {
   "cell_type": "code",
   "execution_count": 13,
   "metadata": {},
   "outputs": [
    {
     "name": "stdout",
     "output_type": "stream",
     "text": [
      "[array([9.90049834e-01, 9.90049834e-03, 4.95024917e-05, 1.65008306e-07,\n",
      "       4.12520764e-10, 8.25041528e-13, 1.37506921e-15, 1.96438459e-18,\n",
      "       2.45548074e-21, 2.72831193e-24, 2.72831193e-27])]\n"
     ]
    }
   ],
   "source": [
    "# use stats.poisson and related functions\n",
    "# create list of probability of observing \n",
    "# exactly k massive rainfalls in 100 years for k = 0, 1, 2, ... 10\n",
    "    # Poisson is of X: total # of events in a time period, lamba = rate\n",
    "lambduh = 1/100    \n",
    "k = [i for i in range(11)]\n",
    "poissonList = [stats.poisson.pmf(k, lambduh)]\n",
    "print(poissonList)"
   ]
  },
  {
   "cell_type": "markdown",
   "metadata": {},
   "source": [
    "**Part B**: We could instead consider describing the process of \"each year is independently and identically likely to contain a heavy storm with probability $1/100$.\"  This would suggest a different random variable to count the number of heavy storms in a 100 year period.  Which one?\n",
    "\n",
    "Using the appropriate random variable and its implementation in `scipy.stats`, again print a list of the probabilities of observing exactly $k$ storms in a 100-year interval (again, do all of $k=0,1,2,\\dots 10$)."
   ]
  },
  {
   "cell_type": "markdown",
   "metadata": {},
   "source": [
    "This would suggest the $\\boxed{Binomial}$ random variable."
   ]
  },
  {
   "cell_type": "code",
   "execution_count": 16,
   "metadata": {},
   "outputs": [
    {
     "name": "stdout",
     "output_type": "stream",
     "text": [
      "[array([3.66032341e-01, 3.69729638e-01, 1.84864819e-01, 6.09991658e-02,\n",
      "       1.49417149e-02, 2.89778712e-03, 4.63450803e-04, 6.28634566e-05,\n",
      "       7.38169377e-06, 7.62195092e-07, 7.00603569e-08])]\n"
     ]
    }
   ],
   "source": [
    "binomialList = [stats.binom.pmf(k, 100, lambduh)]\n",
    "print(binomialList)"
   ]
  },
  {
   "cell_type": "markdown",
   "metadata": {},
   "source": [
    "**Part C**: Are your results in Part A and Part B the same?  Why or why not?  What fundamental assumptions are different in using a Poisson model to describe this process instead of the model in Part B?"
   ]
  },
  {
   "cell_type": "markdown",
   "metadata": {},
   "source": [
    "The results in part A and B are not the same. This is because in the Poisson model, instead of assuming that every year there is a $\\frac{1}{100}$ chance to get a heavy storm, it assumes that in 100 years there is a $\\frac{1}{100}$ chance to get a heavy storm, so its probabilities for 0 and 1 storms is much higher, while its probabilities for 2 through 10 storms is much lower than the binomial."
   ]
  },
  {
   "cell_type": "markdown",
   "metadata": {},
   "source": [
    "**Part D**: We could also use the *Geometric* random variable to track an event like \"what is the probability that we *don't* observe a single heavy storm in the 100 year interval.\"  Would this calculation agree with the corresponding probability (observing $k=0$ storms) from the models in Parts A and B?  Why or why not?  You may use code to justify your answer."
   ]
  },
  {
   "cell_type": "markdown",
   "metadata": {},
   "source": [
    "The following code calculates the probability that there is not a heavy storm for 100 years, until the 101st year.\n",
    "It does not match Part A because like part B it assumes that there is a $\\frac{1}{100}$ chance each year to get a heavy storm, while Part A assumes there is a $\\frac{1}{100}$ chance in 100 years. It does match Part B, because the geometric calculates the probability of 0 heavy storms in 100 years AND then 1 heavy storm in the 101st year, and since we're assuming independent trials, it calculates \n",
    "$$P(0~heavy~storms~in~100~years)*P(1~heavy~storm~in~101st~year) = P(0~heavy~storms~in~100~years)*\\frac{1}{100} = (from~code)~0.003660323412732292 \\Rightarrow P(0~heavy~storms~in~100~years) = 0.3660323412732292$$\n",
    "\n",
    "This matches the result from part B for 0 storms in 100 years exactly."
   ]
  },
  {
   "cell_type": "code",
   "execution_count": 23,
   "metadata": {},
   "outputs": [
    {
     "name": "stdout",
     "output_type": "stream",
     "text": [
      "[0.003660323412732292]\n"
     ]
    }
   ],
   "source": [
    "probYear101Storm = [stats.geom.pmf(101, lambduh)]\n",
    "print(probYear101Storm)"
   ]
  },
  {
   "cell_type": "markdown",
   "metadata": {},
   "source": [
    "[Back to top](#top)\n",
    "\n",
    "<a id='p2'></a>\n",
    "\n",
    "## (25 pts) Problem 2 (Computation): Working with Continuous Distributions\n",
    "***\n",
    "Suppose you are creating a model to describe how long it takes you to complete your homework assignments.  For each assignment, the time required is a random variable $X$ that returns the number of hours required for that assignment.  You decide to use the following pdf for $X$:\n",
    "\n",
    "$$\n",
    "f(x) = \\begin{cases}\n",
    "         k \\ x \\ e^{\\left(-\\frac{x^2}{4}\\right)} & 0 \\leq x < \\infty \\\\\n",
    "         0                           & \\text{otherwise}\n",
    "       \\end{cases}\n",
    "$$\n",
    "where $k$ is some normalizing constant.\n",
    "\n",
    "**Part A**: Determine the value of $k$ such that $f(x)$ is a valid probability density function. Then, make a plot of the probability density function, $f(x)$. Be sure to label your plot and axes!"
   ]
  },
  {
   "cell_type": "markdown",
   "metadata": {},
   "source": [
    "$1 = \\int_{0}^{\\infty} kxe^{(-\\frac{x^2}{4})} \\,dx = k\\int_{0}^{\\infty} xe^{(-\\frac{x^2}{4})}$ let $u = (-\\frac{x^2}{4})$ then $du = \\frac{-2}{4}xdx \\Rightarrow xdx = -2du \\Rightarrow -2k\\int_{0}^{-\\infty} e^{u}du = -2k[e^u]_{0}^{-\\infty} = -2k[0 - 1] = 2k = 1 \\Rightarrow \\boxed{k = \\frac{1}{2}}$"
   ]
  },
  {
   "cell_type": "code",
   "execution_count": 18,
   "metadata": {},
   "outputs": [
    {
     "data": {
      "image/png": "[encoded data removed]",
      "text/plain": [
       "<Figure size 432x288 with 1 Axes>"
      ]
     },
     "metadata": {
      "needs_background": "light"
     },
     "output_type": "display_data"
    }
   ],
   "source": [
    "def func(x):\n",
    "    if(x >= 0):\n",
    "        return 0.5*x*math.exp(-(x**2)/4)\n",
    "    else:\n",
    "        return 0\n",
    "    \n",
    "x_axis_values = [i/10 for i in range(101)]\n",
    "y_axis_values = [func(x_i) for x_i in x_axis_values]\n",
    "\n",
    "fig = plt.figure()\n",
    "ax = fig.add_subplot(111)\n",
    "ax.plot(x_axis_values, y_axis_values)\n",
    "ax.set(title='PDF f(x)', ylabel='Probability Density of Number of Hours', xlabel='Hours for Assignment');"
   ]
  },
  {
   "cell_type": "markdown",
   "metadata": {},
   "source": [
    "**Part B**: Compute *by hand* the cumulative density (cdf) function $F(x)$ for $X$."
   ]
  },
  {
   "cell_type": "markdown",
   "metadata": {},
   "source": [
    "$F(x) = \\frac{1}{2}\\int_{0}^{x} te^{(-\\frac{t^2}{4})}dt$ let $u = (-\\frac{t^2}{4})$ then $du = \\frac{-1}{2}tdt \\Rightarrow tdt = -2du \\Rightarrow F(x) = -\\int_{0}^{(-\\frac{x^2}{4})} e^{u}du = -[e^u]_{0}^{(-\\frac{x^2}{4})} = -[e^{(-\\frac{x^2}{4})} - 1] \\Rightarrow \\boxed{F(x) = -e^{(-\\frac{x^2}{4})} + 1}$\n"
   ]
  },
  {
   "cell_type": "markdown",
   "metadata": {},
   "source": [
    "**Part C:**  Use the cdf you derived in **Part B** to calculate the median ($\\tilde{x}$) time required for an assignment."
   ]
  },
  {
   "cell_type": "markdown",
   "metadata": {},
   "source": [
    "$0.5 = -e^{(-\\frac{x^2}{4})} + 1 \\Rightarrow 0.5 = e^{(-\\frac{x^2}{4})} \\Rightarrow \\ln(0.5) = -\\frac{x^2}{4} \\Rightarrow -4\\ln(0.5) = x^2 \\Rightarrow x = \\sqrt{-4\\ln(0.5)} \\Rightarrow \\boxed{\\tilde{x} = 1.665}$"
   ]
  },
  {
   "cell_type": "markdown",
   "metadata": {},
   "source": [
    "**Part D**: It is a well-known fact that any assignment that takes longer than 200 minutes is **abhorrent**. Use the cdf you computed in **Part B** to find the probability that any arbitrary assigment that you observe is abhorrent."
   ]
  },
  {
   "cell_type": "markdown",
   "metadata": {},
   "source": [
    "200 minutes is around 3.33 hours, so we want to find $P(X > 3.33)$ which is equivalent to $1 - P(X \\leq 3.33) = 1 - F(3.33) = \\boxed{0.0622}$"
   ]
  },
  {
   "cell_type": "markdown",
   "metadata": {},
   "source": [
    "**Part E:**  You've done some homework and tallied up the results! Suppose you sample 6 assignment durations, and the duration of any one assignment is independent of the duration of the others. What is the probability that at least 3 but not all of them are **not** abhorrent?"
   ]
  },
  {
   "cell_type": "markdown",
   "metadata": {},
   "source": [
    "For the event E = \"at least 3 abhorrent and at most 5 out of 6 assignements\" let p = 0.0622 the probability that an assignment is abhorrent\n",
    "\n",
    "P(E) = ${6 \\choose 3} p^3(1-p)^3 + {6 \\choose 4} p^4(1-p)^2 + {6 \\choose 5}p^5(1-p) = \\boxed{0.00417}$ "
   ]
  },
  {
   "cell_type": "markdown",
   "metadata": {},
   "source": [
    "[Back to top](#top)\n",
    "\n",
    "<a id='p3'></a>\n",
    "\n",
    "## (45 pts) Problem 3: Simulation (Stochastic Integration)\n",
    "***\n",
    "\n",
    "One really cool application of random variables is using them to approximate integrals/areas - an extension of the estimation of $\\pi$ done in nb04.  The random method of approximating integrals is used frequently in computational science to approximate really difficult integrals that we *never* want to do by hand.  In this exercise you'll figure out how we can do this in practice and test your method on an integral that we could do by hand. "
   ]
  },
  {
   "cell_type": "markdown",
   "metadata": {
    "collapsed": true
   },
   "source": [
    "**Part A.**  Let $L$ be a random variable representing how happy your new desk plant, Fernoulli Jr., is today.  It's measured by the **Lushness Index** (LI).  Suppose the probability density function for $L$ is on a scale from zero to one, and is described by an arcsine function:\n",
    "\n",
    "$$\n",
    "f_L(a) = \\begin{cases}\n",
    "         \\left(\\frac{1}{\\frac{\\pi}{2}-1}\\right)\\sin^{-1}(a) & 0 \\leq a \\leq 1 \\\\\n",
    "         0                           & \\text{otherwise}\n",
    "         \\end{cases}\n",
    "$$\n",
    "\n",
    "A Lushness Index of 1 means Fernoulli Jr. is feeling  well-watered, content, and ready to perform binary statistical experiments.  A Lushness Index of 0 means that your plant is really in need of some more sunlight.  \n",
    "\n",
    "\n",
    "\n",
    "Compute **by hand**, the integral of $f(a)$ for $0 \\leq a \\leq 1/2$.  Write a sentence or two to interpret your result physically, in the context of this problem set-up.\n",
    "\n",
    "*Hint*: this is classically an integral that makes use of the fact that $\\frac{d}{dx} \\sin^{-1}(x)=\\frac{1}{\\sqrt{1-x^2}}$.  That sounds like *\"part\"* of the solution.  You should also probably make sure you take a look at the plot of $f$, making mental note of it's minima, maxima, etc. over that interval."
   ]
  },
  {
   "cell_type": "markdown",
   "metadata": {},
   "source": [
    "$\\frac{1}{\\pi/2 - 1} \\int_{0}^{1/2} \\sin^{-1}(a) da$ let $u = \\sin^{-1}(a) \\Rightarrow a = \\sin(u)\\Rightarrow du = \\frac{1}{\\sqrt{1-a^2}}da = \\frac{1}{\\sqrt{1-\\sin(u)^2}}da = \\frac{1}{\\sqrt{\\cos(u)^2}}da \\Rightarrow \\cos(u)du = da$\n",
    "\n",
    "Now subbing in for u, the integral is $\\frac{1}{\\pi/2 - 1} \\int_{0}^{\\pi/6} ucos(u)du$ Using integration by parts, $w = u~~dw=du~~dv=cos(u)du~~v=sin(u)$\n",
    "\n",
    "The integral comes out to $\\frac{1}{\\pi/2 - 1}([usin(u)]_0^{\\pi/6} - \\int_0^{\\pi/6} sin(u)du) = \\frac{1}{\\pi/2 - 1}([\\pi/12 - 0] + [cos(u)]_0^{\\pi/6}) = \\frac{1}{\\pi/2 - 1}(\\pi/12 + \\sqrt3/2 - 1) = \\boxed{0.224}$\n",
    "\n",
    "This result represents the CDF of the function evaluated at $\\frac{1}{2}$ so physically, the result means that the probability of Fernoulli's Lushness Index being less than or equal to 1/2 is 0.224."
   ]
  },
  {
   "cell_type": "markdown",
   "metadata": {},
   "source": [
    "**Part B.** What is the maximum of $f_L(a)$ over the interval $[0,1]$?  For the rest of the problem, we will refer to this value by $m$."
   ]
  },
  {
   "cell_type": "markdown",
   "metadata": {},
   "source": [
    "The max value of $f_L(a)$ in $[0,1]$ is at $a = 1 \\Rightarrow f_L(1) = \\boxed{m = 2.75}$"
   ]
  },
  {
   "cell_type": "markdown",
   "metadata": {},
   "source": [
    "**Part C.** Suppose we sample a continuous uniform random variable $X\\sim U(0,1/2)$ and another  random variable $Y \\sim U(0,m)$ and think of them as $x$- and $y$-coordinates of a point in the box $[0,1/2] \\times [0,m]$, or inside the box composed of all points $\\{(x,y)\\,|\\, x \\in [0,1/2], y \\in [0,m]\\}.$  \n",
    "\n",
    "If we compute the ratio of points that fall under the curve $f(x)$ to the total points sampled, what does this value estimate? "
   ]
  },
  {
   "cell_type": "markdown",
   "metadata": {},
   "source": [
    "$\\frac{num~points~under~f(x)}{total~num~points}$  estimates the probability that any given point (X, Y) would fall under f(x)."
   ]
  },
  {
   "cell_type": "markdown",
   "metadata": {},
   "source": [
    "**Part D.** How could we modify the process outlined in the previous part so that our estimator estimates the value of the desired integral?  If you need inspiration, check out the in-class notebook on Stochastic Simulation (#4), specifically, the exercise where we estimated $\\pi$!"
   ]
  },
  {
   "cell_type": "markdown",
   "metadata": {},
   "source": [
    "$\\frac{Area~under~f(x)}{Total~Rectangle~Area} \\approx \\frac{num~points~under~f(x)}{total~num~points} \\Rightarrow Area~under~f(x) \\approx (Total~Rectangle~Area)\\frac{num~points~under~f(x)}{total~num~points}$"
   ]
  },
  {
   "cell_type": "markdown",
   "metadata": {},
   "source": [
    "**Part E.** Complete the function `integrate` below to compute an approximation to the definition integral $\\int_0^{\\text{ub}} f(x)dx$.  Your function should take as arguments:\n",
    "1. `num_samples` -- the number of points to sample,\n",
    "2. `ub` -- a number between $0$ and $1$ that is the upper bound of the integral, and\n",
    "3. `isPlot` -- a Boolean flag for whether or not to display a plot of the results.\n",
    "\n",
    "Your function should return an approximation of the definite integral by sampling $X$ from $U(0,\\text{ub})$ and $Y$ from $U(0,m)$. For each random draw $(X,Y)$, define the random variable $Z$ that represents whether or not the sampled $Y$ value is less than $f(X)$ for the corresponding $X$ value.\n",
    "\n",
    "Your function should perform three tasks: \n",
    "\n",
    "1. return the estimate of the value of the integral,\n",
    "2. return the sample variance of the random variable $Z$ being simulated, using the np.var function, and\n",
    "3. if `isPlot` is True, plot the curve $f(x)$ as well as the location of the points $(X,Y)$, colored according to whether they fall above or below the curve. "
   ]
  },
  {
   "cell_type": "code",
   "execution_count": 126,
   "metadata": {},
   "outputs": [],
   "source": [
    "# GIVEN CODE - Do not change the inputs/outputs or your code will fail unit tests and auto-grading!\n",
    "def asin(x):\n",
    "    return (np.arcsin(x))/(np.pi/2-1)\n",
    "\n",
    "def integrate(num_samples, ub, isPlot):\n",
    "    if ub == 0:\n",
    "        return [0, 0]\n",
    "    \n",
    "    # calculate total rectangle area = m*ub = 2.75*ub\n",
    "    rect_area = 2.75*ub\n",
    "    \n",
    "    # generate num_samples different random points inside X (0, ub) Y (0, 2.75)\n",
    "    sample_X = (1/1000)*np.random.randint(0, ub*1000, num_samples)\n",
    "    sample_Y = (1/1000)*np.random.randint(0, 2750, num_samples)\n",
    "    \n",
    "    # count how many of samples are under f(x) \n",
    "    # a.k.a. calculate f(sample_X) if sample_Y >= f(sample_X) not under curve\n",
    "    f_sample_X = [asin(sample_X)]\n",
    "    under_curve = sample_Y < f_sample_X # if true, means point under curve, if false, means point above or at curve\n",
    "    num_points_under = np.sum(under_curve)\n",
    "    \n",
    "    # calculate estimate of probability that points under curve\n",
    "    prob_under = num_points_under / num_samples\n",
    "    \n",
    "    # calculate estimate for integral\n",
    "    estimate = rect_area*prob_under\n",
    "    \n",
    "    # calculate sample variance\n",
    "    sample_var = np.var(under_curve)\n",
    "    \n",
    "    if isPlot:\n",
    "        fig, ax = plt.subplots(nrows=1, ncols=1, figsize=(12,6)) \n",
    "        # plot the curve f(x) \n",
    "        X = [i/1000 for i in range(0, int(ub*1000))]\n",
    "        ax.plot(X, asin(X), color='black')\n",
    "        ax.set_ylabel('f (x)')\n",
    "        ax.set_xlabel('x')\n",
    "        plt.title('f(x) and randomly sampled points within bounds')\n",
    "        # plot points (X, Y) colored according to below or above the curve\n",
    "            # use under_curve boolean array for this\n",
    "        # for some reason under_curve is an array of one entry which is an array of booleans\n",
    "        # this is just an easy way to get it out for use in my loop\n",
    "        for one in under_curve:\n",
    "            index = 0\n",
    "            for u_c in one:\n",
    "                if u_c == 1:\n",
    "                    # means under curve plot point in green\n",
    "                     ax.scatter(sample_X[index], sample_Y[index], color='limegreen')\n",
    "                else:\n",
    "                    # means not, plot in red\n",
    "                    ax.scatter(sample_X[index], sample_Y[index], color='red')\n",
    "\n",
    "                index += 1\n",
    "            \n",
    "    return estimate, sample_var "
   ]
  },
  {
   "cell_type": "markdown",
   "metadata": {},
   "source": [
    "**Part F.** Write your own small unit tests!\n",
    "\n",
    "First, what should your `integrate` function output if you plug in `ub=0`? Set that as `int_0_to_0` below.\n",
    "\n",
    "Second, what should your `integrate` function output if you plug in `ub=`1?  (Is this actually a valid pdf?) Set that as `int_0_to_1` below.\n",
    "\n",
    "Then, you can execute the cell below to run two sanity checks. Write out **in math** (like, a definite integral) what each of these two tests is checking and **why** that is a reasonable sanity check.\n",
    "\n",
    "If these two assertions run without fail, then things seem to be working okay. Note that the upper endpoint test involves randomness, so if it fails, try running it a few times. If it fails a lot, then things are probably going wrong."
   ]
  },
  {
   "cell_type": "code",
   "execution_count": 106,
   "metadata": {},
   "outputs": [],
   "source": [
    "int_0_to_0  =  0\n",
    "int_0_to_1 =  1\n",
    "\n",
    "\n",
    "#---------------------------------------\n",
    "# DO NOT EDIT THIS CELL BELOW HERE\n",
    "#---------------------------------------\n",
    "assert integrate(1000, 0, False)[0]==int_0_to_0, \"Error: lower endpoint test failing\"\n",
    "assert math.isclose(integrate(10000, 1, False)[0],int_0_to_1,abs_tol=0.03), \"Error: upper endpoint test failing\""
   ]
  },
  {
   "cell_type": "markdown",
   "metadata": {},
   "source": [
    "The first test is checking to ensure that $\\int_0^0 f(x)dx = 0$ because that is true for any $f(x)$.\n",
    "\n",
    "The second test is checking to ensure that $\\int_0^1 f(x)dx = 1$ and because we are given that f(x) is a pdf with values only in $[0,1]$ we know that $\\int_0^1 f(x)dx$ should be equal to 1 to make it a valid pdf."
   ]
  },
  {
   "cell_type": "markdown",
   "metadata": {},
   "source": [
    "**Part G.** Run your simulation with `isPlot=True` and `ub=`$1/2$ for 1,000 samples so we can see your plot. Then, run your simulation (with `isPlot=False`) with at least 10,000 samples and estimate the value of the given integral. Be sure to leave your cells evaluated for the graders! Does your estimate agree with the exact value of the integral you computed in **Part A**?  As a whole, what advantage does this process offer over actually doing the integral by hand?"
   ]
  },
  {
   "cell_type": "code",
   "execution_count": 127,
   "metadata": {},
   "outputs": [
    {
     "name": "stdout",
     "output_type": "stream",
     "text": [
      "(Estimate, Sample Variance)\n",
      "(0.2215125, 0.13514679000000002)\n"
     ]
    },
    {
     "data": {
      "image/png": "[encoded data removed]",
      "text/plain": [
       "<Figure size 864x432 with 1 Axes>"
      ]
     },
     "metadata": {
      "needs_background": "light"
     },
     "output_type": "display_data"
    }
   ],
   "source": [
    "#Integrate, plot, and estimate!\n",
    "integrate(1000, 0.5, True)\n",
    "result = integrate(10000, 0.5, False)\n",
    "print(\"(Estimate, Sample Variance)\")\n",
    "print(result)"
   ]
  },
  {
   "cell_type": "markdown",
   "metadata": {},
   "source": [
    "This estimate of 0.222 agrees with the exact result calculated by hand of 0.224.\n",
    "\n",
    "As a whole, the advantage of this process over actually doing the integral by hand is that some integrals do not have solutions that can be found by hand, and they must be approximated. Also, integrals can be time consuming or require a specific technique that can be avoided with this method."
   ]
  }
 ],
 "metadata": {
  "kernelspec": {
   "display_name": "Python 3",
   "language": "python",
   "name": "python3"
  },
  "language_info": {
   "codemirror_mode": {
    "name": "ipython",
    "version": 3
   },
   "file_extension": ".py",
   "mimetype": "text/x-python",
   "name": "python",
   "nbconvert_exporter": "python",
   "pygments_lexer": "ipython3",
   "version": "3.8.3"
  }
 },
 "nbformat": 4,
 "nbformat_minor": 2
}
