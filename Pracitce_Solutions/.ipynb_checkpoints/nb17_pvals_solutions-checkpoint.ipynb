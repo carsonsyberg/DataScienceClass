{
 "cells": [
  {
   "cell_type": "markdown",
   "metadata": {},
   "source": [
    "# Notebook 17: Introduction to P-Values\n",
    "***\n",
    "\n",
    "We'll need Numpy, Matplotlib, and scipy.stats for this notebook, so let's load them. "
   ]
  },
  {
   "cell_type": "code",
   "execution_count": 2,
   "metadata": {},
   "outputs": [],
   "source": [
    "import numpy as np\n",
    "import pandas as pd\n",
    "from scipy import stats\n",
    "import matplotlib.pylab as plt \n",
    "%matplotlib inline"
   ]
  },
  {
   "cell_type": "markdown",
   "metadata": {},
   "source": [
    "### Exercise 1 - Concept Check\n",
    "*** \n",
    "\n",
    "Suppose there is a random variable $X$ with a **triangular distribution** $f(x)$ given by\n",
    "\n",
    "$f(x) =\n",
    "\\begin{cases} cx & 0 \\leq x \\leq \\dfrac{1}{2} \\\\\n",
    "              c(1-x) & \\dfrac{1}{2} \\leq x \\leq 1 \\\\\n",
    "              0 & \\text{otherwise}\n",
    "\\end{cases}$\n",
    "\n",
    "where $c$ is some normalizing constant.\n",
    "\n",
    "**Part A:** What value should $c$ have in order for $f(x)$ to be a proper probability density function?"
   ]
  },
  {
   "cell_type": "markdown",
   "metadata": {},
   "source": [
    "**Solution:**\n",
    "\n",
    "$c$ needs to be chosen such that the integral of $f$ from $0$ to $1$ is equal to $1$ (since $f(x)=0$ outside of $[0,1]$). \n",
    "\n",
    "$\\dfrac{1}{2} \\stackrel{\\heartsuit}{=} \\int_0^{1/2} cx\\ dx = \\dfrac{1}{2}cx^2 \\bigg|_0^{1/2} = \\dfrac{1}{2}c\\left(\\dfrac{1}{2}\\right)^2 = \\dfrac{c}{8} ~~\\longrightarrow~~ \\fbox{$c=4$}$\n",
    "\n",
    "We can check this based on the fact that the distribution is a triangle with base width 1 and height $f(1/2) = 4\\cdot \\dfrac{1}{2} = 2$, so it has area $\\dfrac{1}{2} \\cdot 1 \\cdot 2 = 1~~\\checkmark$"
   ]
  },
  {
   "cell_type": "markdown",
   "metadata": {},
   "source": [
    "**Part B:** Suppose you wish to test the hypothesis that the mean of the distribution for $X$ is equal to $1/2$ against the alternative hypothesis that this mean is *not* equal to $1/2$. You collect some data for $X$ and find a test statistic $\\hat{X} = 3/4$.\n",
    "\n",
    "Recall the a p-value is the probability of observing a test statistic as extreme or more extreme than our measurement (which is $3/4$ here). \"More extreme\" than our test statistic means anything equally or less likely to observe than $3/4$: so, $X \\geq 3/4$ and $X \\leq 1/4$. Sketch a picture to depict the p-value associated with our hypothesis test. Shade in the area that corresponds to the p-value."
   ]
  },
  {
   "cell_type": "code",
   "execution_count": 3,
   "metadata": {},
   "outputs": [
    {
     "data": {
      "image/png": "[encoded data removed]",
      "text/plain": [
       "<Figure size 504x360 with 1 Axes>"
      ]
     },
     "metadata": {
      "needs_background": "light"
     },
     "output_type": "display_data"
    },
    {
     "name": "stdout",
     "output_type": "stream",
     "text": [
      "0.6914624612740131\n"
     ]
    }
   ],
   "source": [
    "x1 = np.array([0,0.25,0.5])\n",
    "x2 = np.array([0.5,0.75,1])\n",
    "y1 = 4*x1\n",
    "y2 = 4*(1-x2)\n",
    "xp = [0.75,1]\n",
    "yp = [1.25, 1.5]\n",
    "\n",
    "fig, ax = plt.subplots(nrows=1, ncols=1, figsize=(7,5))\n",
    "plt.plot(x1,y1,color='steelblue')\n",
    "plt.plot(x2,y2,color='steelblue')\n",
    "ax.fill_between(x1[:2], y1[:2], color='red', alpha=0.5)\n",
    "ax.fill_between(x2[1:], y2[1:], color='red', alpha=0.5)\n",
    "ax.set_xlim([-0.1,1.1])\n",
    "ax.set_ylim([0,2.2])\n",
    "ax.set_xticks([0,.25,.5,.75,1])\n",
    "ax.set_xlabel('x', fontsize=16)\n",
    "ax.set_ylabel('density', fontsize=16)\n",
    "ax.text(0.6,1.7,'f(x)', fontsize=16)\n",
    "ax.text(0.78,1,'p-value', fontsize=16)\n",
    "plt.show()"
   ]
  },
  {
   "cell_type": "markdown",
   "metadata": {},
   "source": [
    "**Part C:** Compute the p-value associated with our hypothesis test."
   ]
  },
  {
   "cell_type": "markdown",
   "metadata": {},
   "source": [
    "**Solution:**\n",
    "\n",
    "$\\begin{align*}\n",
    "  \\text{p-value} &= \\int_0^{1/4} f(x)\\ dx + \\int_{3/4}^1 f(x)\\ dx \\\\\n",
    "                 &= \\int_0^{1/4} 4x\\ dx + \\int_{3/4}^1 (4-4x)\\ dx \\\\\n",
    "                 &= 2x^2 \\bigg|_0^{1/4} + (4x-2x^2)\\bigg|_{3/4}^1 \\\\\n",
    "                 &= 2\\cdot \\dfrac{1}{16} + (4-2) - \\left(4\\cdot \\dfrac{3}{4} - 2\\cdot \\dfrac{9}{16}\\right) \\\\\n",
    "                 &= \\dfrac{1}{8} + 2 - \\left(3 - \\dfrac{9}{8}\\right) \\\\\n",
    "                 &= \\dfrac{17}{8} - \\dfrac{15}{8} = \\dfrac{2}{8} = \\fbox{$0.25$}\n",
    "\\end{align*}$\n",
    "\n",
    "Again, we can check this using the fact that each tail of the p-value area is a triangle with base length $1/4$ and height $4\\cdot 1/4 = 1$, so the total area is $2 \\cdot \\dfrac{1}{2}\\cdot \\dfrac{1}{4}\\cdot 1 = \\dfrac{1}{4}~~\\checkmark$"
   ]
  },
  {
   "cell_type": "markdown",
   "metadata": {},
   "source": [
    "### Exercise 2 - Estimating the Distribution of P-Values \n",
    "*** \n",
    "\n",
    "Suppose you have a population that is normally distributed with mean $\\mu_0$ and standard deviation $\\sigma$. In this problem you will simulate many draws from this distribution with a particular sample size and compute p-values for the alternate hypothesis that that $\\mu \\neq \\mu_0$. Finish the function below in order to sample `sample_size` number of p-values.\n",
    "\n",
    "Then, plot a histogram of the sampled p-values. Set the bin width to be equal to the significance level $\\alpha$. What can you say about the distribution of p-values in the case where the Null hypothesis is actually true?  About what proportion of the sampled p-values are such that $p \\leq \\alpha$?      "
   ]
  },
  {
   "cell_type": "code",
   "execution_count": 3,
   "metadata": {},
   "outputs": [
    {
     "data": {
      "image/png": "[encoded data removed]",
      "text/plain": [
       "<Figure size 864x288 with 1 Axes>"
      ]
     },
     "metadata": {},
     "output_type": "display_data"
    }
   ],
   "source": [
    "def pvalue_dist(num_tests=10000, sample_size=100, mu0=20, sig=2, alpha=0.05):\n",
    "    \n",
    "    fig, ax = plt.subplots(nrows=1, ncols=1, figsize=(12,4))\n",
    "    bins = np.linspace(0, 1, int(1/alpha)+1)\n",
    "    ps = np.zeros(num_tests)\n",
    "    for ii in range(num_tests):\n",
    "        xbar = np.mean(stats.norm.rvs(mu0,sig,size=sample_size))\n",
    "        z = (xbar-mu0)/(sig/np.sqrt(sample_size))\n",
    "        ps[ii] = 2*np.min([stats.norm.cdf(z), 1-stats.norm.cdf(z)])\n",
    "    pd.Series(ps).hist(ax=ax, color=\"steelblue\", edgecolor=\"white\", bins=bins, density=True)\n",
    "    ax.grid(alpha=0.25)\n",
    "    ax.set_axisbelow(True)\n",
    "    \n",
    "pvalue_dist(num_tests=int(1e5), sample_size=500)"
   ]
  },
  {
   "cell_type": "markdown",
   "metadata": {},
   "source": [
    "When the null hypothesis is true, the distribution of p-values is is uniform.  Since the bin width is equal to the significance level $\\alpha$ we know that the the proportion of p-values that are less than or equal to $\\alpha$ is exactly $\\alpha$. "
   ]
  },
  {
   "cell_type": "code",
   "execution_count": null,
   "metadata": {},
   "outputs": [],
   "source": []
  }
 ],
 "metadata": {
  "kernelspec": {
   "display_name": "Python 3",
   "language": "python",
   "name": "python3"
  },
  "language_info": {
   "codemirror_mode": {
    "name": "ipython",
    "version": 3
   },
   "file_extension": ".py",
   "mimetype": "text/x-python",
   "name": "python",
   "nbconvert_exporter": "python",
   "pygments_lexer": "ipython3",
   "version": "3.8.3"
  }
 },
 "nbformat": 4,
 "nbformat_minor": 2
}
